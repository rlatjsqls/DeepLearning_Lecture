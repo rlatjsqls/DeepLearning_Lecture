{
  "nbformat": 4,
  "nbformat_minor": 0,
  "metadata": {
    "colab": {
      "provenance": []
    },
    "kernelspec": {
      "name": "python3",
      "display_name": "Python 3"
    },
    "language_info": {
      "name": "python"
    }
  },
  "cells": [
    {
      "cell_type": "markdown",
      "source": [
        "# 변수\n",
        "\n",
        "값을 저장하는 메모리 공간.\n",
        "- 변수 이름과 값을 할당하여 생성한다. ex) a = 10\n",
        "- 변수 이름은 식별자로 불리며, 식별자를 통해 변수를 사용할 수 있다.\n",
        "- 프로그램 실행동안, 몇번이고"
      ],
      "metadata": {
        "id": "0dROXSZIjWIK"
      }
    },
    {
      "cell_type": "code",
      "source": [
        "# 1. 변수 a에 10저장\n",
        "a = 10\n",
        "# 2. 변수 a 출력\n",
        "print(a)\n",
        "\n",
        "# 3. 변수 a에 20저장\n",
        "a = 20\n",
        "# 4. 변수 a 출력\n",
        "print(a)"
      ],
      "metadata": {
        "colab": {
          "base_uri": "https://localhost:8080/"
        },
        "id": "V9kkk5htj3f7",
        "outputId": "dc7c881f-0bbc-440a-bfaf-4f39a1ec2d04"
      },
      "execution_count": null,
      "outputs": [
        {
          "output_type": "stream",
          "name": "stdout",
          "text": [
            "10\n",
            "20\n"
          ]
        }
      ]
    },
    {
      "cell_type": "markdown",
      "source": [
        "# 숫자형 자료형\n",
        "변수에 저장되는 데이터 형식\n",
        "\n",
        "\n",
        "---\n",
        "\n",
        "정수형(int)\n",
        "- 정수형은 음의 정수, 0, 자연수 등 정수 값을 나타내는 자료형.\n",
        "- ex) -5, -153, 0, 3, 1456\n",
        "\n",
        "---\n",
        "\n",
        "실수형(float)\n",
        "- 정수와 소수접으로 표현되는 모든 값을 나타내는 자료형.\n",
        "- ex) -5.0, -123.4, 0.0, 3.12, 532.14\n",
        "\n",
        "---\n",
        "\n",
        "8진수(0o)\n",
        "- 8진수 표현법.\n",
        "- '0o숫자'의 형식으로 표현.\n",
        "\n",
        "---\n",
        "\n",
        "16진수(0x)\n",
        "- 16진수 표현법\n",
        "- '0x숫자'의 형식으로 표현\n",
        "- 0~9, 10:A, 11:B, 12:C, 13:D, 14:E, 15:F\n",
        "- ex) oxF -> 정수로 15의 값을 가지게 됨."
      ],
      "metadata": {
        "id": "joZ9X7TfkPI6"
      }
    },
    {
      "cell_type": "code",
      "source": [
        "# 변수 선언 : 변수이름 = 값\n",
        "# 변수가 자료형을 스스로 판단하여 지정해준다.\n",
        "# type() 함수를 사용하여 변수의 자료형을 확인할 수 있다.\n",
        "\n",
        "a = 10\n",
        "b = 10.123\n",
        "c = 0o111\n",
        "d = 0x88f\n",
        "\n",
        "print(a)\n",
        "print(b)\n",
        "print(c)\n",
        "print(d)\n",
        "\n",
        "print(type(a))\n",
        "print(type(b))\n",
        "print(type(c))\n",
        "print(type(d))"
      ],
      "metadata": {
        "colab": {
          "base_uri": "https://localhost:8080/"
        },
        "id": "SDW0Fh7KkRZr",
        "outputId": "513ac4e8-60a3-4a7a-ffc6-2e87403fa13e"
      },
      "execution_count": null,
      "outputs": [
        {
          "output_type": "stream",
          "name": "stdout",
          "text": [
            "10\n",
            "10.123\n",
            "73\n",
            "2191\n",
            "<class 'int'>\n",
            "<class 'float'>\n",
            "<class 'int'>\n",
            "<class 'int'>\n"
          ]
        }
      ]
    },
    {
      "cell_type": "markdown",
      "source": [
        "# 연산자\n",
        "숫자형 자료형을 가공하기 위한 연산자\n",
        "- 덧셈 : +\n",
        "- 뺄셈 : -\n",
        "- 곱셈 : *\n",
        "- 나눗셈 : /\n",
        "- 나머지 : %\n",
        "- 제곱 : **\n",
        "- 몫 : //"
      ],
      "metadata": {
        "id": "A5xsUEoeoZv8"
      }
    },
    {
      "cell_type": "code",
      "source": [
        "a = 10\n",
        "b = 5\n",
        "\n",
        "result = a + b\n",
        "print(result)\n",
        "\n",
        "result = a - b\n",
        "print(result)\n",
        "\n",
        "result = a * b\n",
        "print(result)\n",
        "\n",
        "result = a / b\n",
        "print(result)\n",
        "\n",
        "result = a % b\n",
        "print(result)\n",
        "\n",
        "result = a ** b\n",
        "print(result)\n",
        "\n",
        "result = a // b\n",
        "print(result)\n",
        "\n",
        "result = 2 + 3 * 4\n",
        "print(result)\n",
        "\n",
        "result = (2 + 3) * 4\n",
        "print(result)"
      ],
      "metadata": {
        "colab": {
          "base_uri": "https://localhost:8080/"
        },
        "id": "uX8DptqsoUke",
        "outputId": "0b6a703d-5e81-49dd-ee39-d24fb614e0e0"
      },
      "execution_count": null,
      "outputs": [
        {
          "output_type": "stream",
          "name": "stdout",
          "text": [
            "15\n",
            "5\n",
            "50\n",
            "2.0\n",
            "0\n",
            "100000\n",
            "2\n",
            "14\n",
            "20\n"
          ]
        }
      ]
    },
    {
      "cell_type": "markdown",
      "source": [
        "# 문자열 만들기\n",
        "\n",
        "1. 큰따옴표로 양쪽 둘러싸기\n",
        "2. 작은따옴표로 양쪽 둘러싸기\n",
        "3. 큰따옴표 3개를 연속으로 써서 양쪽 둘러싸기\n",
        "4. 작은따옴표 3개를 연속으로 써서 양쪽 둘러싸기\n"
      ],
      "metadata": {
        "id": "Y_SrUNflqS37"
      }
    },
    {
      "cell_type": "code",
      "source": [
        "\"큰따옴표\"\n",
        "\n",
        "'작은 따옴표'\n",
        "\n",
        "a = \"\"\"\n",
        "큰 따옴표\n",
        "\"\"\"\n",
        "\n",
        "print(a)\n",
        "\n",
        "b = '''\n",
        "작은 따옴표\n",
        "'''\n",
        "print(b)\n",
        "\n"
      ],
      "metadata": {
        "id": "G4nNURZwpYf9",
        "colab": {
          "base_uri": "https://localhost:8080/"
        },
        "outputId": "80e3258f-413c-40e7-aec4-61f8d372aa04"
      },
      "execution_count": null,
      "outputs": [
        {
          "output_type": "stream",
          "name": "stdout",
          "text": [
            "\n",
            "큰 따옴표\n",
            "\n",
            "\n",
            "작은 따옴표\n",
            "\n"
          ]
        }
      ]
    },
    {
      "cell_type": "markdown",
      "source": [
        "# 이스케이프 문자\n",
        "특수한 문자를 표현하기 위해 사용되는 문자.\n",
        "백슬래쉬(\\)로 시작하는 문자열\n",
        "- \\n, 줄 바꿈 문자\n",
        "- \\t, 탭 문자\n",
        "- \\\\, 백슬래쉬 문자\n",
        "- \\', 작은따옴표 문자\n",
        "- \\\", 큰따옴표 문자"
      ],
      "metadata": {
        "id": "MGTrYETgq0As"
      }
    },
    {
      "cell_type": "code",
      "source": [
        "a = '누구는 말했다. \\n\\'최선을 다하라\\''\n",
        "print(a)\n",
        "\n",
        "b = \"115\\t23\\t4516\"\n",
        "c = \"1\\t31255\\t456\"\n",
        "\n",
        "print(b)\n",
        "print(c)"
      ],
      "metadata": {
        "colab": {
          "base_uri": "https://localhost:8080/"
        },
        "id": "f8KEeSILrQHg",
        "outputId": "79792f78-d3db-4ef4-c1c3-7f05ffa1cbed"
      },
      "execution_count": null,
      "outputs": [
        {
          "output_type": "stream",
          "name": "stdout",
          "text": [
            "누구는 말했다. \n",
            "'최선을 다하라'\n",
            "115\t23\t4516\n",
            "1\t31255\t456\n"
          ]
        }
      ]
    },
    {
      "cell_type": "markdown",
      "source": [
        "# 문자열 연산\n",
        "문자열은 덧셈 연산과 곱셈 연산 사용이 가능하다.\n",
        "- 덧셈 : 문자열 + 문자열 -> 문자열이 하나로 합쳐진다.\n",
        "- 곱셈 : 문자열 * 숫자 -> 문자열이 숫자만큼 반복된다.\n"
      ],
      "metadata": {
        "id": "hK_kTXcxrpHl"
      }
    },
    {
      "cell_type": "code",
      "source": [
        "a1 = 'python '\n",
        "a2 = 'is good'\n",
        "\n",
        "text = a1 + a2\n",
        "print(text)\n",
        "\n",
        "text1 = a1 * 5\n",
        "print(text1)\n",
        "\n",
        "print('='*50)"
      ],
      "metadata": {
        "colab": {
          "base_uri": "https://localhost:8080/"
        },
        "id": "D5X_66I1rhWu",
        "outputId": "f5581191-7d51-4e2b-bd62-a599d3cc98a2"
      },
      "execution_count": null,
      "outputs": [
        {
          "output_type": "stream",
          "name": "stdout",
          "text": [
            "python is good\n",
            "python python python python python \n",
            "==================================================\n"
          ]
        }
      ]
    },
    {
      "cell_type": "markdown",
      "source": [
        "# 문자열 인덱싱\n",
        "문자열을 문자 하나하나 나누어, 개별적으로 접근하는 것\n"
      ],
      "metadata": {
        "id": "zSjqiSnCsIcN"
      }
    },
    {
      "cell_type": "markdown",
      "source": [
        "# 문자열 슬라이싱\n",
        "문자열을 원하는 지점부터 원하는 크기만큼 분해하는 것.\n",
        "\n",
        "- 변수명[첫번째항목:마지막항목+1]\n",
        "- 마지막 항목은 포함되지 않아, 추출하고 싶은 마지막 항목+1의 값을 지정해주어야함\n",
        "- 첫번째 항목을 공백으로 놓으면, 0번 인덱스부터 추출.\n",
        "- 마지막 항목을 공백으로 놓으면, 문자열 끝까지 추출"
      ],
      "metadata": {
        "id": "w5csUE4Stfk2"
      }
    },
    {
      "cell_type": "code",
      "source": [
        "text = \"python is good\"\n",
        "\n",
        "#good 문자 가져오기\n",
        "print(text[10]+ text[11]+text[12]+text[13])\n",
        "print(text[10:14])\n",
        "print(text[10:])\n",
        "\n",
        "# pyton 문자 가져오기\n",
        "print(text[:6])"
      ],
      "metadata": {
        "colab": {
          "base_uri": "https://localhost:8080/"
        },
        "id": "WNtKTQ6xsHZf",
        "outputId": "878e74b7-9553-485f-f2ef-a57577edc913"
      },
      "execution_count": null,
      "outputs": [
        {
          "output_type": "stream",
          "name": "stdout",
          "text": [
            "good\n",
            "good\n",
            "good\n",
            "python\n"
          ]
        }
      ]
    },
    {
      "cell_type": "markdown",
      "source": [
        "#문자열 관련 함수\n",
        "- len\n",
        "- count\n",
        "- upper\n",
        "- lower\n",
        "- strip\n",
        "- lstrip\n",
        "- rstrip\n",
        "- split\n",
        "- replace\n",
        "- join"
      ],
      "metadata": {
        "id": "c0Yz_6IuuOEO"
      }
    },
    {
      "cell_type": "markdown",
      "source": [
        "# len()\n",
        "공백, 이스케이프 문자를 포함한 문자열의 길이를 구하는 함수"
      ],
      "metadata": {
        "id": "XoMCdHJyudtF"
      }
    },
    {
      "cell_type": "code",
      "source": [
        "text = 'i love\\tpython.'\n",
        "print(text)\n",
        "print(len(text))"
      ],
      "metadata": {
        "colab": {
          "base_uri": "https://localhost:8080/"
        },
        "id": "uQqu42FYuilA",
        "outputId": "384942f7-6093-4010-84fd-c62922975d19"
      },
      "execution_count": null,
      "outputs": [
        {
          "output_type": "stream",
          "name": "stdout",
          "text": [
            "i love\tpython.\n",
            "14\n"
          ]
        }
      ]
    },
    {
      "cell_type": "markdown",
      "source": [
        "# count()\n",
        "문자열에 속한 특정 문자의 개수를 세는 함수"
      ],
      "metadata": {
        "id": "zwIBMv8kup1k"
      }
    },
    {
      "cell_type": "code",
      "source": [
        "text = 'python is good'\n",
        "print(text.count('o'))\n",
        "print(text.count('a'))"
      ],
      "metadata": {
        "colab": {
          "base_uri": "https://localhost:8080/"
        },
        "id": "VpusgU-0uzbf",
        "outputId": "869ff6fc-c27b-4b7b-a9c6-48b72168791c"
      },
      "execution_count": null,
      "outputs": [
        {
          "output_type": "stream",
          "name": "stdout",
          "text": [
            "3\n",
            "0\n"
          ]
        }
      ]
    },
    {
      "cell_type": "markdown",
      "source": [
        "# join\n",
        "문자열 사이사이에 특정 문자를 삽입하는 함수"
      ],
      "metadata": {
        "id": "xMaeDXaIu8xt"
      }
    },
    {
      "cell_type": "code",
      "source": [
        "text = 'python is good'\n",
        "print('.'.join(text))"
      ],
      "metadata": {
        "colab": {
          "base_uri": "https://localhost:8080/"
        },
        "id": "8G41MrWPvB7N",
        "outputId": "2851293d-c3c9-466b-e8ed-f01ea09bd1fa"
      },
      "execution_count": null,
      "outputs": [
        {
          "output_type": "stream",
          "name": "stdout",
          "text": [
            "p.y.t.h.o.n. .i.s. .g.o.o.d\n"
          ]
        }
      ]
    },
    {
      "cell_type": "markdown",
      "source": [
        "# upper()\n",
        "문자열을 모두 대문자로 변경하는 함수"
      ],
      "metadata": {
        "id": "7UJ9G-33vLqc"
      }
    },
    {
      "cell_type": "code",
      "source": [
        "text1 = 'python is good'\n",
        "text2 = 'Python is good'\n",
        "\n",
        "print(text1.upper())\n",
        "print(text2.upper())"
      ],
      "metadata": {
        "colab": {
          "base_uri": "https://localhost:8080/"
        },
        "id": "YAuGBaRgvIW-",
        "outputId": "30d969c4-7c03-4cea-e02c-c1b44a0f6b66"
      },
      "execution_count": null,
      "outputs": [
        {
          "output_type": "stream",
          "name": "stdout",
          "text": [
            "PYTHON IS GOOD\n",
            "PYTHON IS GOOD\n"
          ]
        }
      ]
    },
    {
      "cell_type": "markdown",
      "source": [
        "# lower()\n",
        "문자열을 모두 소문자로 변경하는 함수"
      ],
      "metadata": {
        "id": "CIOP7LiuvXPU"
      }
    },
    {
      "cell_type": "code",
      "source": [
        "text1 = 'python is good'\n",
        "text2 = 'Python is good'\n",
        "\n",
        "print(text1.lower())\n",
        "print(text2.lower())"
      ],
      "metadata": {
        "colab": {
          "base_uri": "https://localhost:8080/"
        },
        "id": "3zWBz_rVvWV-",
        "outputId": "b590c7ce-6199-473b-83aa-ae9471465220"
      },
      "execution_count": null,
      "outputs": [
        {
          "output_type": "stream",
          "name": "stdout",
          "text": [
            "python is good\n",
            "python is good\n"
          ]
        }
      ]
    },
    {
      "cell_type": "markdown",
      "source": [
        "# strip()\n",
        "양쪽 공백을 지우는 함수\n",
        "\n",
        "lstrip()\n",
        "왼쪽 공백을 지우는 함수\n",
        "\n",
        "rstrip()\n",
        "오른쪽 공백을 지우는 함수"
      ],
      "metadata": {
        "id": "DrLjw3dNvebF"
      }
    },
    {
      "cell_type": "code",
      "source": [
        "text = \"     hi     \"\n",
        "\n",
        "print(text.strip())\n",
        "print(text.lstrip())\n",
        "print(text.rstrip())"
      ],
      "metadata": {
        "colab": {
          "base_uri": "https://localhost:8080/"
        },
        "id": "E6thd7SEvdV9",
        "outputId": "e5ceb923-8a7e-436c-bc99-91f1e7a4a5cf"
      },
      "execution_count": null,
      "outputs": [
        {
          "output_type": "stream",
          "name": "stdout",
          "text": [
            "hi\n",
            "hi     \n",
            "     hi\n"
          ]
        }
      ]
    },
    {
      "cell_type": "markdown",
      "source": [
        "# split()\n",
        "문자열을 특정 기준에 따라 분리하는 함수\n",
        "- 형식을 지정하지 않으면 공백, TAB, 엔터로 분리가 됨.\n",
        "- 형식을 지정하면, 형식에 맞추어 분리됨.\n",
        "- 분리된 결과는 리스트의 형식으로 저장됨"
      ],
      "metadata": {
        "id": "j7kdy11Ivzqs"
      }
    },
    {
      "cell_type": "code",
      "source": [
        "text = 'python is good'\n",
        "print(text.split())\n",
        "\n",
        "text = 'python,is,good    a'\n",
        "print(text.split(','))"
      ],
      "metadata": {
        "colab": {
          "base_uri": "https://localhost:8080/"
        },
        "id": "nHMm8SmDvyQe",
        "outputId": "9ad8a709-d048-4c28-ec93-b58a71a75951"
      },
      "execution_count": null,
      "outputs": [
        {
          "output_type": "stream",
          "name": "stdout",
          "text": [
            "['python', 'is', 'good']\n",
            "['python', 'is', 'good    a']\n"
          ]
        }
      ]
    },
    {
      "cell_type": "markdown",
      "source": [
        "# replace()\n",
        "문자열을 원하는 문자열로 바꾸는 함수"
      ],
      "metadata": {
        "id": "6nwcNHGTwOYd"
      }
    },
    {
      "cell_type": "code",
      "source": [
        "text = 'python is good'\n",
        "print('원래 단어 : ' + text + '\\n바뀐단어: ' + text.replace('good', 'bad'))"
      ],
      "metadata": {
        "colab": {
          "base_uri": "https://localhost:8080/"
        },
        "id": "IodDiMxLwJ4v",
        "outputId": "42daabb7-8f17-4576-89a5-14edeacd014c"
      },
      "execution_count": null,
      "outputs": [
        {
          "output_type": "stream",
          "name": "stdout",
          "text": [
            "원래 단어 : python is good\n",
            "바뀐단어: python is bad\n"
          ]
        }
      ]
    },
    {
      "cell_type": "markdown",
      "source": [
        "# 문자열 포맷팅\n",
        "문자열에서 변수나 값을 원하는 형식으로 출력하는 방법.\n",
        "1. 숫자를 바로 대입하는 방법\n",
        "2. 문자열을 바로 대입하는 방법\n",
        "3. 변수를 통해 값을 대입하는 방법\n",
        "\n",
        "---\n",
        "\n",
        "# 문자열 포맷 코드\n",
        "문자열 포맷 코드 헷갈리면 무조건 %s 사용!!\n",
        "- %s : 문자열\n",
        "- %c : 문자 1개\n",
        "- $d : 정수\n",
        "- %f : 실수\n",
        "- %o : 8진수\n",
        "- %x : 16진수"
      ],
      "metadata": {
        "id": "7PSgtKyuwpXO"
      }
    },
    {
      "cell_type": "code",
      "source": [
        "print(\"사과 10개가 있습니다.\")\n",
        "\n",
        "print(\"사과 %d개가 있습니다.\" %3)\n",
        "\n",
        "print(\"제 이름은 %s입니다\" %'유연휘')\n",
        "\n",
        "n = 20\n",
        "print(\"사과 %d개가 있습니다.\" %n)\n",
        "\n",
        "print(\"사과 %f개가 있습니다.\" %n)\n",
        "\n",
        "print(\"사과 %o개가 있습니다.\" %n)\n",
        "\n",
        "print(\"사과 %x개가 있습니다.\" %n)"
      ],
      "metadata": {
        "colab": {
          "base_uri": "https://localhost:8080/"
        },
        "id": "1XSmbJKdwi-f",
        "outputId": "24cc2831-237b-40d8-a0d9-c5ea1315c5c3"
      },
      "execution_count": null,
      "outputs": [
        {
          "output_type": "stream",
          "name": "stdout",
          "text": [
            "사과 10개가 있습니다.\n",
            "사과 3개가 있습니다.\n",
            "제 이름은 유연휘입니다\n",
            "사과 20개가 있습니다.\n",
            "사과 20.000000개가 있습니다.\n",
            "사과 24개가 있습니다.\n",
            "사과 14개가 있습니다.\n"
          ]
        }
      ]
    },
    {
      "cell_type": "markdown",
      "source": [
        "# 정렬\n",
        "\n",
        "\"{0:>10}\".format('hi')\n",
        "\n",
        "# 소수점 표현\n",
        "\"{0:0.자리수f}\".format(숫자)\n",
        "\n",
        "\"0.자리수f\"%숫자"
      ],
      "metadata": {
        "id": "_ATMowgZx1oG"
      }
    },
    {
      "cell_type": "code",
      "source": [
        "print(\"{0:!<20}\".format(\"안녕\"))\n",
        "\n",
        "print(\"{0:=^20}\".format(\"안녕\"))\n",
        "\n",
        "print(\"{0:>20}\".format(\"안녕\"))\n",
        "\n",
        "\n",
        "pi = 3.141592\n",
        "print(\"{0:0.4f}\".format(pi))"
      ],
      "metadata": {
        "colab": {
          "base_uri": "https://localhost:8080/"
        },
        "id": "3I0WxPZqxTP-",
        "outputId": "e85ac091-9a86-49a8-c903-f6072e1d216a"
      },
      "execution_count": null,
      "outputs": [
        {
          "output_type": "stream",
          "name": "stdout",
          "text": [
            "안녕!!!!!!!!!!!!!!!!!!\n",
            "=========안녕=========\n",
            "                  안녕\n",
            "3.1416\n"
          ]
        }
      ]
    },
    {
      "cell_type": "markdown",
      "source": [
        "# f문자열 포매팅\n",
        "문자열 앞에 f 접두사를 붙여 간편하게 포매팅 가능"
      ],
      "metadata": {
        "id": "yjPWy3wfybDt"
      }
    },
    {
      "cell_type": "code",
      "source": [
        "name = '홍길동'\n",
        "age = 30\n",
        "print(f'나의 이름은 {name}입니다.')"
      ],
      "metadata": {
        "colab": {
          "base_uri": "https://localhost:8080/"
        },
        "id": "rFyNEvYayMvv",
        "outputId": "6a4cc662-c78f-4504-9f52-28fec3537327"
      },
      "execution_count": null,
      "outputs": [
        {
          "output_type": "stream",
          "name": "stdout",
          "text": [
            "나의 이름은 홍길동입니다.\n"
          ]
        }
      ]
    },
    {
      "cell_type": "markdown",
      "source": [
        "#사용자 입력 : input()\n",
        "사용자에게 문자열을 입력받아 변수에 저장하는 함수\n",
        "- 변수 = input(\"문자열을 입력하세요 : \")\n",
        "- 문자열 외의 다른 자료형을 사용하기 위해 자료형 반환을 사용해야 한다."
      ],
      "metadata": {
        "id": "fm_aXkM5yrLW"
      }
    },
    {
      "cell_type": "code",
      "source": [
        "a = input('문자열을 입력해주세요 : ')\n",
        "b = int(input('정수를 입력해주세요 : '))\n",
        "c = float(input('실수를 입력해주세요 : '))\n",
        "\n",
        "print(b+c)"
      ],
      "metadata": {
        "colab": {
          "base_uri": "https://localhost:8080/"
        },
        "id": "M9fED7Y9y6y-",
        "outputId": "e25ecd53-80bf-4cda-f9f7-76ba23ba95a3"
      },
      "execution_count": null,
      "outputs": [
        {
          "output_type": "stream",
          "name": "stdout",
          "text": [
            "문자열을 입력해주세요 : asf\n",
            "정수를 입력해주세요 : 1\n",
            "실수를 입력해주세요 : 2\n",
            "3.0\n"
          ]
        }
      ]
    },
    {
      "cell_type": "markdown",
      "source": [
        "# 문자열 위치 관련 함수\n",
        "- find - 위치 알려주기\n",
        "- index - 위치 알려주기"
      ],
      "metadata": {
        "id": "0VjBCgn95UNQ"
      }
    },
    {
      "cell_type": "code",
      "source": [
        "d = \"Python is best choice\"\n",
        "print(d.find('b'))\n",
        "print(d.find('k')) #없는 경우\n",
        "\n",
        "print(d.index('b'))\n",
        "#print(d.index('k')) #없는 경우\n"
      ],
      "metadata": {
        "colab": {
          "base_uri": "https://localhost:8080/"
        },
        "id": "c32EnJuzzNu-",
        "outputId": "3772a21c-81e6-408c-be50-ad594a68ab0c"
      },
      "execution_count": null,
      "outputs": [
        {
          "output_type": "stream",
          "name": "stdout",
          "text": [
            "10\n",
            "-1\n",
            "10\n"
          ]
        }
      ]
    },
    {
      "cell_type": "markdown",
      "source": [
        "# 리스트\n",
        "리스트명 = [요소1, 요소2, ...]"
      ],
      "metadata": {
        "id": "7EjCubey5_W_"
      }
    },
    {
      "cell_type": "code",
      "source": [
        "a = [1,2,3]\n",
        "print(a)"
      ],
      "metadata": {
        "colab": {
          "base_uri": "https://localhost:8080/"
        },
        "id": "Xq8dviup5lBQ",
        "outputId": "78dce364-d66a-4112-a970-1d809776564d"
      },
      "execution_count": null,
      "outputs": [
        {
          "output_type": "stream",
          "name": "stdout",
          "text": [
            "[1, 2, 3]\n"
          ]
        }
      ]
    },
    {
      "cell_type": "markdown",
      "source": [
        "# 리스트 인덱싱\n",
        "문자열처럼 인덱싱 가능"
      ],
      "metadata": {
        "id": "QarrsCxG6Reg"
      }
    },
    {
      "cell_type": "code",
      "source": [
        "a = [1,2,3]\n",
        "print(a[0])\n",
        "print(a[-1])\n",
        "print(a[0] + a[2])\n",
        "\n",
        "b = [1,2,3,[1,2,3]]\n",
        "print(b)\n",
        "print(b[-1][0])"
      ],
      "metadata": {
        "colab": {
          "base_uri": "https://localhost:8080/"
        },
        "id": "Chc97LZN6QlA",
        "outputId": "9fd6eedb-3549-4e2a-9f5d-c3234d9ef38f"
      },
      "execution_count": null,
      "outputs": [
        {
          "output_type": "stream",
          "name": "stdout",
          "text": [
            "1\n",
            "3\n",
            "4\n",
            "[1, 2, 3, [1, 2, 3]]\n",
            "1\n"
          ]
        }
      ]
    },
    {
      "cell_type": "markdown",
      "source": [
        "# 리스트 슬라이싱\n",
        "문자열처럼 슬라이싱 가능"
      ],
      "metadata": {
        "id": "Gr5untCa60Hv"
      }
    },
    {
      "cell_type": "code",
      "source": [
        " a = [1,2,3,4,5]\n",
        " print(a[0:3])"
      ],
      "metadata": {
        "colab": {
          "base_uri": "https://localhost:8080/"
        },
        "id": "s27SNfEg6bRA",
        "outputId": "14543230-18a8-4985-d691-d983b0d240d3"
      },
      "execution_count": null,
      "outputs": [
        {
          "output_type": "stream",
          "name": "stdout",
          "text": [
            "[1, 2, 3]\n"
          ]
        }
      ]
    },
    {
      "cell_type": "markdown",
      "source": [
        "# 리스트 연산\n",
        "문자열처럼 +와 *연산 가능"
      ],
      "metadata": {
        "id": "UB-F2zJI7BQn"
      }
    },
    {
      "cell_type": "code",
      "source": [
        "a = [1,2,3]\n",
        "b = [4,5,6]\n",
        "print(a + b)\n",
        "\n",
        "print(a*3)"
      ],
      "metadata": {
        "colab": {
          "base_uri": "https://localhost:8080/"
        },
        "id": "lFgajHa868jB",
        "outputId": "64ea43ed-cd4e-45cd-cb01-291851916534"
      },
      "execution_count": null,
      "outputs": [
        {
          "output_type": "stream",
          "name": "stdout",
          "text": [
            "[1, 2, 3, 4, 5, 6]\n",
            "[1, 2, 3, 1, 2, 3, 1, 2, 3]\n"
          ]
        }
      ]
    },
    {
      "cell_type": "markdown",
      "source": [
        "# 리스트 길이\n",
        "len(리스트) - 요소의 개수가 나옴"
      ],
      "metadata": {
        "id": "uPeFYN7E7RCo"
      }
    },
    {
      "cell_type": "code",
      "source": [
        "a = [1,2,345]\n",
        "len(a)"
      ],
      "metadata": {
        "colab": {
          "base_uri": "https://localhost:8080/"
        },
        "id": "NdDjQnDF7J-f",
        "outputId": "8b2b4a29-de74-439e-bb57-dceb16213a3c"
      },
      "execution_count": null,
      "outputs": [
        {
          "output_type": "execute_result",
          "data": {
            "text/plain": [
              "3"
            ]
          },
          "metadata": {},
          "execution_count": 50
        }
      ]
    },
    {
      "cell_type": "markdown",
      "source": [
        "#리스트의 수정과 삭제\n",
        "리스트는 값을 수정하거나 삭제할 수 있다."
      ],
      "metadata": {
        "id": "txmPOmOP7kaI"
      }
    },
    {
      "cell_type": "code",
      "source": [
        "a = [1,2,3,4]\n",
        "a[2] = 4\n",
        "print(a)"
      ],
      "metadata": {
        "colab": {
          "base_uri": "https://localhost:8080/"
        },
        "id": "EFzg45Jk7dmg",
        "outputId": "1a1a17a0-ed3f-49ce-e197-45477a3651d4"
      },
      "execution_count": null,
      "outputs": [
        {
          "output_type": "stream",
          "name": "stdout",
          "text": [
            "[1, 2, 4, 4]\n"
          ]
        }
      ]
    },
    {
      "cell_type": "markdown",
      "source": [
        "#del 함수를 사용해 리스트 요소 삭제\n",
        "del a[x]는 x번째 요솟값을 삭제\n",
        "\n",
        "del 객체"
      ],
      "metadata": {
        "id": "jurttmQ_7tmA"
      }
    },
    {
      "cell_type": "code",
      "source": [
        "a = [1,2,3,4,5]\n",
        "del a[2]\n",
        "print(a)"
      ],
      "metadata": {
        "colab": {
          "base_uri": "https://localhost:8080/"
        },
        "id": "zR4uSlWh7sGA",
        "outputId": "a415bf7c-8142-4948-9a15-e1877fa16134"
      },
      "execution_count": null,
      "outputs": [
        {
          "output_type": "stream",
          "name": "stdout",
          "text": [
            "[1, 2, 4, 5]\n"
          ]
        }
      ]
    },
    {
      "cell_type": "markdown",
      "source": [
        "# 리스트 함수\n",
        "- append : 요소추가\n",
        "- sort : 정렬\n",
        "- reverse : 리스트 뒤집기\n",
        "- index : 인덱스 반환\n",
        "- insert : 요소 삽입\n",
        "- remove : 요소 제거\n",
        "- pop : 마지막 요소 빼기\n",
        "- count : 요소 개수 세기\n",
        "- extend : 리스트 확장"
      ],
      "metadata": {
        "id": "jWiLLDWA77Ko"
      }
    },
    {
      "cell_type": "code",
      "source": [
        "#append\n",
        "a = [1,2,3,4,5]\n",
        "print('이전 :' ,a)\n",
        "a.append(6)\n",
        "print('이후 :',a)"
      ],
      "metadata": {
        "colab": {
          "base_uri": "https://localhost:8080/"
        },
        "id": "3kN6MYZA75Kh",
        "outputId": "a4b10059-2cee-40aa-c780-da9164e5115d"
      },
      "execution_count": null,
      "outputs": [
        {
          "output_type": "stream",
          "name": "stdout",
          "text": [
            "이전 : [1, 2, 3, 4, 5, 6, 6, 6, 6]\n",
            "이후 : [1, 2, 3, 4, 5, 6, 6, 6, 6, 6]\n"
          ]
        }
      ]
    },
    {
      "cell_type": "code",
      "source": [
        "#sort\n",
        "a = [1,2,3,4,5]\n",
        "print('이전 :' ,a)\n",
        "a.sort(reverse=True)\n",
        "print('이후 :',a)"
      ],
      "metadata": {
        "colab": {
          "base_uri": "https://localhost:8080/"
        },
        "id": "3cB3Ycph8fqA",
        "outputId": "774a701f-c201-4d65-e7d9-4509d1f23cae"
      },
      "execution_count": null,
      "outputs": [
        {
          "output_type": "stream",
          "name": "stdout",
          "text": [
            "이전 : [1, 2, 3, 4, 5]\n",
            "이후 : [5, 4, 3, 2, 1]\n"
          ]
        }
      ]
    },
    {
      "cell_type": "code",
      "source": [
        "#reverse\n",
        "a = [1,2,3,4,5]\n",
        "print('이전 :' ,a)\n",
        "a.reverse()\n",
        "print('이후 :',a)"
      ],
      "metadata": {
        "colab": {
          "base_uri": "https://localhost:8080/"
        },
        "id": "iPkk0uYn83Jg",
        "outputId": "6a371dca-a298-47e6-b6b4-388048ed0b06"
      },
      "execution_count": null,
      "outputs": [
        {
          "output_type": "stream",
          "name": "stdout",
          "text": [
            "이전 : [1, 2, 3, 4, 5]\n",
            "이후 : [5, 4, 3, 2, 1]\n"
          ]
        }
      ]
    },
    {
      "cell_type": "code",
      "source": [
        "#index\n",
        "a = [1,2,3,4,5]\n",
        "print(a.index(3))"
      ],
      "metadata": {
        "colab": {
          "base_uri": "https://localhost:8080/"
        },
        "id": "x0V0qsIg9BWQ",
        "outputId": "ef59cb88-852b-414c-db56-186a5f073492"
      },
      "execution_count": null,
      "outputs": [
        {
          "output_type": "stream",
          "name": "stdout",
          "text": [
            "2\n"
          ]
        }
      ]
    },
    {
      "cell_type": "code",
      "source": [
        "#insert\n",
        "a = [1,2,3,4,5]\n",
        "print('이전 :' ,a)\n",
        "a.insert(0,0)\n",
        "print('이후 :',a)"
      ],
      "metadata": {
        "colab": {
          "base_uri": "https://localhost:8080/"
        },
        "id": "Nx8BaO-39HXA",
        "outputId": "6180e703-0b6d-4515-f8fc-fa30230d7947"
      },
      "execution_count": null,
      "outputs": [
        {
          "output_type": "stream",
          "name": "stdout",
          "text": [
            "이전 : [1, 2, 3, 4, 5]\n",
            "이후 : [0, 1, 2, 3, 4, 5]\n"
          ]
        }
      ]
    },
    {
      "cell_type": "code",
      "source": [
        "#remove\n",
        "a = [1,2,3,4,5]\n",
        "print('이전 :' ,a)\n",
        "a.remove(3)\n",
        "print('이후 :',a)"
      ],
      "metadata": {
        "colab": {
          "base_uri": "https://localhost:8080/"
        },
        "id": "Ml15XPgt9PoA",
        "outputId": "73fe15a2-477b-4dfd-c8e9-9a1965a97716"
      },
      "execution_count": null,
      "outputs": [
        {
          "output_type": "stream",
          "name": "stdout",
          "text": [
            "이전 : [1, 2, 3, 4, 5]\n",
            "이후 : [1, 2, 4, 5]\n"
          ]
        }
      ]
    },
    {
      "cell_type": "code",
      "source": [
        "#pop\n",
        "a = [1,2,3,4,5]\n",
        "print('이전 :' ,a)\n",
        "b = a.pop()\n",
        "print('이후 :',a)\n",
        "print(\"뺀 값 :\",b)"
      ],
      "metadata": {
        "colab": {
          "base_uri": "https://localhost:8080/"
        },
        "id": "T8ZvqT4h9WEg",
        "outputId": "0c188b5e-6300-4cb7-e97b-40a292aa6072"
      },
      "execution_count": null,
      "outputs": [
        {
          "output_type": "stream",
          "name": "stdout",
          "text": [
            "이전 : [1, 2, 3, 4, 5]\n",
            "이후 : [1, 2, 3, 4]\n",
            "뺀 값 : 5\n"
          ]
        }
      ]
    },
    {
      "cell_type": "code",
      "source": [
        "#count\n",
        "a = [1,1,1,2,2,3]\n",
        "print(a.count(1))"
      ],
      "metadata": {
        "colab": {
          "base_uri": "https://localhost:8080/"
        },
        "id": "yZghelyy9eKA",
        "outputId": "66d35aa3-a282-4091-a266-c2fb2e34297d"
      },
      "execution_count": null,
      "outputs": [
        {
          "output_type": "stream",
          "name": "stdout",
          "text": [
            "3\n"
          ]
        }
      ]
    },
    {
      "cell_type": "code",
      "source": [
        "#extend\n",
        "a = [1,2,3,4,5]\n",
        "b = [1,2,3,4]\n",
        "print('이전 :' ,a)\n",
        "a.extend(b)\n",
        "print('이후 :',a)"
      ],
      "metadata": {
        "colab": {
          "base_uri": "https://localhost:8080/"
        },
        "id": "YuHdQL4H9whw",
        "outputId": "ad5119a8-3df5-4622-f37b-0336532f1bb8"
      },
      "execution_count": null,
      "outputs": [
        {
          "output_type": "stream",
          "name": "stdout",
          "text": [
            "이전 : [1, 2, 3, 4, 5]\n",
            "이후 : [1, 2, 3, 4, 5, 1, 2, 3, 4]\n"
          ]
        }
      ]
    },
    {
      "cell_type": "markdown",
      "source": [
        "# 튜플 자료형\n",
        "t1 = ()\n",
        "\n",
        "t2 = (1,)\n",
        "\n",
        "t3 = (1, 2, 3)\n",
        "\n",
        "t4 = 1, 2, 3\n",
        "\n",
        "t5 = ('a', 'b', ('ab', 'cd'))\n",
        "\n",
        "리스트와 비슷하지만 요소 1개를 가질때 ,를 붙이는 것 소괄호를 생략해도 된다는 점\n",
        "\n",
        "가장 큰 차이는 요솟값을 변화시킬 수 있는지의 여부"
      ],
      "metadata": {
        "id": "UEY6xLBj98FB"
      }
    },
    {
      "cell_type": "code",
      "source": [
        "t1 = 1,2,3,4\n",
        "del t1[0]"
      ],
      "metadata": {
        "colab": {
          "base_uri": "https://localhost:8080/",
          "height": 166
        },
        "id": "TBBo5s_H95WB",
        "outputId": "ade1cfdf-c5cf-4654-f38a-f3ca076e9524"
      },
      "execution_count": null,
      "outputs": [
        {
          "output_type": "error",
          "ename": "TypeError",
          "evalue": "'tuple' object doesn't support item deletion",
          "traceback": [
            "\u001b[0;31m---------------------------------------------------------------------------\u001b[0m",
            "\u001b[0;31mTypeError\u001b[0m                                 Traceback (most recent call last)",
            "\u001b[0;32m<ipython-input-76-6b3a3193b73c>\u001b[0m in \u001b[0;36m<cell line: 0>\u001b[0;34m()\u001b[0m\n\u001b[1;32m      1\u001b[0m \u001b[0mt1\u001b[0m \u001b[0;34m=\u001b[0m \u001b[0;36m1\u001b[0m\u001b[0;34m,\u001b[0m\u001b[0;36m2\u001b[0m\u001b[0;34m,\u001b[0m\u001b[0;36m3\u001b[0m\u001b[0;34m,\u001b[0m\u001b[0;36m4\u001b[0m\u001b[0;34m\u001b[0m\u001b[0;34m\u001b[0m\u001b[0m\n\u001b[0;32m----> 2\u001b[0;31m \u001b[0;32mdel\u001b[0m \u001b[0mt1\u001b[0m\u001b[0;34m[\u001b[0m\u001b[0;36m0\u001b[0m\u001b[0;34m]\u001b[0m\u001b[0;34m\u001b[0m\u001b[0;34m\u001b[0m\u001b[0m\n\u001b[0m",
            "\u001b[0;31mTypeError\u001b[0m: 'tuple' object doesn't support item deletion"
          ]
        }
      ]
    },
    {
      "cell_type": "code",
      "source": [
        "t1 = 1,2,3,4\n",
        "t1[0] = 2"
      ],
      "metadata": {
        "colab": {
          "base_uri": "https://localhost:8080/",
          "height": 166
        },
        "id": "fCl8U17A-k6Q",
        "outputId": "fbf47e30-e698-4614-df89-82e205431cfb"
      },
      "execution_count": null,
      "outputs": [
        {
          "output_type": "error",
          "ename": "TypeError",
          "evalue": "'tuple' object does not support item assignment",
          "traceback": [
            "\u001b[0;31m---------------------------------------------------------------------------\u001b[0m",
            "\u001b[0;31mTypeError\u001b[0m                                 Traceback (most recent call last)",
            "\u001b[0;32m<ipython-input-77-dfb0f529b943>\u001b[0m in \u001b[0;36m<cell line: 0>\u001b[0;34m()\u001b[0m\n\u001b[1;32m      1\u001b[0m \u001b[0mt1\u001b[0m \u001b[0;34m=\u001b[0m \u001b[0;36m1\u001b[0m\u001b[0;34m,\u001b[0m\u001b[0;36m2\u001b[0m\u001b[0;34m,\u001b[0m\u001b[0;36m3\u001b[0m\u001b[0;34m,\u001b[0m\u001b[0;36m4\u001b[0m\u001b[0;34m\u001b[0m\u001b[0;34m\u001b[0m\u001b[0m\n\u001b[0;32m----> 2\u001b[0;31m \u001b[0mt1\u001b[0m\u001b[0;34m[\u001b[0m\u001b[0;36m0\u001b[0m\u001b[0;34m]\u001b[0m \u001b[0;34m=\u001b[0m \u001b[0;36m2\u001b[0m\u001b[0;34m\u001b[0m\u001b[0;34m\u001b[0m\u001b[0m\n\u001b[0m",
            "\u001b[0;31mTypeError\u001b[0m: 'tuple' object does not support item assignment"
          ]
        }
      ]
    },
    {
      "cell_type": "code",
      "source": [
        "t1 = 1,2,3,4\n",
        "print(t1[0])\n",
        "print(t1[2])"
      ],
      "metadata": {
        "colab": {
          "base_uri": "https://localhost:8080/"
        },
        "id": "RnKRuTKl-uXw",
        "outputId": "a0c59f43-81e3-4ea0-bb63-baf38726b5ef"
      },
      "execution_count": null,
      "outputs": [
        {
          "output_type": "stream",
          "name": "stdout",
          "text": [
            "1\n",
            "3\n"
          ]
        }
      ]
    },
    {
      "cell_type": "markdown",
      "source": [
        "# 튜플 슬라이싱\n",
        "\n",
        "리스트와 동일"
      ],
      "metadata": {
        "id": "RZmV1Mw6-2U5"
      }
    },
    {
      "cell_type": "code",
      "source": [
        "t1 = [1,2,3,4]\n",
        "print(t1[0:2])"
      ],
      "metadata": {
        "colab": {
          "base_uri": "https://localhost:8080/"
        },
        "id": "D5N28yLA-zmB",
        "outputId": "fd1268eb-c777-4946-cb17-1f4fc0addcf2"
      },
      "execution_count": null,
      "outputs": [
        {
          "output_type": "stream",
          "name": "stdout",
          "text": [
            "[1, 2]\n"
          ]
        }
      ]
    },
    {
      "cell_type": "markdown",
      "source": [
        "#튜플 더하기\n",
        "리스트와 동일"
      ],
      "metadata": {
        "id": "dXAMl2DK_EOg"
      }
    },
    {
      "cell_type": "code",
      "source": [],
      "metadata": {
        "id": "aYnESWHx_BYx"
      },
      "execution_count": null,
      "outputs": []
    }
  ]
}