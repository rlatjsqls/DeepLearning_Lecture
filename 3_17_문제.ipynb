{
  "nbformat": 4,
  "nbformat_minor": 0,
  "metadata": {
    "colab": {
      "provenance": []
    },
    "kernelspec": {
      "name": "python3",
      "display_name": "Python 3"
    },
    "language_info": {
      "name": "python"
    }
  },
  "cells": [
    {
      "cell_type": "markdown",
      "source": [
        "# 제곱 문제"
      ],
      "metadata": {
        "id": "v-kik75FSu7n"
      }
    },
    {
      "cell_type": "code",
      "source": [
        "a = int(input(\"입력 : \"))\n",
        "print(a*a)"
      ],
      "metadata": {
        "colab": {
          "base_uri": "https://localhost:8080/"
        },
        "id": "ymscwsjCSyWP",
        "outputId": "74d40d9a-0163-4303-aabe-0c40b9bb429d"
      },
      "execution_count": 7,
      "outputs": [
        {
          "output_type": "stream",
          "name": "stdout",
          "text": [
            "입력 :3\n",
            "9\n"
          ]
        }
      ]
    },
    {
      "cell_type": "markdown",
      "source": [
        "# 전화번호 형식 바꾸기 문제"
      ],
      "metadata": {
        "id": "Yl0dDu-nRoco"
      }
    },
    {
      "cell_type": "code",
      "source": [
        "num = input(\"전화번호를 입력하세요 : \")\n",
        "result = num.replace(\"-\",\"\")\n",
        "print(\"변환결과 :\",result)"
      ],
      "metadata": {
        "colab": {
          "base_uri": "https://localhost:8080/"
        },
        "id": "j2fWdaZlRr0g",
        "outputId": "4f66a5fa-0d9d-45af-d392-6ca507813ce9"
      },
      "execution_count": 3,
      "outputs": [
        {
          "output_type": "stream",
          "name": "stdout",
          "text": [
            "전화번호를 입력하세요 : 010-2579-2059\n",
            "변환결과 : 01025792059\n"
          ]
        }
      ]
    },
    {
      "cell_type": "markdown",
      "source": [
        "# 문자열 인덱싱 슬라이싱 문제"
      ],
      "metadata": {
        "id": "w57_-nzMSJW4"
      }
    },
    {
      "cell_type": "code",
      "source": [
        "text = \"20230601sunny\"\n",
        "print(\"연 :\",text[0:4])\n",
        "print(\"월 :\",text[4:6])\n",
        "print(\"일 :\",text[6:8])\n",
        "print(\"날씨 :\",text[8:])"
      ],
      "metadata": {
        "colab": {
          "base_uri": "https://localhost:8080/"
        },
        "id": "5ZhmcDp-R6lh",
        "outputId": "6ff51d59-dae7-46f0-929f-e5a9ada2e019"
      },
      "execution_count": 5,
      "outputs": [
        {
          "output_type": "stream",
          "name": "stdout",
          "text": [
            "연 : 2023\n",
            "월 : 06\n",
            "일 : 01\n",
            "날씨 : sunny\n"
          ]
        }
      ]
    },
    {
      "cell_type": "markdown",
      "source": [
        "# 제목글 변환 문제"
      ],
      "metadata": {
        "id": "x4RXvKp9SgiR"
      }
    },
    {
      "cell_type": "code",
      "source": [
        "text = input(\"입력 : \")\n",
        "print(text[0].upper()+text[1:])"
      ],
      "metadata": {
        "colab": {
          "base_uri": "https://localhost:8080/"
        },
        "id": "H8DL7E8TSYlC",
        "outputId": "fe074739-edb0-42bf-e9ab-a170d1636f86"
      },
      "execution_count": 23,
      "outputs": [
        {
          "output_type": "stream",
          "name": "stdout",
          "text": [
            "입력 : a b c\n",
            "A b c\n"
          ]
        }
      ]
    },
    {
      "cell_type": "markdown",
      "source": [
        "# 문자열 분할 문제(split)\n"
      ],
      "metadata": {
        "id": "_LDe8VR5TCGA"
      }
    },
    {
      "cell_type": "code",
      "source": [
        "a = '2023년 1월 2일 오후 9:52, 유연휘:일단'\n",
        "a1 = a.split(',')\n",
        "a2 = a1[0].split()\n",
        "a3 = a1[1].split(':')\n",
        "\n",
        "print(\"날짜 :\", \" \".join(a2[:3]))\n",
        "print(\"시간 :\", \" \".join(a2[3:]))\n",
        "print(\"이름 :\", a3[0].strip())\n",
        "print(\"내용 :\", a3[1])\n"
      ],
      "metadata": {
        "colab": {
          "base_uri": "https://localhost:8080/"
        },
        "id": "oer4d2wNT_oB",
        "outputId": "71e80479-a7c1-4e9f-de89-4bde6f09843a"
      },
      "execution_count": 21,
      "outputs": [
        {
          "output_type": "stream",
          "name": "stdout",
          "text": [
            "날짜 : 2023년 1월 2일\n",
            "시간 : 오후 9:52\n",
            "이름 : 유연휘\n",
            "내용 : 일단\n"
          ]
        }
      ]
    },
    {
      "cell_type": "code",
      "source": [],
      "metadata": {
        "id": "a3yXSBznUacR"
      },
      "execution_count": null,
      "outputs": []
    }
  ]
}