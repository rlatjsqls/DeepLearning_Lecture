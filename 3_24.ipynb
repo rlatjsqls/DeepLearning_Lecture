{
  "nbformat": 4,
  "nbformat_minor": 0,
  "metadata": {
    "colab": {
      "provenance": [],
      "collapsed_sections": [
        "qFWiAvOsdhgU",
        "YMCF0CGDuerI",
        "MJKUbxwvfXhU",
        "Sgwxjqvnxv5o"
      ]
    },
    "kernelspec": {
      "name": "python3",
      "display_name": "Python 3"
    },
    "language_info": {
      "name": "python"
    }
  },
  "cells": [
    {
      "cell_type": "markdown",
      "source": [
        "#튜플 자료형\n"
      ],
      "metadata": {
        "id": "qFWiAvOsdhgU"
      }
    },
    {
      "cell_type": "markdown",
      "source": [
        "##튜플 더하기"
      ],
      "metadata": {
        "id": "fpkd61RefcO0"
      }
    },
    {
      "cell_type": "code",
      "source": [
        "t1 = (1,2,'a','b')\n",
        "t2 = (3,4)\n",
        "t3 = t1 + t2\n",
        "print(t3)"
      ],
      "metadata": {
        "colab": {
          "base_uri": "https://localhost:8080/"
        },
        "id": "hco253uUetHv",
        "outputId": "149a19bb-a869-4786-ae21-74d413cf7a1c"
      },
      "execution_count": null,
      "outputs": [
        {
          "output_type": "stream",
          "name": "stdout",
          "text": [
            "(1, 2, 'a', 'b', 3, 4)\n"
          ]
        }
      ]
    },
    {
      "cell_type": "markdown",
      "source": [
        "## 튜플 곱하기"
      ],
      "metadata": {
        "id": "vZ3128IbfDRE"
      }
    },
    {
      "cell_type": "code",
      "source": [
        "t2 = (3,4)\n",
        "t3 = t2 * 3\n",
        "print(t3)"
      ],
      "metadata": {
        "colab": {
          "base_uri": "https://localhost:8080/"
        },
        "id": "A60E34TKe8Af",
        "outputId": "8820bd0b-a310-48de-a858-e74e71494460"
      },
      "execution_count": null,
      "outputs": [
        {
          "output_type": "stream",
          "name": "stdout",
          "text": [
            "(3, 4, 3, 4, 3, 4)\n"
          ]
        }
      ]
    },
    {
      "cell_type": "markdown",
      "source": [
        "## 튜플 길이 구하기"
      ],
      "metadata": {
        "id": "y7mbaOjffPCk"
      }
    },
    {
      "cell_type": "code",
      "source": [
        "t1 = (1,2,'a','b')\n",
        "print(len(t1))"
      ],
      "metadata": {
        "colab": {
          "base_uri": "https://localhost:8080/"
        },
        "id": "JT1cZ61NfNsu",
        "outputId": "89b73490-ed41-4cfa-fa20-a93e6d4fbb2f"
      },
      "execution_count": null,
      "outputs": [
        {
          "output_type": "stream",
          "name": "stdout",
          "text": [
            "4\n"
          ]
        }
      ]
    },
    {
      "cell_type": "markdown",
      "source": [
        "#논리 연산자\n",
        "\n",
        "- and : 모두가 참인경우에만 참\n",
        "- or : 참이 하나라도 있는경우 참\n"
      ],
      "metadata": {
        "id": "YMCF0CGDuerI"
      }
    },
    {
      "cell_type": "code",
      "source": [
        "#and\n",
        "print(\"True and True :\",True and True)\n",
        "print(\"True and False :\",True and False)\n",
        "print(\"False and True :\",False and True)\n",
        "print(\"False and False :\",False and False)\n",
        "\n",
        "print('---------------------------------------------')\n",
        "#or\n",
        "print(\"True or True :\",True or True)\n",
        "print(\"True or False :\",True or False)\n",
        "print(\"False or True :\",False or True)\n",
        "print(\"False or False :\",False or False)"
      ],
      "metadata": {
        "colab": {
          "base_uri": "https://localhost:8080/"
        },
        "id": "6AhJBhiWujbQ",
        "outputId": "271fe7e7-ab87-458d-a160-43ea4da5c77c"
      },
      "execution_count": null,
      "outputs": [
        {
          "output_type": "stream",
          "name": "stdout",
          "text": [
            "True and True : True\n",
            "True and False : False\n",
            "False and True : False\n",
            "False and False : False\n",
            "---------------------------------------------\n",
            "True or True : True\n",
            "True or False : True\n",
            "False or True : True\n",
            "False or False : False\n"
          ]
        }
      ]
    },
    {
      "cell_type": "markdown",
      "source": [
        "#딕셔너리 자료형\n",
        "\n",
        "키와 값 한쌍으로 데이터를 저장하는 구조\n",
        "\n",
        "- 순서가 없음\n",
        "- 키는 유일해야 하며, 값은 중복될 수 있음"
      ],
      "metadata": {
        "id": "MJKUbxwvfXhU"
      }
    },
    {
      "cell_type": "markdown",
      "source": [
        "## 딕셔너리 구조\n",
        "\n",
        "{Key1: Value1, Key2: Value2, Key3: Value3, ...}"
      ],
      "metadata": {
        "id": "emeVTQ9Gf-Vs"
      }
    },
    {
      "cell_type": "code",
      "source": [
        "dic = {'name':'pey', 'phone':'010-1234-1234','birth':'1101'}\n",
        "print(dic)"
      ],
      "metadata": {
        "colab": {
          "base_uri": "https://localhost:8080/"
        },
        "id": "GecAGkDyfWP-",
        "outputId": "054a0fad-af33-4e3b-e0b7-8ad582a355fc"
      },
      "execution_count": null,
      "outputs": [
        {
          "output_type": "stream",
          "name": "stdout",
          "text": [
            "{'name': 'pey', 'phone': '010-1234-1234', 'birth': '1101'}\n"
          ]
        }
      ]
    },
    {
      "cell_type": "markdown",
      "source": [
        "## 딕셔너리 쌍 추가, 삭제"
      ],
      "metadata": {
        "id": "kOR42dYdg9Fl"
      }
    },
    {
      "cell_type": "code",
      "source": [
        "#추가\n",
        "a = {1:'a'}\n",
        "a[2] = 'b'\n",
        "print(a)\n",
        "\n",
        "#삭제\n",
        "del a[1]\n",
        "print(a)"
      ],
      "metadata": {
        "colab": {
          "base_uri": "https://localhost:8080/"
        },
        "id": "MGf0QTcxgox_",
        "outputId": "8ac40b9c-e28d-4b1b-b731-5cf616241c66"
      },
      "execution_count": null,
      "outputs": [
        {
          "output_type": "stream",
          "name": "stdout",
          "text": [
            "{1: 'a', 2: 'b'}\n",
            "{2: 'b'}\n"
          ]
        }
      ]
    },
    {
      "cell_type": "markdown",
      "source": [
        "## 딕셔너리 함수\n",
        "\n",
        "- keys() : 모든키를 반환\n",
        "- values() : 모든 값을 반환\n",
        "- items() 모든 키-값 쌍을 반환\n",
        "- clear() 모든 요소제거"
      ],
      "metadata": {
        "id": "PCFBcHsVh_21"
      }
    },
    {
      "cell_type": "code",
      "source": [
        "dict = {'name':'pey', 'phone':'010-1234-1234','birth':'1101'}\n",
        "\n",
        "print(dict)\n",
        "print(dict.keys())\n",
        "print(dict.values())\n",
        "print(dict.items()) # 출력만 사용하는 경우 print(dict)를 사용하면 되지만 반복문을 사용할때 모든 키값을 가져오기 위해서 사용\n",
        "\n",
        "dict.clear()\n",
        "print(dict)"
      ],
      "metadata": {
        "colab": {
          "base_uri": "https://localhost:8080/"
        },
        "id": "iPZG78L8nFu_",
        "outputId": "3f13e052-b19c-426c-9a8c-b8a5fe1d0ff8"
      },
      "execution_count": null,
      "outputs": [
        {
          "output_type": "stream",
          "name": "stdout",
          "text": [
            "{'name': 'pey', 'phone': '010-1234-1234', 'birth': '1101'}\n",
            "('name', 'pey')\n",
            "('phone', '010-1234-1234')\n",
            "('birth', '1101')\n",
            "dict_keys(['name', 'phone', 'birth'])\n",
            "dict_values(['pey', '010-1234-1234', '1101'])\n",
            "dict_items([('name', 'pey'), ('phone', '010-1234-1234'), ('birth', '1101')])\n",
            "{}\n"
          ]
        }
      ]
    },
    {
      "cell_type": "markdown",
      "source": [
        "#집합 자료형\n",
        "집합과 관련된 것을 처리하기 위해 만든 자료형\n",
        "- 변수명 = set()\n",
        "- 변수명 = set([1,2,3])\n",
        "- 변수명 = set(\"python\")"
      ],
      "metadata": {
        "id": "Sgwxjqvnxv5o"
      }
    },
    {
      "cell_type": "code",
      "source": [
        "s1 = set([1,2,3,3,3,2])\n",
        "s2 = set(\"python\")\n",
        "\n",
        "print(s1)\n",
        "print(s2)"
      ],
      "metadata": {
        "colab": {
          "base_uri": "https://localhost:8080/"
        },
        "id": "_s_rwUk-vL6x",
        "outputId": "0986fd99-109d-4370-8b77-8d4631f0ba4e"
      },
      "execution_count": null,
      "outputs": [
        {
          "output_type": "stream",
          "name": "stdout",
          "text": [
            "{1, 2, 3}\n",
            "{'h', 'o', 'n', 'y', 't', 'p'}\n"
          ]
        }
      ]
    },
    {
      "cell_type": "markdown",
      "source": [
        "## 집합 자료형의 특징\n",
        "- 중복을 허용하지 않는다.\n",
        "- 순서가 없다."
      ],
      "metadata": {
        "id": "u63EkiDsyPD4"
      }
    },
    {
      "cell_type": "code",
      "source": [
        "s1 = set([1,2,3])\n",
        "l1 = list(s1)\n",
        "print(l1)\n",
        "print(l1[0])\n",
        "t1 = tuple(s1)\n",
        "print(t1)\n",
        "print(t1[0])"
      ],
      "metadata": {
        "colab": {
          "base_uri": "https://localhost:8080/"
        },
        "id": "OCpdYUpXyDSi",
        "outputId": "2c139e60-e922-4dac-b76a-ee9ce24da0dd"
      },
      "execution_count": null,
      "outputs": [
        {
          "output_type": "stream",
          "name": "stdout",
          "text": [
            "[1, 2, 3]\n",
            "1\n",
            "(1, 2, 3)\n",
            "1\n"
          ]
        }
      ]
    },
    {
      "cell_type": "markdown",
      "source": [
        "##교집합, 합집합, 차집합 구하기\n",
        "- 교집합 &\n",
        "- 합집합 ||\n",
        "- 차집합 -"
      ],
      "metadata": {
        "id": "iNleIkrSymC5"
      }
    },
    {
      "cell_type": "code",
      "source": [
        "s1 = set([1,2,3,4,5,6])\n",
        "s2 = set([4,5,6,7,8,9])\n",
        "\n",
        "print(\"교집합 :\",s1 & s2)\n",
        "print(\"합집합 :\",s1 | s2)\n",
        "print(\"차집합 :\",s1 - s2)"
      ],
      "metadata": {
        "colab": {
          "base_uri": "https://localhost:8080/"
        },
        "id": "PMWUh9Xeygjh",
        "outputId": "b71416c9-fa90-435f-beec-b5b6aa4972e0"
      },
      "execution_count": null,
      "outputs": [
        {
          "output_type": "stream",
          "name": "stdout",
          "text": [
            "교집합 : {4, 5, 6}\n",
            "합집합 : {1, 2, 3, 4, 5, 6, 7, 8, 9}\n",
            "차집합 : {1, 2, 3}\n"
          ]
        }
      ]
    },
    {
      "cell_type": "markdown",
      "source": [
        "#조건문\n",
        "\n",
        "- if문 : 주어진 조건이 참인 경우에만 특정 코드를 실행\n",
        "- else문 : if문의 조건이 거짓일 경우에 실행\n",
        "- elif문 : 첫 번째 if 조건이 거짓이고, 다른 조건을 평가하고자 할 때 실행"
      ],
      "metadata": {
        "id": "7RkH62nd5ZZh"
      }
    },
    {
      "cell_type": "code",
      "source": [
        "score = int(input(\"점수를 입력하세요 : \"))\n",
        "\n",
        "if score >= 90:\n",
        "  print('A')\n",
        "elif score >= 80:\n",
        "  print('B')\n",
        "elif score >= 70:\n",
        "  print('C')\n",
        "else:\n",
        "  print('F')"
      ],
      "metadata": {
        "id": "jwdJAjrd5cVl",
        "colab": {
          "base_uri": "https://localhost:8080/"
        },
        "outputId": "a9c03e9b-c106-4559-d47f-59cb76c93298"
      },
      "execution_count": 6,
      "outputs": [
        {
          "output_type": "stream",
          "name": "stdout",
          "text": [
            "점수를 입력하세요 : 80\n",
            "B\n"
          ]
        }
      ]
    },
    {
      "cell_type": "code",
      "source": [
        "character = input('문자를 입력하세요: ')\n",
        "\n",
        "if character == 'a':\n",
        "  print(\"입력한 문자는 'a'입니다\")\n",
        "else:\n",
        "  print(\"입력한 문자는 'a'가 아닙니다.\")"
      ],
      "metadata": {
        "colab": {
          "base_uri": "https://localhost:8080/"
        },
        "id": "i1YBPsOCWHEN",
        "outputId": "f33687f1-d2b9-4813-8c48-c81a4512f7fc"
      },
      "execution_count": 5,
      "outputs": [
        {
          "output_type": "stream",
          "name": "stdout",
          "text": [
            "문자를 입력하세요: 1\n",
            "입력한 문자는 'a'가 아닙니다.\n"
          ]
        }
      ]
    },
    {
      "cell_type": "markdown",
      "source": [
        "# IN 연산자\n",
        "문자열, 리스트, 튜플에 원하는 원소가 있는지 확인하는 연산자"
      ],
      "metadata": {
        "id": "-J4_4Ru7Yj8j"
      }
    },
    {
      "cell_type": "code",
      "source": [
        "arr = [1,2,3,4,5,6]\n",
        "\n",
        "print(3 in arr)   #배열안에 있는 경우\n",
        "print(7 in arr)   #배열안에 없는 경우"
      ],
      "metadata": {
        "colab": {
          "base_uri": "https://localhost:8080/"
        },
        "id": "Vr_N_HOuYpgr",
        "outputId": "7bba3fee-1e31-43ca-e239-ce1a3a79c18b"
      },
      "execution_count": 8,
      "outputs": [
        {
          "output_type": "stream",
          "name": "stdout",
          "text": [
            "True\n",
            "False\n"
          ]
        }
      ]
    },
    {
      "cell_type": "code",
      "source": [
        "#주머니에 돈이 있는 경우 택시를 타고 없는경우 걸어가라고 명령\n",
        "pocket = [\"phone\",\"wallet\",\"money\",\"IDcard\"]\n",
        "\n",
        "if \"money\" in pocket:\n",
        "  print(\"택시를 타고 가라\")\n",
        "else:\n",
        "  print(\"걸어가라\")"
      ],
      "metadata": {
        "colab": {
          "base_uri": "https://localhost:8080/"
        },
        "id": "q53pnoRWY4Jr",
        "outputId": "ca41b973-3b16-4a58-cfed-e4ddc641af4d"
      },
      "execution_count": 11,
      "outputs": [
        {
          "output_type": "stream",
          "name": "stdout",
          "text": [
            "택시를 타고 가라\n"
          ]
        }
      ]
    },
    {
      "cell_type": "code",
      "source": [
        "#만약 주머니에 돈이 있거나 카드가 있으면 택시를 타고, 없으면 걸어가라고 명령\n",
        "pocket = [\"phone\",\"wallet\",\"money\",\"IDcard\"]\n",
        "\n",
        "if \"money\" in pocket or \"card\" in pocket:\n",
        "  print(\"택시를 타고 가라\")\n",
        "else:\n",
        "  print(\"걸어가라\")"
      ],
      "metadata": {
        "colab": {
          "base_uri": "https://localhost:8080/"
        },
        "id": "9EY1_CHTanK8",
        "outputId": "30dcc5b9-266d-42f6-b336-d8e485f2ed82"
      },
      "execution_count": 15,
      "outputs": [
        {
          "output_type": "stream",
          "name": "stdout",
          "text": [
            "택시를 타고 가라\n"
          ]
        }
      ]
    },
    {
      "cell_type": "code",
      "source": [
        "#만약 주머니에 돈이 있거나 카드가 있으면 택시를 타고, 없으면 걸어가라고 명령\n",
        "pocket = [\"phone\",\"wallet\",\"money\",\"IDcard\"]\n",
        "\n",
        "if \"money\" in pocket:\n",
        "  print(\"택시를 타고 가라\")\n",
        "elif \"card\" in pocket:\n",
        "  print(\"택시를 타고 가라\")\n",
        "else:\n",
        "  print(\"걸어가라\")"
      ],
      "metadata": {
        "colab": {
          "base_uri": "https://localhost:8080/"
        },
        "id": "fwIuk3jga4fT",
        "outputId": "594f6d25-6e84-4b1b-9555-10f763f9b70c"
      },
      "execution_count": 16,
      "outputs": [
        {
          "output_type": "stream",
          "name": "stdout",
          "text": [
            "택시를 타고 가라\n"
          ]
        }
      ]
    }
  ]
}