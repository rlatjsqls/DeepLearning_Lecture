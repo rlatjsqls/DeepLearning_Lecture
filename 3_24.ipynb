{
  "nbformat": 4,
  "nbformat_minor": 0,
  "metadata": {
    "colab": {
      "provenance": []
    },
    "kernelspec": {
      "name": "python3",
      "display_name": "Python 3"
    },
    "language_info": {
      "name": "python"
    }
  },
  "cells": [
    {
      "cell_type": "markdown",
      "source": [
        "#튜플 자료형\n"
      ],
      "metadata": {
        "id": "qFWiAvOsdhgU"
      }
    },
    {
      "cell_type": "markdown",
      "source": [
        "##튜플 더하기"
      ],
      "metadata": {
        "id": "fpkd61RefcO0"
      }
    },
    {
      "cell_type": "code",
      "source": [
        "t1 = (1,2,'a','b')\n",
        "t2 = (3,4)\n",
        "t3 = t1 + t2\n",
        "print(t3)"
      ],
      "metadata": {
        "colab": {
          "base_uri": "https://localhost:8080/"
        },
        "id": "hco253uUetHv",
        "outputId": "149a19bb-a869-4786-ae21-74d413cf7a1c"
      },
      "execution_count": null,
      "outputs": [
        {
          "output_type": "stream",
          "name": "stdout",
          "text": [
            "(1, 2, 'a', 'b', 3, 4)\n"
          ]
        }
      ]
    },
    {
      "cell_type": "markdown",
      "source": [
        "## 튜플 곱하기"
      ],
      "metadata": {
        "id": "vZ3128IbfDRE"
      }
    },
    {
      "cell_type": "code",
      "source": [
        "t2 = (3,4)\n",
        "t3 = t2 * 3\n",
        "print(t3)"
      ],
      "metadata": {
        "colab": {
          "base_uri": "https://localhost:8080/"
        },
        "id": "A60E34TKe8Af",
        "outputId": "8820bd0b-a310-48de-a858-e74e71494460"
      },
      "execution_count": null,
      "outputs": [
        {
          "output_type": "stream",
          "name": "stdout",
          "text": [
            "(3, 4, 3, 4, 3, 4)\n"
          ]
        }
      ]
    },
    {
      "cell_type": "markdown",
      "source": [
        "## 튜플 길이 구하기"
      ],
      "metadata": {
        "id": "y7mbaOjffPCk"
      }
    },
    {
      "cell_type": "code",
      "source": [
        "t1 = (1,2,'a','b')\n",
        "print(len(t1))"
      ],
      "metadata": {
        "colab": {
          "base_uri": "https://localhost:8080/"
        },
        "id": "JT1cZ61NfNsu",
        "outputId": "89b73490-ed41-4cfa-fa20-a93e6d4fbb2f"
      },
      "execution_count": null,
      "outputs": [
        {
          "output_type": "stream",
          "name": "stdout",
          "text": [
            "4\n"
          ]
        }
      ]
    },
    {
      "cell_type": "markdown",
      "source": [
        "#논리 연산자\n",
        "\n",
        "- and : 모두가 참인경우에만 참\n",
        "- or : 참이 하나라도 있는경우 참\n"
      ],
      "metadata": {
        "id": "YMCF0CGDuerI"
      }
    },
    {
      "cell_type": "code",
      "source": [
        "#and\n",
        "print(\"True and True :\",True and True)\n",
        "print(\"True and False :\",True and False)\n",
        "print(\"False and True :\",False and True)\n",
        "print(\"False and False :\",False and False)\n",
        "\n",
        "print('---------------------------------------------')\n",
        "#or\n",
        "print(\"True or True :\",True or True)\n",
        "print(\"True or False :\",True or False)\n",
        "print(\"False or True :\",False or True)\n",
        "print(\"False or False :\",False or False)"
      ],
      "metadata": {
        "colab": {
          "base_uri": "https://localhost:8080/"
        },
        "id": "6AhJBhiWujbQ",
        "outputId": "271fe7e7-ab87-458d-a160-43ea4da5c77c"
      },
      "execution_count": null,
      "outputs": [
        {
          "output_type": "stream",
          "name": "stdout",
          "text": [
            "True and True : True\n",
            "True and False : False\n",
            "False and True : False\n",
            "False and False : False\n",
            "---------------------------------------------\n",
            "True or True : True\n",
            "True or False : True\n",
            "False or True : True\n",
            "False or False : False\n"
          ]
        }
      ]
    },
    {
      "cell_type": "markdown",
      "source": [
        "#딕셔너리 자료형\n",
        "\n",
        "키와 값 한쌍으로 데이터를 저장하는 구조\n",
        "\n",
        "- 순서가 없음\n",
        "- 키는 유일해야 하며, 값은 중복될 수 있음"
      ],
      "metadata": {
        "id": "MJKUbxwvfXhU"
      }
    },
    {
      "cell_type": "markdown",
      "source": [
        "## 딕셔너리 구조\n",
        "\n",
        "{Key1: Value1, Key2: Value2, Key3: Value3, ...}"
      ],
      "metadata": {
        "id": "emeVTQ9Gf-Vs"
      }
    },
    {
      "cell_type": "code",
      "source": [
        "dic = {'name':'pey', 'phone':'010-1234-1234','birth':'1101'}\n",
        "print(dic)"
      ],
      "metadata": {
        "colab": {
          "base_uri": "https://localhost:8080/"
        },
        "id": "GecAGkDyfWP-",
        "outputId": "054a0fad-af33-4e3b-e0b7-8ad582a355fc"
      },
      "execution_count": null,
      "outputs": [
        {
          "output_type": "stream",
          "name": "stdout",
          "text": [
            "{'name': 'pey', 'phone': '010-1234-1234', 'birth': '1101'}\n"
          ]
        }
      ]
    },
    {
      "cell_type": "markdown",
      "source": [
        "## 딕셔너리 쌍 추가, 삭제"
      ],
      "metadata": {
        "id": "kOR42dYdg9Fl"
      }
    },
    {
      "cell_type": "code",
      "source": [
        "#추가\n",
        "a = {1:'a'}\n",
        "a[2] = 'b'\n",
        "print(a)\n",
        "\n",
        "#삭제\n",
        "del a[1]\n",
        "print(a)"
      ],
      "metadata": {
        "colab": {
          "base_uri": "https://localhost:8080/"
        },
        "id": "MGf0QTcxgox_",
        "outputId": "8ac40b9c-e28d-4b1b-b731-5cf616241c66"
      },
      "execution_count": null,
      "outputs": [
        {
          "output_type": "stream",
          "name": "stdout",
          "text": [
            "{1: 'a', 2: 'b'}\n",
            "{2: 'b'}\n"
          ]
        }
      ]
    },
    {
      "cell_type": "markdown",
      "source": [
        "## 딕셔너리 함수\n",
        "\n",
        "- keys() : 모든키를 반환\n",
        "- values() : 모든 값을 반환\n",
        "- items() 모든 키-값 쌍을 반환\n",
        "- clear() 모든 요소제거"
      ],
      "metadata": {
        "id": "PCFBcHsVh_21"
      }
    },
    {
      "cell_type": "code",
      "source": [
        "dict = {'name':'pey', 'phone':'010-1234-1234','birth':'1101'}\n",
        "\n",
        "print(dict)\n",
        "print(dict.keys())\n",
        "print(dict.values())\n",
        "print(dict.items()) # 출력만 사용하는 경우 print(dict)를 사용하면 되지만 반복문을 사용할때 모든 키값을 가져오기 위해서 사용\n",
        "\n",
        "dict.clear()\n",
        "print(dict)"
      ],
      "metadata": {
        "colab": {
          "base_uri": "https://localhost:8080/"
        },
        "id": "iPZG78L8nFu_",
        "outputId": "3f13e052-b19c-426c-9a8c-b8a5fe1d0ff8"
      },
      "execution_count": null,
      "outputs": [
        {
          "output_type": "stream",
          "name": "stdout",
          "text": [
            "{'name': 'pey', 'phone': '010-1234-1234', 'birth': '1101'}\n",
            "('name', 'pey')\n",
            "('phone', '010-1234-1234')\n",
            "('birth', '1101')\n",
            "dict_keys(['name', 'phone', 'birth'])\n",
            "dict_values(['pey', '010-1234-1234', '1101'])\n",
            "dict_items([('name', 'pey'), ('phone', '010-1234-1234'), ('birth', '1101')])\n",
            "{}\n"
          ]
        }
      ]
    },
    {
      "cell_type": "markdown",
      "source": [
        "#집합 자료형\n",
        "집합과 관련된 것을 처리하기 위해 만든 자료형\n",
        "- 변수명 = set()\n",
        "- 변수명 = set([1,2,3])\n",
        "- 변수명 = set(\"python\")"
      ],
      "metadata": {
        "id": "Sgwxjqvnxv5o"
      }
    },
    {
      "cell_type": "code",
      "source": [
        "s1 = set([1,2,3,3,3,2])\n",
        "s2 = set(\"python\")\n",
        "\n",
        "print(s1)\n",
        "print(s2)"
      ],
      "metadata": {
        "colab": {
          "base_uri": "https://localhost:8080/"
        },
        "id": "_s_rwUk-vL6x",
        "outputId": "0986fd99-109d-4370-8b77-8d4631f0ba4e"
      },
      "execution_count": null,
      "outputs": [
        {
          "output_type": "stream",
          "name": "stdout",
          "text": [
            "{1, 2, 3}\n",
            "{'h', 'o', 'n', 'y', 't', 'p'}\n"
          ]
        }
      ]
    },
    {
      "cell_type": "markdown",
      "source": [
        "## 집합 자료형의 특징\n",
        "- 중복을 허용하지 않는다.\n",
        "- 순서가 없다."
      ],
      "metadata": {
        "id": "u63EkiDsyPD4"
      }
    },
    {
      "cell_type": "code",
      "source": [
        "s1 = set([1,2,3])\n",
        "l1 = list(s1)\n",
        "print(l1)\n",
        "print(l1[0])\n",
        "t1 = tuple(s1)\n",
        "print(t1)\n",
        "print(t1[0])"
      ],
      "metadata": {
        "colab": {
          "base_uri": "https://localhost:8080/"
        },
        "id": "OCpdYUpXyDSi",
        "outputId": "2c139e60-e922-4dac-b76a-ee9ce24da0dd"
      },
      "execution_count": null,
      "outputs": [
        {
          "output_type": "stream",
          "name": "stdout",
          "text": [
            "[1, 2, 3]\n",
            "1\n",
            "(1, 2, 3)\n",
            "1\n"
          ]
        }
      ]
    },
    {
      "cell_type": "markdown",
      "source": [
        "##교집합, 합집합, 차집합 구하기\n",
        "- 교집합 &\n",
        "- 합집합 ||\n",
        "- 차집합 -"
      ],
      "metadata": {
        "id": "iNleIkrSymC5"
      }
    },
    {
      "cell_type": "code",
      "source": [
        "s1 = set([1,2,3,4,5,6])\n",
        "s2 = set([4,5,6,7,8,9])\n",
        "\n",
        "print(\"교집합 :\",s1 & s2)\n",
        "print(\"합집합 :\",s1 | s2)\n",
        "print(\"차집합 :\",s1 - s2)"
      ],
      "metadata": {
        "colab": {
          "base_uri": "https://localhost:8080/"
        },
        "id": "PMWUh9Xeygjh",
        "outputId": "b71416c9-fa90-435f-beec-b5b6aa4972e0"
      },
      "execution_count": null,
      "outputs": [
        {
          "output_type": "stream",
          "name": "stdout",
          "text": [
            "교집합 : {4, 5, 6}\n",
            "합집합 : {1, 2, 3, 4, 5, 6, 7, 8, 9}\n",
            "차집합 : {1, 2, 3}\n"
          ]
        }
      ]
    }
  ]
}