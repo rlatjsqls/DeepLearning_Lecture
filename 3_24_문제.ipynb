{
  "nbformat": 4,
  "nbformat_minor": 0,
  "metadata": {
    "colab": {
      "provenance": []
    },
    "kernelspec": {
      "name": "python3",
      "display_name": "Python 3"
    },
    "language_info": {
      "name": "python"
    }
  },
  "cells": [
    {
      "cell_type": "markdown",
      "source": [
        "#조건문 문제"
      ],
      "metadata": {
        "id": "houbKqjJp_tw"
      }
    },
    {
      "cell_type": "markdown",
      "source": [
        "##1번 문제\n",
        "점수를 입력받고 90점이상이면 A\n",
        "80점 이상이면 B\n",
        "70점 이상이면 C\n",
        "70점 미만이면 F를 출력하세요"
      ],
      "metadata": {
        "id": "sw6v-C7poz0X"
      }
    },
    {
      "cell_type": "code",
      "source": [
        "score = int(input(\"점수를 입력하세요 : \"))\n",
        "\n",
        "if score >= 90:\n",
        "  print('A')\n",
        "elif score >= 80:\n",
        "  print('B')\n",
        "elif score >= 70:\n",
        "  print('C')\n",
        "else:\n",
        "  print('F')"
      ],
      "metadata": {
        "colab": {
          "base_uri": "https://localhost:8080/"
        },
        "id": "zdGRSL4Ciqym",
        "outputId": "a13ed197-89a3-42b2-9d90-f744dd9cd1ca"
      },
      "execution_count": 15,
      "outputs": [
        {
          "output_type": "stream",
          "name": "stdout",
          "text": [
            "점수를 입력하세요 : 80\n",
            "B\n"
          ]
        }
      ]
    },
    {
      "cell_type": "markdown",
      "source": [
        "##2번 문제\n",
        "사용자에게 정수 값을 2개 입력받아, 더 큰 숫자를 출력하고, 만약 같은 숫자라면 같습니다.라는 문장을 출력하시오."
      ],
      "metadata": {
        "id": "i8-n_f8IpD3m"
      }
    },
    {
      "cell_type": "code",
      "execution_count": 11,
      "metadata": {
        "colab": {
          "base_uri": "https://localhost:8080/"
        },
        "id": "luN-LTUKVDlN",
        "outputId": "669da7f4-6c6a-4577-8b6f-6dc875b54139"
      },
      "outputs": [
        {
          "output_type": "stream",
          "name": "stdout",
          "text": [
            "10 20\n",
            "20\n"
          ]
        }
      ],
      "source": [
        "n1, n2 = map(int,input().split())\n",
        "\n",
        "if n1 > n2:\n",
        "  print(n1)\n",
        "elif n1 < n2:\n",
        "  print(n2)\n",
        "else:\n",
        "  print(\"같습니다\")\n"
      ]
    },
    {
      "cell_type": "markdown",
      "source": [
        "##3번문제\n",
        "숫자가 1000 이상이면, 백단위를 생략하고 k를 붙이고\n",
        "숫자가 1000000 이상이면, 십만 단위를 생략하고 M을 붙이고\n",
        "숫자가 1000000000 이상이면 , G를 붙이고 출력하는 코드를 작성하시오. (큰단위 아래숫자 생략)"
      ],
      "metadata": {
        "id": "F98Yis2GpJYu"
      }
    },
    {
      "cell_type": "code",
      "source": [
        "n = int(input())\n",
        "\n",
        "if n >= 1000000000:\n",
        "  print(n // 1000000000,'G')\n",
        "elif n >= 1000000:\n",
        "  print(n // 1000000,'M')\n",
        "elif n >= 1000:\n",
        "  print(n // 1000,'K')\n",
        "else:\n",
        "  print(n)"
      ],
      "metadata": {
        "colab": {
          "base_uri": "https://localhost:8080/"
        },
        "id": "0mRWw2Fad0G9",
        "outputId": "138ffb10-f843-4f25-93ae-c9c2e5bb109c"
      },
      "execution_count": 48,
      "outputs": [
        {
          "output_type": "stream",
          "name": "stdout",
          "text": [
            "10\n",
            "10\n"
          ]
        }
      ]
    },
    {
      "cell_type": "markdown",
      "source": [
        "#2장 연습문제"
      ],
      "metadata": {
        "id": "_05jJgccpY2X"
      }
    },
    {
      "cell_type": "code",
      "source": [
        "#2장 연습문제 1\n",
        "국어 = 80\n",
        "영어 = 75\n",
        "수학 = 55\n",
        "\n",
        "print((국어+영어+수학)/3)"
      ],
      "metadata": {
        "colab": {
          "base_uri": "https://localhost:8080/"
        },
        "id": "e8jP91yed5Dd",
        "outputId": "4ff4af7a-073f-49c6-a7f0-5dca67741cd2"
      },
      "execution_count": 49,
      "outputs": [
        {
          "output_type": "stream",
          "name": "stdout",
          "text": [
            "70.0\n"
          ]
        }
      ]
    },
    {
      "cell_type": "code",
      "source": [
        "#2장 연습문제 2\n",
        "n = 13\n",
        "\n",
        "if n % 2 == 1:\n",
        "  print('홀수')\n",
        "else:\n",
        "  print(\"짝수\")"
      ],
      "metadata": {
        "colab": {
          "base_uri": "https://localhost:8080/"
        },
        "id": "wY3l0tX3ij2f",
        "outputId": "94b2f472-218e-4875-e73e-80ea36985b39"
      },
      "execution_count": 20,
      "outputs": [
        {
          "output_type": "stream",
          "name": "stdout",
          "text": [
            "홀수\n"
          ]
        }
      ]
    },
    {
      "cell_type": "code",
      "source": [
        "#2장 연습문제 3\n",
        "pin = \"881120-1068234\"\n",
        "yyyymmdd = \"19\" + pin[:6]\n",
        "num = pin[7:]\n",
        "print(yyyymmdd)\n",
        "print(num)"
      ],
      "metadata": {
        "colab": {
          "base_uri": "https://localhost:8080/"
        },
        "id": "I_LRETQqikbP",
        "outputId": "7cc15e08-c2a4-4739-cc22-a4ea7f0fddbf"
      },
      "execution_count": 27,
      "outputs": [
        {
          "output_type": "stream",
          "name": "stdout",
          "text": [
            "19881120\n",
            "1068234\n"
          ]
        }
      ]
    },
    {
      "cell_type": "code",
      "source": [
        "#4\n",
        "pin = \"881120-1068234\"\n",
        "print(pin[7])"
      ],
      "metadata": {
        "colab": {
          "base_uri": "https://localhost:8080/"
        },
        "id": "fF2AGE2Cik1-",
        "outputId": "80ac6039-d81c-4ebb-c29a-af2328e702a3"
      },
      "execution_count": 28,
      "outputs": [
        {
          "output_type": "stream",
          "name": "stdout",
          "text": [
            "1\n"
          ]
        }
      ]
    },
    {
      "cell_type": "code",
      "source": [
        "#5\n",
        "a = \"a:b:c:d\"\n",
        "b = a.replace(\":\",\"#\")\n",
        "print(b)"
      ],
      "metadata": {
        "colab": {
          "base_uri": "https://localhost:8080/"
        },
        "id": "ytYLIPD3lRP_",
        "outputId": "1ab8aa88-396b-4f75-d098-e0fea8adb24f"
      },
      "execution_count": 29,
      "outputs": [
        {
          "output_type": "stream",
          "name": "stdout",
          "text": [
            "a#b#c#d\n"
          ]
        }
      ]
    },
    {
      "cell_type": "code",
      "source": [
        "#6\n",
        "a = [1,3,5,4,2]\n",
        "a.sort()\n",
        "a.reverse()\n",
        "print(a)"
      ],
      "metadata": {
        "colab": {
          "base_uri": "https://localhost:8080/"
        },
        "id": "f87SMxbGlZx-",
        "outputId": "b27e1ea1-d05b-427c-8a8b-857ff5cb6e2b"
      },
      "execution_count": 30,
      "outputs": [
        {
          "output_type": "stream",
          "name": "stdout",
          "text": [
            "[5, 4, 3, 2, 1]\n"
          ]
        }
      ]
    },
    {
      "cell_type": "code",
      "source": [
        "#7\n",
        "a = ['Life','is','too','short']\n",
        "result = \" \".join(a)\n",
        "print(result)"
      ],
      "metadata": {
        "colab": {
          "base_uri": "https://localhost:8080/"
        },
        "id": "y2ppj0Sylgye",
        "outputId": "92be9306-a454-4e47-c5eb-19a0c1afddbb"
      },
      "execution_count": 33,
      "outputs": [
        {
          "output_type": "stream",
          "name": "stdout",
          "text": [
            "Life is too short\n"
          ]
        }
      ]
    },
    {
      "cell_type": "code",
      "source": [
        "#8\n",
        "a = (1,2,3)\n",
        "a = a + (4,)\n",
        "print(a)"
      ],
      "metadata": {
        "colab": {
          "base_uri": "https://localhost:8080/"
        },
        "id": "SFcuGVdnltCO",
        "outputId": "f96c5b4c-ce58-4edb-c84e-acf9adafe754"
      },
      "execution_count": 41,
      "outputs": [
        {
          "output_type": "stream",
          "name": "stdout",
          "text": [
            "(1, 2, 3, 4)\n"
          ]
        }
      ]
    },
    {
      "cell_type": "code",
      "source": [
        "#9\n",
        "a = dict()\n",
        "a['name'] = 'python'\n",
        "a[('a,')] = 'python'\n",
        "#a[[1]] = 'python'      튜플 형식은 가능하지만 리스트 형식은 키로 사용할수 없다\n",
        "a[250] = 'python'\n",
        "print(a)"
      ],
      "metadata": {
        "colab": {
          "base_uri": "https://localhost:8080/"
        },
        "id": "OWoUH-v5l3-k",
        "outputId": "fe891ae9-f557-4597-adae-bea714a970d1"
      },
      "execution_count": 38,
      "outputs": [
        {
          "output_type": "stream",
          "name": "stdout",
          "text": [
            "{'name': 'python', 'a,': 'python', 250: 'python'}\n"
          ]
        }
      ]
    },
    {
      "cell_type": "code",
      "source": [
        "#10\n",
        "a = {'A':90, 'B':80, 'C':70}\n",
        "result = a.pop('B')\n",
        "print(a)\n",
        "print(result)"
      ],
      "metadata": {
        "colab": {
          "base_uri": "https://localhost:8080/"
        },
        "id": "fbCQPizbmMjP",
        "outputId": "151dc89b-c2ec-4b59-b6b4-715d037d1547"
      },
      "execution_count": 42,
      "outputs": [
        {
          "output_type": "stream",
          "name": "stdout",
          "text": [
            "{'A': 90, 'C': 70}\n",
            "80\n"
          ]
        }
      ]
    },
    {
      "cell_type": "code",
      "source": [
        "#11\n",
        "a = [1,1,1,2,2,3,3,3,4,4,5]\n",
        "aSet = set(a)\n",
        "b = list(aSet)\n",
        "print(b)"
      ],
      "metadata": {
        "colab": {
          "base_uri": "https://localhost:8080/"
        },
        "id": "UZ1xECSsnBrQ",
        "outputId": "5de0495b-1335-44a0-b53f-a5714a2201f6"
      },
      "execution_count": 43,
      "outputs": [
        {
          "output_type": "stream",
          "name": "stdout",
          "text": [
            "[1, 2, 3, 4, 5]\n"
          ]
        }
      ]
    },
    {
      "cell_type": "code",
      "source": [
        "#12\n",
        "a = b = [1,2,3]\n",
        "a[1] = 4\n",
        "print(b)\n",
        "\n",
        "#a와 b가 같은 주소를 쓰고 있어서 a를 변경하면 b의 값도 바뀌게 된다\n",
        "#복사를 해도 다르게 사용하고 싶다면 아래의 방식으로 복사하거나 copy를 사용하면 된다.\n",
        "a = [1,2,3]\n",
        "b = a[:]\n",
        "a[1] = 4\n",
        "print(b)\n"
      ],
      "metadata": {
        "colab": {
          "base_uri": "https://localhost:8080/"
        },
        "id": "_S7Klb8KnKD_",
        "outputId": "ed9a2b4b-9ac0-43e1-e5b7-4fd32a1ac4d1"
      },
      "execution_count": 45,
      "outputs": [
        {
          "output_type": "stream",
          "name": "stdout",
          "text": [
            "[1, 4, 3]\n",
            "[1, 2, 3]\n"
          ]
        }
      ]
    }
  ]
}