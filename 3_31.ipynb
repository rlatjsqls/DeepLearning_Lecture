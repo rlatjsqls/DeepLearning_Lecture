{
  "nbformat": 4,
  "nbformat_minor": 0,
  "metadata": {
    "colab": {
      "provenance": [],
      "collapsed_sections": [
        "3sWlF9q5hJMs",
        "ux9OrCW4iCG-",
        "_XurG83flkeu"
      ]
    },
    "kernelspec": {
      "name": "python3",
      "display_name": "Python 3"
    },
    "language_info": {
      "name": "python"
    }
  },
  "cells": [
    {
      "cell_type": "markdown",
      "source": [
        "#반복문\n",
        "- 특정 코드를 여러 번 실행\n"
      ],
      "metadata": {
        "id": "vxBOqhc9hAg0"
      }
    },
    {
      "cell_type": "markdown",
      "source": [
        "##while문\n",
        "- 주어진 조건이 참인 동안 코드를 반복 실행\n",
        "\n",
        "\n",
        "```\n",
        "while 조건문:\n",
        "    수행할_문장1\n",
        "    수행할_문장2\n",
        "    수행할_문장3\n",
        "    ...\n",
        "```\n",
        "\n"
      ],
      "metadata": {
        "id": "3sWlF9q5hJMs"
      }
    },
    {
      "cell_type": "code",
      "source": [
        "num = 0\n",
        "while(num < 3):\n",
        "    print(num)\n",
        "    num += 1\n"
      ],
      "metadata": {
        "colab": {
          "base_uri": "https://localhost:8080/"
        },
        "id": "uX2nVsmchATe",
        "outputId": "33452bad-72b6-4126-a692-1be6fcd23ff7"
      },
      "execution_count": null,
      "outputs": [
        {
          "output_type": "stream",
          "name": "stdout",
          "text": [
            "0\n",
            "1\n",
            "2\n"
          ]
        }
      ]
    },
    {
      "cell_type": "markdown",
      "source": [
        "##break문\n",
        "- 반복문을 반복하다 break문을 만나면 반복문을 나가게 된다.\n",
        "\n",
        "\n",
        "```\n",
        "while 조건문:\n",
        "    수행할_문장1\n",
        "    수행할_문장2\n",
        "    수행할_문장3\n",
        "    break\n",
        "    수행할_문장4\n",
        "    수행할_문장5\n",
        "    ...\n",
        "```\n",
        "위와 같이 반복문이 돼있으면 3번까지 수행하고 멈추게 된다.\n"
      ],
      "metadata": {
        "id": "ux9OrCW4iCG-"
      }
    },
    {
      "cell_type": "code",
      "execution_count": null,
      "metadata": {
        "colab": {
          "base_uri": "https://localhost:8080/"
        },
        "id": "RBdEWPa8g8uN",
        "outputId": "f20faf91-4d48-4718-b6f7-07ce6ea0b45d"
      },
      "outputs": [
        {
          "output_type": "stream",
          "name": "stdout",
          "text": [
            "1\n",
            "2\n",
            "3\n",
            "4\n",
            "5\n"
          ]
        }
      ],
      "source": [
        "num = 1\n",
        "while(1):\n",
        "    print(num)\n",
        "    if num == 5:\n",
        "        break\n",
        "    num += 1"
      ]
    },
    {
      "cell_type": "markdown",
      "source": [
        "##continue문\n",
        "-while문에서 continue를 만나면 이번 루프를 바로 끝내고 다음 루프로 간다."
      ],
      "metadata": {
        "id": "_XurG83flkeu"
      }
    },
    {
      "cell_type": "code",
      "source": [
        "a = 0\n",
        "while(1):\n",
        "    a += 1\n",
        "    if a % 2 == 1:\n",
        "        continue\n",
        "    print(a)\n",
        "    if a == 10:\n",
        "        break"
      ],
      "metadata": {
        "colab": {
          "base_uri": "https://localhost:8080/"
        },
        "id": "OD5tLYMWl1Bd",
        "outputId": "83409209-83cb-42a4-f329-587c64ec2e57"
      },
      "execution_count": null,
      "outputs": [
        {
          "output_type": "stream",
          "name": "stdout",
          "text": [
            "2\n",
            "4\n",
            "6\n",
            "8\n",
            "10\n"
          ]
        }
      ]
    },
    {
      "cell_type": "code",
      "source": [
        "#예제\n",
        "n = int(input(\"입력 : \"))\n",
        "result = 0\n",
        "\n",
        "while(n > 0):\n",
        "    if n % 3 == 0:\n",
        "        result += n\n",
        "    n -= 1\n",
        "\n",
        "print(result)\n"
      ],
      "metadata": {
        "colab": {
          "base_uri": "https://localhost:8080/"
        },
        "id": "I0HU8iOsm9Jm",
        "outputId": "49ec6b00-0fe4-4e63-adf0-b07636e19193"
      },
      "execution_count": null,
      "outputs": [
        {
          "output_type": "stream",
          "name": "stdout",
          "text": [
            "입력 : 10\n",
            "18\n"
          ]
        }
      ]
    },
    {
      "cell_type": "code",
      "source": [
        "#예제\n",
        "x = int(input())\n",
        "n = 0\n",
        "while(n <= x):\n",
        "    n += 1\n",
        "    if n > 100:\n",
        "        break\n",
        "    if n % 2 == 0:\n",
        "        continue\n",
        "    print(n)\n"
      ],
      "metadata": {
        "colab": {
          "base_uri": "https://localhost:8080/"
        },
        "collapsed": true,
        "id": "n_-Q0806pEsu",
        "outputId": "59429c39-c3b8-4665-a59f-e7448d584d71"
      },
      "execution_count": null,
      "outputs": [
        {
          "output_type": "stream",
          "name": "stdout",
          "text": [
            "100\n",
            "1\n",
            "3\n",
            "5\n",
            "7\n",
            "9\n",
            "11\n",
            "13\n",
            "15\n",
            "17\n",
            "19\n",
            "21\n",
            "23\n",
            "25\n",
            "27\n",
            "29\n",
            "31\n",
            "33\n",
            "35\n",
            "37\n",
            "39\n",
            "41\n",
            "43\n",
            "45\n",
            "47\n",
            "49\n",
            "51\n",
            "53\n",
            "55\n",
            "57\n",
            "59\n",
            "61\n",
            "63\n",
            "65\n",
            "67\n",
            "69\n",
            "71\n",
            "73\n",
            "75\n",
            "77\n",
            "79\n",
            "81\n",
            "83\n",
            "85\n",
            "87\n",
            "89\n",
            "91\n",
            "93\n",
            "95\n",
            "97\n",
            "99\n"
          ]
        }
      ]
    },
    {
      "cell_type": "markdown",
      "source": [
        "##for문\n",
        "- while문과 비슷하지만 정해진 범위나 배열을 반복한다.\n",
        "\n",
        "\n",
        "```\n",
        "for 변수 in 리스트(또는 튜플, 문자열):\n",
        "    수행할_문장1\n",
        "    수행할_문장2\n",
        "    ...\n",
        "```\n",
        "\n"
      ],
      "metadata": {
        "id": "duhxvOeakKfV"
      }
    },
    {
      "cell_type": "code",
      "source": [
        "arr = [1,3,5,6,7]\n",
        "\n",
        "for i in arr:\n",
        "    print(i)"
      ],
      "metadata": {
        "colab": {
          "base_uri": "https://localhost:8080/"
        },
        "id": "EHAGfl2sjtwe",
        "outputId": "7684e6ea-cd72-4f66-f66e-6c7008ce8084"
      },
      "execution_count": null,
      "outputs": [
        {
          "output_type": "stream",
          "name": "stdout",
          "text": [
            "1\n",
            "3\n",
            "5\n",
            "6\n",
            "7\n"
          ]
        }
      ]
    },
    {
      "cell_type": "code",
      "source": [
        "#예제\n",
        "students = [(\"철수\",85),(\"영희\",92),(\"민수\",78)]\n",
        "\n",
        "for i in students:\n",
        "    print(\"이름 : \" + i[0] + \" 점수 : \" + str(i[1]))"
      ],
      "metadata": {
        "colab": {
          "base_uri": "https://localhost:8080/"
        },
        "id": "HvJHrloSwIAx",
        "outputId": "8b1314f9-d388-49ff-dd8d-09467ed9ddbd"
      },
      "execution_count": null,
      "outputs": [
        {
          "output_type": "stream",
          "name": "stdout",
          "text": [
            "이름 : 철수 점수 : 85\n",
            "이름 : 영희 점수 : 92\n",
            "이름 : 민수 점수 : 78\n"
          ]
        }
      ]
    },
    {
      "cell_type": "code",
      "source": [
        "#예제\n",
        "for i in range(1,10):\n",
        "    print(\"9 X \"+ str(i) + ' = ' + str(9*i))"
      ],
      "metadata": {
        "colab": {
          "base_uri": "https://localhost:8080/"
        },
        "id": "lJ3nT3ooyfNB",
        "outputId": "1c068cf9-f7b0-4b04-cfbe-e8340ab0b519"
      },
      "execution_count": null,
      "outputs": [
        {
          "output_type": "stream",
          "name": "stdout",
          "text": [
            "9 X 1 = 9\n",
            "9 X 2 = 18\n",
            "9 X 3 = 27\n",
            "9 X 4 = 36\n",
            "9 X 5 = 45\n",
            "9 X 6 = 54\n",
            "9 X 7 = 63\n",
            "9 X 8 = 72\n",
            "9 X 9 = 81\n"
          ]
        }
      ]
    },
    {
      "cell_type": "code",
      "source": [
        "#예제\n",
        "scores = [15,50,46,86,94]\n",
        "\n",
        "for num in range(0,len(scores)):\n",
        "    if (num + 1) % 2 == 0:\n",
        "        continue\n",
        "    if num + 1 == 5:\n",
        "        break\n",
        "    if scores[num] >= 50:\n",
        "        print(str(num+1)+'번 학생 합격!')\n",
        "    else:\n",
        "        print(str(num+1)+'번 학생 불합격!')"
      ],
      "metadata": {
        "colab": {
          "base_uri": "https://localhost:8080/"
        },
        "id": "PSSuwmzn0J7C",
        "outputId": "c603e13f-9c52-454f-c781-d20e3ec33ec2"
      },
      "execution_count": null,
      "outputs": [
        {
          "output_type": "stream",
          "name": "stdout",
          "text": [
            "1번 학생 불합격!\n",
            "3번 학생 불합격!\n"
          ]
        }
      ]
    },
    {
      "cell_type": "code",
      "source": [
        "#예제\n",
        "scores = [15,50,46,86,94]\n",
        "sc = 0\n",
        "cnt = 0\n",
        "\n",
        "for num in range(0,len(scores)):\n",
        "    if (num + 1) % 2 == 0:\n",
        "        continue\n",
        "    if scores[num] >= 60:\n",
        "        print(str(num+1)+'번 학생 합격!')\n",
        "    else:\n",
        "        sc += scores[num]\n",
        "        cnt += 1\n",
        "        print(str(num+1)+'번 학생 불합격!')\n",
        "\n",
        "print(f'불학격 받은 학생의 평균 점수는 : {sc/cnt}점입니다.')"
      ],
      "metadata": {
        "colab": {
          "base_uri": "https://localhost:8080/"
        },
        "id": "HRjd8UFf13wi",
        "outputId": "f368c8ad-e3d9-4126-e212-67fbe074d59f"
      },
      "execution_count": null,
      "outputs": [
        {
          "output_type": "stream",
          "name": "stdout",
          "text": [
            "1번 학생 불합격!\n",
            "3번 학생 불합격!\n",
            "5번 학생 합격!\n",
            "불학격 받은 학생의 평균 점수는 : 30.5점입니다.\n"
          ]
        }
      ]
    },
    {
      "cell_type": "code",
      "source": [
        "#2중 for문\n",
        "for i in range(3):\n",
        "    for j in range(5):\n",
        "        print(\"*\",end=\"\")\n",
        "    print()\n",
        "\n",
        "#5번 출력하는것을 3번 반복"
      ],
      "metadata": {
        "colab": {
          "base_uri": "https://localhost:8080/"
        },
        "id": "KojQtBNi8V_T",
        "outputId": "619e7083-00da-4865-9f22-b1c21cdd1f70"
      },
      "execution_count": null,
      "outputs": [
        {
          "output_type": "stream",
          "name": "stdout",
          "text": [
            "*****\n",
            "*****\n",
            "*****\n"
          ]
        }
      ]
    },
    {
      "cell_type": "code",
      "source": [],
      "metadata": {
        "id": "BC8c7SDJAC-0"
      },
      "execution_count": null,
      "outputs": []
    }
  ]
}