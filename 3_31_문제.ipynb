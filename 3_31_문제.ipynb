{
  "nbformat": 4,
  "nbformat_minor": 0,
  "metadata": {
    "colab": {
      "provenance": [],
      "collapsed_sections": [
        "tXfVCsalArw7",
        "QqBvunrTX_lm",
        "FHRnU1RoYIpE",
        "519yQMLRYJ2t",
        "kcbIzLdpYMYc",
        "-XfBJZMZYWds",
        "p_EgijRHYX1c",
        "AHXdKgT6YZE8",
        "GvxdFpCDYbSk"
      ]
    },
    "kernelspec": {
      "name": "python3",
      "display_name": "Python 3"
    },
    "language_info": {
      "name": "python"
    }
  },
  "cells": [
    {
      "cell_type": "markdown",
      "source": [
        "#챕터3"
      ],
      "metadata": {
        "id": "tXfVCsalArw7"
      }
    },
    {
      "cell_type": "code",
      "execution_count": null,
      "metadata": {
        "colab": {
          "base_uri": "https://localhost:8080/"
        },
        "id": "VJgP8O9VAb81",
        "outputId": "45cbcd1a-50d5-45d0-c463-26978b9a572e"
      },
      "outputs": [
        {
          "output_type": "stream",
          "name": "stdout",
          "text": [
            "shirt\n"
          ]
        }
      ],
      "source": [
        "#1\n",
        "a = \"Life is too short, you need python\"\n",
        "\n",
        "if 'wife' in a:\n",
        "    print('wife')\n",
        "elif \"python\" in a and \"you\" not in a:\n",
        "    print('python')\n",
        "elif \"shirt\" not in a:\n",
        "    print('shirt')\n",
        "elif \"need\" in a:\n",
        "    print('need')\n",
        "else:\n",
        "    print('none')"
      ]
    },
    {
      "cell_type": "code",
      "source": [
        "#2\n",
        "result = 0\n",
        "i = 1\n",
        "while i<= 1000:\n",
        "    if i % 3 == 0:\n",
        "        result += i\n",
        "    i += 1\n",
        "print(result)"
      ],
      "metadata": {
        "colab": {
          "base_uri": "https://localhost:8080/"
        },
        "id": "sOhjNNOwBLPl",
        "outputId": "c3eaf5bf-0113-40dc-b22c-957cee308e75"
      },
      "execution_count": null,
      "outputs": [
        {
          "output_type": "stream",
          "name": "stdout",
          "text": [
            "166833\n"
          ]
        }
      ]
    },
    {
      "cell_type": "code",
      "source": [
        "#3\n",
        "i = 0\n",
        "while True:\n",
        "    i += 1\n",
        "    if i > 5:\n",
        "        break\n",
        "    print(\"*\"*i)"
      ],
      "metadata": {
        "colab": {
          "base_uri": "https://localhost:8080/"
        },
        "id": "2TJ-BfL4BXkk",
        "outputId": "c99e3ead-a2e2-40b0-c9d0-47bed0451979"
      },
      "execution_count": null,
      "outputs": [
        {
          "output_type": "stream",
          "name": "stdout",
          "text": [
            "*\n",
            "**\n",
            "***\n",
            "****\n",
            "*****\n"
          ]
        }
      ]
    },
    {
      "cell_type": "code",
      "source": [
        "#4\n",
        "for i in range(1,101):\n",
        "    print(i)"
      ],
      "metadata": {
        "colab": {
          "base_uri": "https://localhost:8080/"
        },
        "collapsed": true,
        "id": "WgoP37ocBeLE",
        "outputId": "82b8f60a-0d05-4a5d-d8e4-2eb8f28ace27"
      },
      "execution_count": null,
      "outputs": [
        {
          "output_type": "stream",
          "name": "stdout",
          "text": [
            "1\n",
            "2\n",
            "3\n",
            "4\n",
            "5\n",
            "6\n",
            "7\n",
            "8\n",
            "9\n",
            "10\n",
            "11\n",
            "12\n",
            "13\n",
            "14\n",
            "15\n",
            "16\n",
            "17\n",
            "18\n",
            "19\n",
            "20\n",
            "21\n",
            "22\n",
            "23\n",
            "24\n",
            "25\n",
            "26\n",
            "27\n",
            "28\n",
            "29\n",
            "30\n",
            "31\n",
            "32\n",
            "33\n",
            "34\n",
            "35\n",
            "36\n",
            "37\n",
            "38\n",
            "39\n",
            "40\n",
            "41\n",
            "42\n",
            "43\n",
            "44\n",
            "45\n",
            "46\n",
            "47\n",
            "48\n",
            "49\n",
            "50\n",
            "51\n",
            "52\n",
            "53\n",
            "54\n",
            "55\n",
            "56\n",
            "57\n",
            "58\n",
            "59\n",
            "60\n",
            "61\n",
            "62\n",
            "63\n",
            "64\n",
            "65\n",
            "66\n",
            "67\n",
            "68\n",
            "69\n",
            "70\n",
            "71\n",
            "72\n",
            "73\n",
            "74\n",
            "75\n",
            "76\n",
            "77\n",
            "78\n",
            "79\n",
            "80\n",
            "81\n",
            "82\n",
            "83\n",
            "84\n",
            "85\n",
            "86\n",
            "87\n",
            "88\n",
            "89\n",
            "90\n",
            "91\n",
            "92\n",
            "93\n",
            "94\n",
            "95\n",
            "96\n",
            "97\n",
            "98\n",
            "99\n",
            "100\n"
          ]
        }
      ]
    },
    {
      "cell_type": "code",
      "source": [
        "#5\n",
        "A = [70,60,55,75,95,90,80,80,85,100]\n",
        "total = 0\n",
        "for score in A:\n",
        "    total += score\n",
        "average = total / len(A)\n",
        "print(average)"
      ],
      "metadata": {
        "colab": {
          "base_uri": "https://localhost:8080/"
        },
        "id": "_3tUVMwFBsRk",
        "outputId": "42a361d1-c44a-48b3-d579-9d5a25c16aec"
      },
      "execution_count": null,
      "outputs": [
        {
          "output_type": "stream",
          "name": "stdout",
          "text": [
            "79.0\n"
          ]
        }
      ]
    },
    {
      "cell_type": "markdown",
      "source": [
        "#while 반복문"
      ],
      "metadata": {
        "id": "cKXRnnimYRzd"
      }
    },
    {
      "cell_type": "markdown",
      "source": [
        "# 1. 제곱 출력하기\n",
        "\n",
        "## 요구 사항\n",
        "- 사용자로부터 하나의 정수를 입력받는다.  \n",
        "- 입력된 정수 `num`까지의 숫자에 대해 다음을 수행한다:  \n",
        "  - `while` 문을 이용하여 1부터 `num`까지 각 수의 제곱을 출력한다.  \n",
        "  - `for` 문을 이용하여 1부터 `num`까지 각 수의 제곱을 출력한다.  \n",
        "- 두 반복문 모두 `1^2`, `2^2`, ..., `num^2`까지의 결과를 출력해야 한다.\n"
      ],
      "metadata": {
        "id": "QqBvunrTX_lm"
      }
    },
    {
      "cell_type": "code",
      "source": [
        "n = int(input(\"정수 입력 : \"))\n",
        "i = 1\n",
        "while(i <= n):\n",
        "    print(i**2,end = \" \")\n",
        "    i += 1\n",
        "\n",
        "print()\n",
        "\n",
        "for i in range(1,n+1):\n",
        "    print(i**2,end = \" \")"
      ],
      "metadata": {
        "colab": {
          "base_uri": "https://localhost:8080/"
        },
        "id": "D1eSk682YgUF",
        "outputId": "de91e9cd-1a95-4078-b061-004a17369ed3"
      },
      "execution_count": 5,
      "outputs": [
        {
          "output_type": "stream",
          "name": "stdout",
          "text": [
            "정수 입력 : 3\n",
            "1 4 9 \n",
            "1 4 9 "
          ]
        }
      ]
    },
    {
      "cell_type": "markdown",
      "source": [
        "# 2. 공 튀기기 시뮬레이션\n",
        "\n",
        "## 요구 사항\n",
        "- 사용자로부터 하나의 정수를 입력받는다.  \n",
        "- 공의 초기 높이는 100cm이다.  \n",
        "- 공은 한 번 튈 때마다 이전 높이의 3/5만큼 튄다.  \n",
        "- 입력한 횟수만큼 공이 튄 후, 최종 높이를 출력한다.  \n",
        "- 최종 출력 형식은 `\"최종 높이: ○○\"`와 같이 표시한다.\n"
      ],
      "metadata": {
        "id": "FHRnU1RoYIpE"
      }
    },
    {
      "cell_type": "code",
      "source": [
        "n = int(input(\"정수 입력 : \"))\n",
        "cnt = 0\n",
        "now = 100\n",
        "\n",
        "while(cnt < n):\n",
        "    cnt += 1\n",
        "    now = now / 5 * 3\n",
        "print(f\"최종 높이: {now}cm\")\n"
      ],
      "metadata": {
        "colab": {
          "base_uri": "https://localhost:8080/"
        },
        "id": "kaYsdgLFaNbt",
        "outputId": "f3233c8d-b037-4602-8918-e48e1cb27cc7"
      },
      "execution_count": 57,
      "outputs": [
        {
          "output_type": "stream",
          "name": "stdout",
          "text": [
            "정수 입력 : 3\n",
            "최종 높이: 21.6cm\n"
          ]
        }
      ]
    },
    {
      "cell_type": "markdown",
      "source": [
        "# 3. 별찍기 문제\n",
        "## 요구사항(4입력 예시)\n",
        "- 패턴 1: 정방향 삼각형\n",
        "- 패턴 2: 오른쪽 정렬 정방향 삼각형\n",
        "- 패턴 3: 역삼각형\n",
        "- 패턴 4: 오른쪽 정렬 역삼각형\n",
        "- 패턴 5: 피라미드"
      ],
      "metadata": {
        "id": "519yQMLRYJ2t"
      }
    },
    {
      "cell_type": "code",
      "source": [
        "#1\n",
        "i = 1\n",
        "while(i < 5):\n",
        "    print(i*\"*\")\n",
        "    i+=1"
      ],
      "metadata": {
        "colab": {
          "base_uri": "https://localhost:8080/"
        },
        "id": "9D-c1-wNZHnN",
        "outputId": "9163061c-a166-4dfc-8055-2c6fd69686c3"
      },
      "execution_count": 22,
      "outputs": [
        {
          "output_type": "stream",
          "name": "stdout",
          "text": [
            "*\n",
            "**\n",
            "***\n",
            "****\n"
          ]
        }
      ]
    },
    {
      "cell_type": "code",
      "source": [
        "#2\n",
        "i = 1\n",
        "while(i < 5):\n",
        "    print(\" \"*(4-i)+i*\"*\")\n",
        "    i+=1"
      ],
      "metadata": {
        "colab": {
          "base_uri": "https://localhost:8080/"
        },
        "id": "eMCd3LMLajct",
        "outputId": "6a2eba3b-0a52-42d2-fa1b-e587134d34b0"
      },
      "execution_count": 23,
      "outputs": [
        {
          "output_type": "stream",
          "name": "stdout",
          "text": [
            "   *\n",
            "  **\n",
            " ***\n",
            "****\n"
          ]
        }
      ]
    },
    {
      "cell_type": "code",
      "source": [
        "#3\n",
        "i = 0\n",
        "while(i < 4):\n",
        "    print((4-i)*\"*\")\n",
        "    i+=1"
      ],
      "metadata": {
        "colab": {
          "base_uri": "https://localhost:8080/"
        },
        "id": "uLFk7SLwakG0",
        "outputId": "03cbfb8e-4a02-47d1-e8c7-89c3adc30e9e"
      },
      "execution_count": 20,
      "outputs": [
        {
          "output_type": "stream",
          "name": "stdout",
          "text": [
            "****\n",
            "***\n",
            "**\n",
            "*\n"
          ]
        }
      ]
    },
    {
      "cell_type": "code",
      "source": [
        "#4\n",
        "i = 1\n",
        "while(i < 5):\n",
        "    print((4-i)*\" \"+ \"*\"*(2*i-1))\n",
        "    i += 1"
      ],
      "metadata": {
        "colab": {
          "base_uri": "https://localhost:8080/"
        },
        "id": "o85WvcZBakd8",
        "outputId": "4a6a54d9-956a-49a8-a408-128f1c197fa5"
      },
      "execution_count": 26,
      "outputs": [
        {
          "output_type": "stream",
          "name": "stdout",
          "text": [
            "   *\n",
            "  ***\n",
            " *****\n",
            "*******\n"
          ]
        }
      ]
    },
    {
      "cell_type": "markdown",
      "source": [
        "# 4. 커피 자판기 시뮬레이션\n",
        "\n",
        "## 요구 사항\n",
        "- 사용자에게 커피 개수를 입력받는다.\n",
        "- 사용자가 돈을 넣으면 다음 조건에 따라 처리한다:\n",
        "  - 커피 값은 300원이다.\n",
        "  - 300원을 넣으면 \"커피를 줍니다.\"를 출력하고 커피를 1개 줄인다.  \n",
        "  - 300원보다 많이 넣으면 \"거스름돈 ○○원을 주고 커피를 줍니다.\"를 출력하고 커피를 1개 줄인다.  \n",
        "  - 300원보다 적게 넣으면 \"돈을 다시 돌려주고 커피를 주지 않습니다.\"를 출력하고, 남은 커피 수를 출력한다.  \n",
        "- 커피가 0개가 되면 \"커피가 다 떨어졌습니다. 판매를 중지합니다.\"를 출력하고 반복을 종료한다.\n"
      ],
      "metadata": {
        "id": "kcbIzLdpYMYc"
      }
    },
    {
      "cell_type": "code",
      "source": [
        "n = int(input(\"커피 개수를 입력하세요 : \"))\n",
        "\n",
        "while(n > 0):\n",
        "    money = int(input(\"넣은 돈 : \"))\n",
        "    if money == 300:\n",
        "        print('커피를 줍니다.')\n",
        "        n -= 1\n",
        "    elif money > 300:\n",
        "        print(f\"거스름돈 {money - 300}원을 주고 커피를 줍니다.\")\n",
        "        n -= 1\n",
        "    else:\n",
        "        print(\"돈을 다시 돌려주고 커피를 주지 않습니다.\")\n",
        "        print(f\"남은 커피수 : {n}개\")\n",
        "\n",
        "print(\"커피가 다 떨어졌습니다. 판매를 중지합니다.\")\n"
      ],
      "metadata": {
        "colab": {
          "base_uri": "https://localhost:8080/"
        },
        "id": "Vmwp61SHZIH0",
        "outputId": "3123f78c-12c0-4d97-e1a1-e760f6c7ed12"
      },
      "execution_count": 28,
      "outputs": [
        {
          "output_type": "stream",
          "name": "stdout",
          "text": [
            "커피 개수를 입력하세요 : 5\n",
            "넣은 돈 : 300\n",
            "커피를 줍니다.\n",
            "넣은 돈 : 300\n",
            "커피를 줍니다.\n",
            "넣은 돈 : 300\n",
            "커피를 줍니다.\n",
            "넣은 돈 : 301\n",
            "거스름돈 1원을 주고 커피를 줍니다.\n",
            "넣은 돈 : 299\n",
            "돈을 다시 돌려주고 커피를 주지 않습니다.\n",
            "남은 커피수 : 1개\n",
            "넣은 돈 : 300\n",
            "커피를 줍니다.\n",
            "커피가 다 떨어졌습니다. 판매를 중지합니다.\n"
          ]
        }
      ]
    },
    {
      "cell_type": "markdown",
      "source": [
        "#for반복문"
      ],
      "metadata": {
        "id": "vzDeLXEJYN18"
      }
    },
    {
      "cell_type": "markdown",
      "source": [
        "# 1. 문자열 내 알파벳 빈도수 출력\n",
        "\n",
        "## 요구 사항\n",
        "- 사용자로부터 문자열을 입력받는다.  \n",
        "- 입력된 문자열에서 알파벳(a~z, A~Z)의 빈도수를 출력한다.  \n",
        "- 대소문자는 구분하지 않는다.  \n",
        "- 알파벳이 아닌 문자는 무시한다.  \n",
        "- 알파벳은 오름차순으로 정렬하여 출력한다.\n",
        "\n",
        "### 예시 입력\n",
        "Hello, Python!\n",
        "\n",
        "### 예시 출력\n",
        "- e: 1\n",
        "- h: 2\n",
        "- l: 2\n",
        "- n: 1\n",
        "- o: 2\n",
        "- p: 1\n",
        "- t: 1\n",
        "- y: 1"
      ],
      "metadata": {
        "id": "-XfBJZMZYWds"
      }
    },
    {
      "cell_type": "code",
      "source": [
        "text = input(\"문자 입력 : \")\n",
        "dic = {}\n",
        "\n",
        "for i in text:\n",
        "    if i not in dic and i.isalpha() == True:\n",
        "        dic[i] = 1\n",
        "    elif i in dic and i.isalpha() == True:\n",
        "        dic[i] += 1\n",
        "\n",
        "dic = sorted(dic.items())\n",
        "\n",
        "for i,j in dic:\n",
        "    print(i + \": \" +str(j))"
      ],
      "metadata": {
        "colab": {
          "base_uri": "https://localhost:8080/"
        },
        "id": "RlsttDgNZJDU",
        "outputId": "b4db3429-0fa9-4fb8-af4e-0984bdcd1746"
      },
      "execution_count": 58,
      "outputs": [
        {
          "output_type": "stream",
          "name": "stdout",
          "text": [
            "문자 입력 : oooopppqwe\n",
            "e: 1\n",
            "o: 4\n",
            "p: 3\n",
            "q: 1\n",
            "w: 1\n"
          ]
        }
      ]
    },
    {
      "cell_type": "markdown",
      "source": [
        "# 2. 계단식 숫자 출력\n",
        "\n",
        "## 요구 사항\n",
        "- 사용자로부터 정수 n을 입력받는다.  \n",
        "- `for` 반복문을 이용해 다음과 같은 숫자 계단을 출력한다.  \n",
        "- 각 줄에는 1부터 해당 줄 번호까지의 숫자를 공백과 함께 출력한다. 단, 마지막에는 공백이 있어선 안된다.\n",
        "- 줄 수는 입력한 정수만큼 출력한다.\n",
        "\n",
        "### 예시 출력 (입력: 5)\n",
        "- 1\n",
        "- 1 2\n",
        "- 1 2 3\n",
        "- 1 2 3 4\n",
        "- 1 2 3 4 5"
      ],
      "metadata": {
        "id": "p_EgijRHYX1c"
      }
    },
    {
      "cell_type": "code",
      "source": [
        "n = int(input())\n",
        "arr = \"\"\n",
        "for i in range(1, n+1):\n",
        "    if i != n:\n",
        "        arr += str(i) + \" \"\n",
        "    else:\n",
        "        arr += str(i)\n",
        "    print(arr)"
      ],
      "metadata": {
        "colab": {
          "base_uri": "https://localhost:8080/"
        },
        "id": "59zltZS5ZJgs",
        "outputId": "9f143785-bb74-49ba-e472-c9b9da1b821f"
      },
      "execution_count": 43,
      "outputs": [
        {
          "output_type": "stream",
          "name": "stdout",
          "text": [
            "5\n",
            "1 \n",
            "1 2 \n",
            "1 2 3 \n",
            "1 2 3 4 \n",
            "1 2 3 4 5\n"
          ]
        }
      ]
    },
    {
      "cell_type": "markdown",
      "source": [
        "# 3. 1부터 500까지 3과 5의 공배수 출력\n",
        "\n",
        "## 요구 사항\n",
        "- 1부터 500까지 숫자 중에서 **3과 5의 공배수**만 출력한다.  \n",
        "- 출력 결과는 한 줄에 5개씩 출력되도록 한다.  \n",
        "- 줄바꿈은 5개를 출력할 때마다 적용한다.  \n",
        "- 각 숫자는 가독성을 위해 일정한 간격으로 정렬한다.\n",
        "\n",
        "### 예시 출력\n",
        "15 30 45 60 75\n",
        "\n",
        "90 ..."
      ],
      "metadata": {
        "id": "AHXdKgT6YZE8"
      }
    },
    {
      "cell_type": "code",
      "source": [
        "cnt = 0\n",
        "for i in range(1,501):\n",
        "    if cnt != 5 and i % 5 == 0 and i % 3 == 0:\n",
        "        print(i, end = \" \")\n",
        "        cnt += 1\n",
        "    elif cnt == 5 and i % 5 == 0 and i % 3 == 0:\n",
        "        print(i)\n",
        "        cnt = 0\n"
      ],
      "metadata": {
        "colab": {
          "base_uri": "https://localhost:8080/"
        },
        "id": "WbcLeiKAZKSk",
        "outputId": "fb2ad696-6aa3-464e-8b84-1fe7b3059ab8"
      },
      "execution_count": 50,
      "outputs": [
        {
          "output_type": "stream",
          "name": "stdout",
          "text": [
            "15 30 45 60 75 90\n",
            "105 120 135 150 165 180\n",
            "195 210 225 240 255 270\n",
            "285 300 315 330 345 360\n",
            "375 390 405 420 435 450\n",
            "465 480 495 "
          ]
        }
      ]
    },
    {
      "cell_type": "markdown",
      "source": [
        "# 4. 구구단 2단부터 9단까지 출력하기\n",
        "\n",
        "## 요구 사항\n",
        "- `for` 반복문을 중첩 사용하여 **2단부터 9단까지**의 구구단을 출력한다.  \n",
        "- 각 단은 `단 제목`을 먼저 출력한 후, 그 단의 곱셈 결과를 1부터 9까지 출력한다.  \n",
        "- 출력 형식은 `2 x 1 = 2`, `3 x 2 = 6`과 같은 형태로 출력한다."
      ],
      "metadata": {
        "id": "GvxdFpCDYbSk"
      }
    },
    {
      "cell_type": "code",
      "source": [
        "for i in range(2,10):\n",
        "    print(f'{i}단')\n",
        "    for j in range(1,10):\n",
        "        print(f\"{i} x {j} = {i*j}\")"
      ],
      "metadata": {
        "id": "8629IH-OCANE",
        "colab": {
          "base_uri": "https://localhost:8080/"
        },
        "outputId": "bc7231c4-4b10-4b1f-c259-6ce3e7dc4231"
      },
      "execution_count": 44,
      "outputs": [
        {
          "output_type": "stream",
          "name": "stdout",
          "text": [
            "2단\n",
            "2 x 1 = 2\n",
            "2 x 2 = 4\n",
            "2 x 3 = 6\n",
            "2 x 4 = 8\n",
            "2 x 5 = 10\n",
            "2 x 6 = 12\n",
            "2 x 7 = 14\n",
            "2 x 8 = 16\n",
            "2 x 9 = 18\n",
            "3단\n",
            "3 x 1 = 3\n",
            "3 x 2 = 6\n",
            "3 x 3 = 9\n",
            "3 x 4 = 12\n",
            "3 x 5 = 15\n",
            "3 x 6 = 18\n",
            "3 x 7 = 21\n",
            "3 x 8 = 24\n",
            "3 x 9 = 27\n",
            "4단\n",
            "4 x 1 = 4\n",
            "4 x 2 = 8\n",
            "4 x 3 = 12\n",
            "4 x 4 = 16\n",
            "4 x 5 = 20\n",
            "4 x 6 = 24\n",
            "4 x 7 = 28\n",
            "4 x 8 = 32\n",
            "4 x 9 = 36\n",
            "5단\n",
            "5 x 1 = 5\n",
            "5 x 2 = 10\n",
            "5 x 3 = 15\n",
            "5 x 4 = 20\n",
            "5 x 5 = 25\n",
            "5 x 6 = 30\n",
            "5 x 7 = 35\n",
            "5 x 8 = 40\n",
            "5 x 9 = 45\n",
            "6단\n",
            "6 x 1 = 6\n",
            "6 x 2 = 12\n",
            "6 x 3 = 18\n",
            "6 x 4 = 24\n",
            "6 x 5 = 30\n",
            "6 x 6 = 36\n",
            "6 x 7 = 42\n",
            "6 x 8 = 48\n",
            "6 x 9 = 54\n",
            "7단\n",
            "7 x 1 = 7\n",
            "7 x 2 = 14\n",
            "7 x 3 = 21\n",
            "7 x 4 = 28\n",
            "7 x 5 = 35\n",
            "7 x 6 = 42\n",
            "7 x 7 = 49\n",
            "7 x 8 = 56\n",
            "7 x 9 = 63\n",
            "8단\n",
            "8 x 1 = 8\n",
            "8 x 2 = 16\n",
            "8 x 3 = 24\n",
            "8 x 4 = 32\n",
            "8 x 5 = 40\n",
            "8 x 6 = 48\n",
            "8 x 7 = 56\n",
            "8 x 8 = 64\n",
            "8 x 9 = 72\n",
            "9단\n",
            "9 x 1 = 9\n",
            "9 x 2 = 18\n",
            "9 x 3 = 27\n",
            "9 x 4 = 36\n",
            "9 x 5 = 45\n",
            "9 x 6 = 54\n",
            "9 x 7 = 63\n",
            "9 x 8 = 72\n",
            "9 x 9 = 81\n"
          ]
        }
      ]
    },
    {
      "cell_type": "markdown",
      "source": [
        "#달팽이"
      ],
      "metadata": {
        "id": "yYUPvOvAnoH4"
      }
    },
    {
      "cell_type": "code",
      "source": [
        "n = int(input())\n",
        "\n",
        "arr = [[0 for j in range(n)] for i in range(n)]\n",
        "\n",
        "# n홀수\n",
        "\n",
        "if n % 2 == 1:\n",
        "\n",
        "    x = (n+1)//2 -1 # 중앙값\n",
        "    y = (n+1)//2 -1\n",
        "\n",
        "    # ㄱ자\n",
        "    i = 1\n",
        "    k = 1\n",
        "    arr[x][y] = i\n",
        "    i += 1\n",
        "\n",
        "    while (k < n):\n",
        "        # ㄱ자 1\n",
        "        for t in range(1,k+1):\n",
        "            arr[x-1][y] = i\n",
        "            i += 1\n",
        "            x = x - 1\n",
        "            y = y\n",
        "\n",
        "        # ㄱ자 2\n",
        "        for t in range(1,k+1):\n",
        "            arr[x][y-1] = i\n",
        "            i += 1\n",
        "            x = x\n",
        "            y = y - 1\n",
        "\n",
        "        k += 1\n",
        "\n",
        "        # ㄴ자 1\n",
        "        for t in range(1,k+1):\n",
        "            arr[x+1][y] = i\n",
        "            i += 1\n",
        "            x = x + 1\n",
        "            y = y\n",
        "\n",
        "        # ㄴ자 2\n",
        "        for t in range(1,k+1):\n",
        "            arr[x][y+1] = i\n",
        "            i += 1\n",
        "            x = x\n",
        "            y = y + 1\n",
        "\n",
        "        k += 1\n",
        "\n",
        "    #나머지\n",
        "    for t in range(1,(n//2)*2+1):\n",
        "        arr[x-1][y] = i\n",
        "        i += 1\n",
        "        x = x-1\n",
        "        y = y\n",
        "\n",
        "    for i in  arr:\n",
        "        print(i)\n",
        "\n",
        "\n",
        "# 짝수\n",
        "\n",
        "else:\n",
        "\n",
        "    x = (n)//2 # 중앙값\n",
        "    y = (n)//2\n",
        "\n",
        "    # ㄱ자\n",
        "    i = 1\n",
        "    k = 1\n",
        "    arr[x][y] = i\n",
        "    i += 1\n",
        "\n",
        "    while (k < n):\n",
        "        # ㄱ자 1\n",
        "        for t in range(1,k+1):\n",
        "            arr[x-1][y] = i\n",
        "            i += 1\n",
        "            x = x - 1\n",
        "            y = y\n",
        "\n",
        "        # ㄱ자 2\n",
        "        for t in range(1,k+1):\n",
        "            arr[x][y-1] = i\n",
        "            i += 1\n",
        "            x = x\n",
        "            y = y - 1\n",
        "\n",
        "        k += 1\n",
        "        if k == n:\n",
        "            break\n",
        "\n",
        "        # ㄴ자 1\n",
        "        for t in range(1,k+1):\n",
        "            arr[x+1][y] = i\n",
        "            i += 1\n",
        "            x = x + 1\n",
        "            y = y\n",
        "\n",
        "        # ㄴ자 2\n",
        "        for t in range(1,k+1):\n",
        "            arr[x][y+1] = i\n",
        "            i += 1\n",
        "            x = x\n",
        "            y = y + 1\n",
        "\n",
        "        k += 1\n",
        "\n",
        "\n",
        "    #나머지\n",
        "    for t in range(1,2*(n//2)):\n",
        "        arr[x+1][y] = i\n",
        "        i += 1\n",
        "        x = x + 1\n",
        "        y = y\n",
        "\n",
        "    for i in  arr:\n",
        "        print(i)\n",
        "\n"
      ],
      "metadata": {
        "colab": {
          "base_uri": "https://localhost:8080/"
        },
        "id": "upslGxYToPfX",
        "outputId": "55b0de0d-e38a-4434-d9a7-d01f69f1f8ab"
      },
      "execution_count": 134,
      "outputs": [
        {
          "output_type": "stream",
          "name": "stdout",
          "text": [
            "7\n",
            "[31, 30, 29, 28, 27, 26, 49]\n",
            "[32, 13, 12, 11, 10, 25, 48]\n",
            "[33, 14, 3, 2, 9, 24, 47]\n",
            "[34, 15, 4, 1, 8, 23, 46]\n",
            "[35, 16, 5, 6, 7, 22, 45]\n",
            "[36, 17, 18, 19, 20, 21, 44]\n",
            "[37, 38, 39, 40, 41, 42, 43]\n"
          ]
        }
      ]
    },
    {
      "cell_type": "code",
      "source": [
        "\n"
      ],
      "metadata": {
        "id": "eWBunWJLtdB5"
      },
      "execution_count": null,
      "outputs": []
    }
  ]
}