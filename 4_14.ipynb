{
  "nbformat": 4,
  "nbformat_minor": 0,
  "metadata": {
    "colab": {
      "provenance": [],
      "collapsed_sections": [
        "SwqnaUFR_w7o",
        "lHbwGBlnn2vi",
        "zevSf1t7n6lS",
        "4CIz_P8hoAAh",
        "3QMgaSZnqG_y",
        "0Znth0AHqhG6",
        "TQ1h_tnpqq7B",
        "v4g9sK-zrETy",
        "0HHt7imz_nbH"
      ]
    },
    "kernelspec": {
      "name": "python3",
      "display_name": "Python 3"
    },
    "language_info": {
      "name": "python"
    }
  },
  "cells": [
    {
      "cell_type": "markdown",
      "source": [
        "# 파일"
      ],
      "metadata": {
        "id": "SwqnaUFR_w7o"
      }
    },
    {
      "cell_type": "markdown",
      "source": [
        "## 파일 생성하기\n",
        "\n",
        "파일_객체 = open(파일_이름, 파일_열기_모드)\n",
        "\n",
        "![image.png](data:image/png;base64,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)"
      ],
      "metadata": {
        "id": "lHbwGBlnn2vi"
      }
    },
    {
      "cell_type": "code",
      "source": [
        "f = open(\"새파일.txt\", 'w')\n",
        "f.close()"
      ],
      "metadata": {
        "id": "qRvD5SOjoRUx"
      },
      "execution_count": null,
      "outputs": []
    },
    {
      "cell_type": "code",
      "source": [
        "pwd"
      ],
      "metadata": {
        "colab": {
          "base_uri": "https://localhost:8080/",
          "height": 35
        },
        "id": "huD_beugo4Dq",
        "outputId": "5de4c887-57d2-4381-a687-0fee089a6f0a"
      },
      "execution_count": null,
      "outputs": [
        {
          "output_type": "execute_result",
          "data": {
            "text/plain": [
              "'/content'"
            ],
            "application/vnd.google.colaboratory.intrinsic+json": {
              "type": "string"
            }
          },
          "metadata": {},
          "execution_count": 4
        }
      ]
    },
    {
      "cell_type": "code",
      "source": [
        "# 다른 디렉토리에 있는 파일을 열 때에는 경로를 직접 지정\n",
        "f = open(\"C:/doit/새파일.txt\", 'w')\n",
        "f.close()"
      ],
      "metadata": {
        "id": "b9oiY00uojzC"
      },
      "execution_count": null,
      "outputs": []
    },
    {
      "cell_type": "markdown",
      "source": [
        "## 파일을 쓰기 모드로 열어 내용 쓰기"
      ],
      "metadata": {
        "id": "zevSf1t7n6lS"
      }
    },
    {
      "cell_type": "code",
      "execution_count": null,
      "metadata": {
        "id": "HnmDaZbQnwIL"
      },
      "outputs": [],
      "source": [
        "f = open(\"새파일.txt\", 'w')\n",
        "for i in range(1, 11):\n",
        "    data = \"%d번째 줄입니다.\\n\" % i\n",
        "    f.write(data)\n",
        "f.close()"
      ]
    },
    {
      "cell_type": "markdown",
      "source": [
        "![image.png](data:image/png;base64,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)"
      ],
      "metadata": {
        "id": "24dMQ8CVphga"
      }
    },
    {
      "cell_type": "markdown",
      "source": [
        "## 파일을 읽는 여러 가지 방법"
      ],
      "metadata": {
        "id": "4CIz_P8hoAAh"
      }
    },
    {
      "cell_type": "markdown",
      "source": [
        "### readline 함수 이용하기"
      ],
      "metadata": {
        "id": "qsWLox3apnMp"
      }
    },
    {
      "cell_type": "code",
      "source": [
        "f = open(\"새파일.txt\", 'r')\n",
        "line = f.readline()\n",
        "print(line)\n",
        "line = f.readline()\n",
        "print(line)\n",
        "line = f.readline()\n",
        "print(line)\n",
        "f.close()"
      ],
      "metadata": {
        "colab": {
          "base_uri": "https://localhost:8080/"
        },
        "id": "usOdv81Rpmye",
        "outputId": "7fbe34fd-8737-4672-cdb1-de0f70540a00"
      },
      "execution_count": null,
      "outputs": [
        {
          "output_type": "stream",
          "name": "stdout",
          "text": [
            "1번째 줄입니다.\n",
            "\n",
            "2번째 줄입니다.\n",
            "\n",
            "3번째 줄입니다.\n",
            "\n"
          ]
        }
      ]
    },
    {
      "cell_type": "markdown",
      "source": [
        "### readlines 함수 사용하기"
      ],
      "metadata": {
        "id": "3QMgaSZnqG_y"
      }
    },
    {
      "cell_type": "code",
      "source": [
        "f = open(\"새파일.txt\", 'r')\n",
        "lines = f.readlines()\n",
        "for line in lines:\n",
        "    print(line)\n",
        "f.close()"
      ],
      "metadata": {
        "colab": {
          "base_uri": "https://localhost:8080/"
        },
        "id": "19Qz2vG1p1Qt",
        "outputId": "11d9eabc-cbb8-49b8-a528-3a90ca201b59"
      },
      "execution_count": null,
      "outputs": [
        {
          "output_type": "stream",
          "name": "stdout",
          "text": [
            "1번째 줄입니다.\n",
            "\n",
            "2번째 줄입니다.\n",
            "\n",
            "3번째 줄입니다.\n",
            "\n",
            "4번째 줄입니다.\n",
            "\n",
            "5번째 줄입니다.\n",
            "\n",
            "6번째 줄입니다.\n",
            "\n",
            "7번째 줄입니다.\n",
            "\n",
            "8번째 줄입니다.\n",
            "\n",
            "9번째 줄입니다.\n",
            "\n",
            "10번째 줄입니다.\n",
            "\n"
          ]
        }
      ]
    },
    {
      "cell_type": "markdown",
      "source": [
        "### read 함수 사용하기"
      ],
      "metadata": {
        "id": "0Znth0AHqhG6"
      }
    },
    {
      "cell_type": "code",
      "source": [
        "f = open(\"새파일.txt\", 'r')\n",
        "data = f.read()\n",
        "print(data)\n",
        "f.close()"
      ],
      "metadata": {
        "colab": {
          "base_uri": "https://localhost:8080/"
        },
        "id": "A0pUJCXsqLas",
        "outputId": "5617aa9c-b743-4e4e-8735-58443f721b4c"
      },
      "execution_count": null,
      "outputs": [
        {
          "output_type": "stream",
          "name": "stdout",
          "text": [
            "1번째 줄입니다.\n",
            "2번째 줄입니다.\n",
            "3번째 줄입니다.\n",
            "4번째 줄입니다.\n",
            "5번째 줄입니다.\n",
            "6번째 줄입니다.\n",
            "7번째 줄입니다.\n",
            "8번째 줄입니다.\n",
            "9번째 줄입니다.\n",
            "10번째 줄입니다.\n",
            "\n"
          ]
        }
      ]
    },
    {
      "cell_type": "markdown",
      "source": [
        "### 파일 객체를 for 문과 함께 사용하기"
      ],
      "metadata": {
        "id": "TQ1h_tnpqq7B"
      }
    },
    {
      "cell_type": "code",
      "source": [
        "f = open(\"새파일.txt\", 'r')\n",
        "for line in f:\n",
        "    print(line)\n",
        "f.close()"
      ],
      "metadata": {
        "colab": {
          "base_uri": "https://localhost:8080/"
        },
        "id": "Oun693Wqqkl7",
        "outputId": "9d441e3c-bd63-414b-be4b-ac24ed4ea70b"
      },
      "execution_count": null,
      "outputs": [
        {
          "output_type": "stream",
          "name": "stdout",
          "text": [
            "1번째 줄입니다.\n",
            "\n",
            "2번째 줄입니다.\n",
            "\n",
            "3번째 줄입니다.\n",
            "\n",
            "4번째 줄입니다.\n",
            "\n",
            "5번째 줄입니다.\n",
            "\n",
            "6번째 줄입니다.\n",
            "\n",
            "7번째 줄입니다.\n",
            "\n",
            "8번째 줄입니다.\n",
            "\n",
            "9번째 줄입니다.\n",
            "\n",
            "10번째 줄입니다.\n",
            "\n"
          ]
        }
      ]
    },
    {
      "cell_type": "markdown",
      "source": [
        "## 파일에 새로운 내용 추가하기"
      ],
      "metadata": {
        "id": "v4g9sK-zrETy"
      }
    },
    {
      "cell_type": "code",
      "source": [
        "#추가모드\n",
        "f = open(\"새파일.txt\",'a')\n",
        "for i in range(11, 20):\n",
        "    data = \"%d번째 줄입니다.\\n\" % i\n",
        "    f.write(data)\n",
        "f.close()"
      ],
      "metadata": {
        "id": "PkroKNcXrISN"
      },
      "execution_count": null,
      "outputs": []
    },
    {
      "cell_type": "markdown",
      "source": [
        "![image.png](data:image/png;base64,iVBORw0KGgoAAAANSUhEUgAAAJQAAAGjCAYAAADKNDx1AAAAAXNSR0IArs4c6QAAAARnQU1BAACxjwv8YQUAAAAJcEhZcwAADsMAAA7DAcdvqGQAACR/SURBVHhe7Z1tsF7Vdd+XrsSLhRAgApFAAtkgQICQhEBISLIL2JnMrTt20pcZt6lTk2YSh7S2aaaum4wTu/3SvLSdtmo70yap7Uyo7cbpTNtnJjbYFcZ1gi2QMZ4izExAEugFECgIEKJG/cBdytZfa+2XdfY5d5+r9ZvZc+/ee6199t7rf9Y5z74PYt6mTZtOkONUYgobHKcLLiinKi4opyrzly9f/hvYOCSrr19NW7ZuoWPHjtHWbdtoy9Yt9MzTz9CxY8fQ9DT+6l97v2g/NTVFK9+5kn780h+nt95665S+LVu30Ac++AE6duwYHTx48GS7U4fBBXXrxo20/ub19OKLL9Drr79Om2+/nbZs2UoHDx2iFStW0OXLL6fHHnuMTpw4QXfceQfdtG4trb5+9Snl2uuuoWPHjtGNa9actD969OjJ8X/+F36etm7bShtu2UBbtm6h5cuX01M/fIqOHz9O69avpzVr1tCePXtozzPP4PScjgz+yLtxzY20afMmuuTHLsGuU1i4cCGtWXsTbdq8iTbfvpk23LKBbtt0G22+fTPdeutGuurqq9GFLl++nH5y+ifp+PHj9B///X+gf/rJT9F3/uxhum71dfTen3gfmjfB4sWLaWpKD8O5555L5557LjY3i76SWeb555+n3/nN36aDBw7SkSNH6N/9m39Lu5/YTW+88QZ94XOfp6/f/wC60JUrr6TzzjuPvv/Y909mpIceeoheeeUVWr5iOZqLLF22lH71079Gv/rpX6Oly5Zi92lse8+76V/81m/SR37ubuxKcsddd9I//tQn6YM//VOiqJZcvIR+4aO/SJ/4lXtp5cqV2N0kp69ixBw6eIjeOPYGXXbZspMBWrp0GS1cuJBeOnwYzU9j23veTZ+491666KKL6KKLLqJ7/sEv0x133kGf+eefpU9/5tdp5cqVJwX3mX/2WfqHH/8YfeCDH6D5C+bTDTfeQPf+yj/CIaN8b9cuev7Q87Rp86bTRLXk4iX0dz/8Ybp8+eW0+4ndtGfPnlN8W2VQQU1NTdGSJRfRWWedRRdf8mN/2T5/ijbfvplWrFhxin0O5y1cSB/62x+iv3f3R+jFF16gXbt20buuuop+/bO/QZ/81D+hD/2dD9Err7xC//sbO9D1NB7d+Qj91/vuo5dffplefvll+vIXv0zfeuhb9Ogjj9KiRYvo1ts20tZtW+mCCy6gxx9/nL70xS/S1x94gH70/35EP3zySfryl76EQ0Y5/OJh+sLnP0/P7nv2FFGFYvrTb/8p/fev/DG99dZb6N4kgwrqXVddRYsXX0ALFiygq666Crur8Md/9BX6wuc+Tz94/Ad0+PCL9LU/+Sr9y9/6HXp23z4iInrz+HF6/djr9ObxN9GVjh49Svv376cTJ07QiRMn6NChg3T8+HF6cMcOevGFF2nd+nW0dt06OnLkCH3zwQfpwP4D9Morb38YOH78Tdq7Zy8OmQRF9Tf+1t+kD//sz45STDS0oNbfvJ6m5k/R/v376epVV9PVq95+sX7rR2/Rt//Pt2nv3vKAvPraa3TfH95H/+X3fp9eeukloplMeOmll9DC886jG9bcSB/95V+ij937cfrYvR+na1dfRy88/zy99tqrOJTK4RcP086dO2n+/Pl0zjnn0M7v7qQD+w+gmZlQVBtv20iXXX7ZKMVEQwrqPXf8Fbp5w820b+9euv+rX6OpqSn6qb/+07Rw4UI0JSKiRYsW0dWrVtHU1BTNmzePli5dRmeffRYtWLCAbr5lA91x1500bx56pVn4joW0YsUVdMGFF2JXlAULFpycy5g+dQ3NIIJat349ve8n3kev/MVf0P/8H/+Lvrfre/Stbz5Ei85bRIsXL0ZzIiJaff31dPffv5uWLltKF154If3Mh3+GVl1zDc2bN4+uv+F6WrVqFc1fsADdiIjoyJEjtHfvXtrzzJ7TCmexElauXEkbb9tIr7/+Or322mt009qbqn7qCt+ZHv6zh+m5Z58TX9THwCAHmwcOHKAjR47Qjm/soP379xMR0VNPPUXfefhhuuTSS+mKK66gJ598kpYsWULnLz6fHn3kEXpy92564P4H6Kt/8tVTyv1fu5++8cDXaed3d9LatWtP2vPBJhHRTWvX0l13vZeWXbaMli5dSssuW3ayLF68mI6/eZyefOJJ2rdvHy1dtpR+8Zc+SjeuWUNP/N8n6JxzzqGbN9x88vzn1VeP0rZt22jFFVfQdx7+Dj3950/TtdddS4vOP592PfooXbnySrrmmmtoav4UnbdwIR04cIDefPP09zMNfAH/yn/7I9q9eze9853voutvuJ4WnX8+7X5iN504MY4vhQwm/53f3XnanzpefTX/PcbC93btoj/43BdOK/f9wR/S00//ORERnXvOubTo/Lcz5dlnn00H9h+gxx/7Pp191tm04ZYNdOvGW+ma666ll156iR7csYMeevCbdOjgIbp61dW0bv16enTnI7Rv3z66+OKL6ZZbb1Ef4RIoJn5nwhf1MWWqebP9fagtW7fQ+pvX04M7HqQNt9xCl11+Gf3uf/rPWS+9H/m5u0X7be95N73//e+n+Qvmn2If8oPHf0C//7u/h82Dcsddd9Jd772LHtn5iPgCzoJbeN7CmZvg6VP6W2TWBRWydNlSesc73kHPPP3MaZsrUWrfIosXL6ajR4+q8+cPADl/LG+BpgTljJ9xPJid0eCCcqrignKq4oJyquKCcqrignKq4oJyquKCcqpS/WDzoktW0JXXbaTLr1pHy1beQIsu+MtvZjr9cPjgM/TyC8/S3h/upEd3fBm7B6W6oIiIPv6vHsQmZyD+9SfejU2D4o88pypihlq9ejU2OU4WoqCee+45bHKcLPyR51SlCUFNJhNsIhLasZ6C7Uv9aMYnVSRy+i0M7Welk6C2b9+OTUlqLhADnApmCdPT06cUrS1kMpmc0p8zjxwbDVxzrbV3wSyo2RYTBQHm37GtBhwkFoi2BrYJyRWVBRRvWGYTs6DuuecebEoSWyzeZRwIrA9BeE0UbSisIec0FsyCqg3eZRjEmBhrk7pmqv9MphlB9UVpFsEsmSoMZy4cqwXR4Vz7pAlBcTCw5ASD7bQNyxkjJMw+mImwDcfGdWD/bCHNtS+aEBRlBCsHDmhXUNg8JtYlUvPX2ucKzQiqJVDYUpFEJbUhOTZjphlBWTa6z8cKZigsfV137DQjqBy0IIYB1rJHCTxerGig8LC0Ql9zGZWgkFhgZwsUHhZkWvlAkhKg1a9vmvq2Qc5GSEHRmASfAEv8qMNcUn6STw6WNVAHPytNCcoZP6N+5Dnt4YJyquKCcqrignKq4oJyqtKEoLSP2tiO9RRsX+pHGQeU2pg5/RaG9rNiPjbAb2zmfOEOF8fnIxPlrATbpbpGeP6EfhZyxkAbrEttWNeQ7LT1W8avhSlDbd++ne65555TCgoM4YWFRduQXHgc/h3bajCZyTY8X23OUuBqrFFD2s/aa7dgElQfcLDCgu1DEV4TRRsKa8g5jQWToHIeb0jqzsG7DIOY8q9J6pqp/jMZk6AQfgSWwHd/35RmEcySqcJMC4+3odaYAufaJ+aXcqaWmKQFSzZaG/uH/WEf+pWSOwaKDMFxsK6BdljXyLWrRacMVUtMFHnklcDi6cpEyURYl0jNX2ufK5gFVVNMrYHClookKqkNybEZMyZB9SEmy0anxuwCZigsfV137JgENVtoQQwDrGWPEni8WNFA4WFphb7mYnop1w4xY1lLWwAHp8tdj75cx5+5lNozOX6SjbY3lNgfq1+svSsmQfVFbIOYkk2wCoo6zCXlJ/nkYFkDdfCz0pSgnPEzqncop31cUE5VXFBOVVxQTlVcUE5VmhCU9lEb27Gegu1L/WjGJ1UkcvotDO1nxXxsgIebsUNNBhdXevgm1TXC8yf0s5AzBtpgXWrDuoZkp63fMn4tTBnKvwJ8OlLgaqxRQ9rP2mu3YBJUH3CwwoLtQxFeE0UbCmvIOY0Fk6ByHm9I6s7BuwyDmPKvSeqaqf4zGZOgmO3bt58suSLDu79vSrNIOL+cwkwLj7eh1pgC59on5pdypERUTLjh0oIxGFKAuI39w/6wD/1KyR0DRYbgOFjXQDusa+Ta1aJThqrJtPLIKyEUVhcmSibCukRq/lr7XKEZQbUEClsqkqikNiTHZsyYBJU6IpBIbWSqX6LPdI4ZCktf1x07JkHNFloQwwBr2aMEHi9WNFB4WFqhr7mYX8oxS+W8kOMiwsB0uevRl+v4M5dSeybHT7LBfQlh25p+sfaumAXVB7ENYko2wSoo6jCXlJ/kk4NlDdTBz0pTgnLGz6jeoZz2cUE5VXFBOVVxQTlVcUE5VWlCUNpHbWzHegq2L/WjGZ9UkcjptzC0n5UqgsJDzhxqLBQDnApmCdPCybjUFjKBE/aceeTYaOCaa629C50FNVtioiDA/Du21YCDxALR5s42IbmisoDiDcts0llQtcC7jAOB9SEIr4miDYU15JzGQidBdf1SXQjeZRhEyacvUtdM9Z/JdBLUGCjNIpglU4XhzIVjtSA6nGufmAVVOzthoDRbhO20DcsZIyTMPpiJsA3HxnVg/2whzbUvzIKqDQbKsgEc0K6gsHlMrEuk5q+1zxVMgqqZnVoEhS0VSVRSG5JjM2ZMgiL4T6i4ngLv8HBzLRvdp0jDuUqlr+uOnSrfh6qRsbCeA/ugL7Zjf4pSe2aSeVNIc02BdljX0Oy09q6YM1QL9LEhXZkWHo9hQaaVDyRcNKx+fVMlQ9UiZyOkoGjwXcg/S7DOJeUn+eRgWQN18LPSlKCc8TPqR57THi4opyouKKcqLiinKi4opypNCEr7qI3tWE/B9qV+NOOTKhI5/RaG9rNiOjbQ/swSOy3XFhY7J8J2qa4Rjot+FnLGQBusS21Y15DstPVbxq+FOUPhvwIcExMznXFyXEI4Rviz67ghk5lsMx2cTEtIgWOfPuDrSWU2MQuqNhyssGD7UITXRNGGwhpyTmOhGUHhXYZBHPLOS10z1X8mYxZU+PUV7Z0KkTJQ35ReB+eYKgxnLhyrBdHhXPvE/FKO70xSW4i0uWGbtOCYPbaxf9gf9qFfKbljoMgQHAfrGmiHdY1cu1qYMlRMOBqpRU0rj7wSWDxdmSiZCOsSqflr7XMFk6DmOihsqUiiktqQHJsxYxJU7jtTSGojU/0SfaZzzFBY+rru2DEJarbQghgGWMseJfB4saKBwsPSCn3NxfRSTkKWynmvwkWEgely16Mv1/FnLqX2TI6fZIP7EsK2Nf1i7V0xC6oPYhvElGyCVVDUYS4pP8knB8saqIOflaYE5YyfUb1DOe3jgnKq4oJyquKCcqrignKq0oSgtI/a2I71FGxf6kczPqkikdNvYWg/K+Zjg5oHmxPlrATbpbpGeP6EfhZyxkAbrEttWNeQ7LT1W8avhSlD8VdVwoICQ3hhYdE2JBceh3/HthpMZrINz1ebsxS4GmvUkPaz9totmAQlkZOhkHDxHKywYPtQhNdE0YbCGnJOY6GaoLqCdxkGccg7L3XNVP+ZjFlQ/hXgU9fAmQvHakF0ONc+Mb2US1/3ldpCpM0N26QFx+yxjf3D/rAP/UrJHQNFhuA4WNdAO6xr5NrVwpyhajOtPPJKCIXVhYmSibAukZq/1j5XaEZQLYHClookKqkNybEZM80IyrLRfaZzzFBY+rru2GlGUDloQQwDrGWPEni8WNFA4WFphb7mYnopp8on5dwXC1QM9OU6/syl1J7J8ZNscF9C2LamX6y9K2ZB9UFsg5iSTbAKijrMJeUn+eRgWQN18LPSlKCc8TOqdyinfVxQTlVcUE5VXFBOVVxQTlWaEJT2URvbsZ6C7Uv9aMYnVSRy+i0M7WfFdGyAh5pM7HBTW1jsnAjbpbpGOC76WcgZA22wLrVhXUOy09ZvGb8WpgyFX/+NCYmZLvjzRS7hOOHPGmMzk5lsM+1fAc7CJCgk9V0oCQwAByss2D4U4TVRtKGwhpzTWKgiqBrgXYZBHPLOS10z1X8m01lQNbJTn5RmEcySqcJw5sKxhlpnDJxrn3QWVA04GFhygsF22obljBESZh/MRNiGY+M6sH+2kObaF00IijKClQMHtCsobB4T6xKp+Wvtc4VOgmr9cWcFhS0VSVRSG5JjM2Y6Caomlo3uU5yYobD0dd2x04ygctCCGAZYyx4l8HixooHCw9IKfc1lVIJCYoGdLVB4WJBp5QNJSoBWv74x/emlL3I2QgqKxiT4BFjiRx3mkvKTfHKwrIE6+FlpSlDO+Bn1I89pDxeUUxUXlFMVF5RTFReUU5UmBKV91MZ2rKdg+1I/yjig1MbM6bcwtJ8V87EBfg045296uDg+H5koZyXYLtU1wvMn9LOQMwbaYF1qw7qGZKet3zJ+LUwZyv8V4NORAldjjRrSftZeuwWToPqAgxUWbB+K8Joo2lBYQ85pLDQjKLzLMIhD3nmpa6b6z2SaEVRflGYRzJKpwnDmwrFaEB3OtU+aeCmX+kj4Q6oUIG5jfxyT+9CvlNwxUGQIjoN1DbTDukauXS1MgpK+qSm1hUgLk9piSPYomtBGasshFIVGyXgxcueGdljXyLWrxZx/5FmYFt7nsEiik9qQHJsx04ygLBvd5903Ed6XwtLXdcdOM4LKQQtiGGAte5TA48WKBgoPSyv0NRfTOxT19FIeC1QM9OU6/syl1J7J8ZNscF9C2LamX6y9K2ZB9UFsg5iSTbAKijrMJeUn+eRgWQN18LPSlKCc8TOqdyinfVxQTlVcUE5VXFBOVVxQTlWaEJT2URvbsZ6C7Uv9aMYnVSRy+i0M7WfFfGxQ82BzopyVYLtU1wjPn9DPQs4YaIN1qQ3rGpKdtn7L+LUwZSj/CvDpSIGrsUYNaT9rr92CSVB9wMEKC7YPRXhNFG0orCHnNBaaERTeZRjEIe+81DVT/WcyzQiqL0qzCGbJVGE4c+FYLYgO59onTQiKg4ElJxhsp21YzhghYfbBTIRtODauA/tnC2mufVHtUx5lfNKTgl6yUClIoaDCn1JfLtI8kZLxYuTODe2wrpFrVwtzhsJPeTnwnTLkHWMB5ykVSXRSG5JjM2bMgqqNZaP7vPsmwiM4LH1dd+yYBCU97lJYBINoQQwDrGWPEni8WNFA4WFphb7mUu0dKuexh4sIA9PlrkdfruPPXErtmRw/yQb3JYRta/rF2rtiFlQfxDaIKdkEq6Cow1xSfpJPDpY1UAc/K00Jyhk/pncox9FwQTlVcUE5VXFBOVVxQTlVaV5Q2sdwbMd6CrYv9aMZn1SRyOm3MLRfjOSxgfbvPlkONilyLoKLKz2Yk+oa4dkU+lnIGQNtsC61YV1DstPWbxm/hGiGQtEwlq8AU2SRvLCwaLa58Dj8O7bVYDKTbXi+2pylwNVYo4a0n7XXrhEVVG7WycW6IA5WWLB9KMJromhDYQ05p5aICqoV8C7DIFqFaiF1zVT/XGcUguqL0iyCWTJVGM5cOFYLosO5dqV5QXEwsOQEg+20DcsZIyTMPpiJsA3HxnVg/2whzbULzQuKMoKVAwe0KyhsHhPrEqn5a+1jYhSCagkUtlQkUUltSI5N64xCUJaN7vOxghkKS1/XHQOjEFQOWhDDAGvZowQeL1Y0UHhYWqHLXJo/Kec+yScH9OU6/syl1J7J8ZNscF9C2LamX6w9h6SgWiG2QUzJJlgFRR3mkvKTfHKwrIE6+MUYjaCccTBn3qGcNnBBOVVxQTlVcUE5VXFBOVVpXlDaR21sx3oKti/1oxmfVJHI6bcwtF+MpKDwADMk1qcRW0SsrxQMcCqYJUwLJ+NSW8hk5syHS848cmw0cM211p4iKqiYYGJ9GrEFxfosYLCxrQYcJBaItga2CckVlQW+nlT6Jiqo2J9TYn0asQXF+vAu40BgfQjCa6JoQ2ENOaeWiAqqFfAuwyDGxFib1DVT/XOdUQiqL0qzCGbJVGE4c+FYLYgO59qV5gXFwcCSEwy20zYsZ4yQMPtgJsI2HBvXgf2zhTTXLjQvKMoIVg4c0K6gsHlMrEuk5q+1j4lRCKolUNhSkUQltSE5Nq0zCkFZNrrPxwpmKCx9XXcMjEJQOWhBDAOsZY8SeLxY0UDhYWmFLnOZM4JCYoGdLVB4WJBp5QNJSoBWvxqM5hubORshBUVjEnwCLPGjDnNJ+Uk+OVjWQB38YoxGUM44mLOPPGd2cEE5VXFBOVVxQTlVcUE5VWleUNpHbWzHegq2L/WjjANKbcycfgtD+8VIHhvM9r9tELMP26W6Rnj+hH4WcsZAG6xLbVjXkOy09VvGLyGaoVA0jP8rwG8zmck2PF9tzlLgaqxRQ9rP2mvXiAoqN+vkYl0QByss2D4U4TVRtKGwhpxTS0QFpTG00PAuwyCm/GuSumaqf65jEhSivWdZ4bu/b0qzCGbJVGGmhcfbUGtMgXPtSmdB9S0mDgaWnGCwnbZhOWOEhNkHMxG24di4DuyfLaS5dqGToPoWE4OBkmxScEC7gsLmMbEukZq/1j4mzIIaSkytgcKWiiQqqQ3JsWkdk6CGFpNlo1NjdgEzFJa+rjsGTIJqES2IYYC17FECjxcrGig8LK3QZS6mk3LtEBPtJKQ7WFsA20k+uaAv1/FnLqX2TI6fZKPtDSX2x+oXa88hKahWiG0QU7IJVkFRh7mk/CSfHCxroA5+MUYjKGcczJl3KKcNXFBOVVxQTlVcUE5VXFBOVZoXlPZRG9uxnoLtS/1oxidVJHL6LQztFyN5bCAdbHJ7iGQjMVHOPnBxpYdvUl0jPH9CPws5Y6AN1qU2rGtIdtr6LeOXEM1QKBrGvwL8NpOZbMPz1eYsBa7GGjWk/ay9do2ooHKzTi7WBXGwwoLtQxFeE0UbCmvIObVEVFAaQwsN7zIMYsq/JqlrpvrnOiZBMdu3bz9ZaogM7/6+Kc0i4fxyCjMtPN6GWmMKnGtXzC/lSK5d7kaGdtKCcQxpXG5j/7A/7EO/UnLHQJEhOA7WNdAO6xq5diV0ylBDMa088koIhdWFiZKJsC6Rmr/WPiZGIaiWQGFLRRKV1Ibk2LSOSVA5RwQlpDYy1S/RRzpnMENh6eu6Y8AkqBbRghgGWMseJfB4saKBwsPSCl3mYn4pxywl2UhodzAuIrTRfHJAX67jz1xK7ZkcP8kG9yWEbWv6xdpzSAqqFWIbxJRsglVQ1GEuKT/JJwfLGqiDX4zRCMoZB3PmHcppAxeUUxUXlFMVF5RTFReUU5XmBaV91MZ2rKdg+1I/mvFJFYmcfgtD+8VICgoPMCVybJicReTYpMAAp4JZwrRwMi61hUxmzny45Mwjx0YD11xr7SmigsoRSo4Nk7OgHJscMNjYVgMOEgtEmzvbhOSKygJfTyp9ExVU7p9TcrEuCO8yDgTWhyC8Joo2FNaQc2qJqKBSaH/ns8JBQvAuwyBKPn2Rumaqf67TSVBjpzSLYJZMFYYzF47Vguhwrl0xC2rI7ISB0mwRttM2LGeMkDD7YCbCNhwb14H9s4U01y6YBTUkGCjLBnBAu4LC5jGxLpGav9Y+JkyCGio7tQgKWyqSqKQ2JMemdUyCIvhPqLjeBbzDw821bHSfIg3nKpW+rjsGTILC/wyd26zgHc5tJWj2YYC17FECjxcrGig8LK3QZS4mQY2BWGBnCxQeFmRa+UCSEqDVrwaj+cZmzkZIQdGYBJ8AS/yow1xSfpJPDpY1UAe/GKMRlDMO5uwjz5kdXFBOVVxQTlVcUE5VXFBOVZoXlPZRG9uxnoLtS/0o44BSGzOn38LQfjGSxwbS3+20P7OgncREOPvQFhY7J8J2qa4Rjot+FnLGQBusS21Y15DstPVbxi8hmqE04ZDw55dcMWlMZ5wclxCOEf7sOm7IZCbbTPtXgE8SFVSOSEqwLoiDFRZsH4rwmijaUFhDzqklooJqBbzLMIhWoVpIXTPVP9cxCyr8+krs0ZiLlIH6pvQ6OMdUYThz4VgtiA7n2hWzoPD9qauoMAPxIvl3LDnBYDttw3LGCME5hpkI23BsXAf2zxbSXLtgEtTQ71YYqJS9BAe0KyhsHhPrEqn5a+1jwiSoMxkUtlQkUUltSI5N65gE1fXxhqQ2MtUv0edjBTMUlr6uOwZMgmoRLYhhgLXsUQKPFysaKDwsrdBlLqaTcm4PkWwktDsYFxHaaD45oC/X8WcupfZMjp9kg/sSwrY1/WLtOSQF1QqxDWJKNsEqKOowl5Sf5JODZQ3UwS/GaATljIM58w7ltIELyqmKC8qpigvKqYoLyqlK84LSPmpjO9ZTsH2pH834pIpETr+Fof1iJI8NZvtgM2Yftkt1jfD8Cf0s5IyBNliX2rCuIdlp67eMX0I0Q6FoGBZZ6ddXtEXywsKi2ebC4/Dv2FaDyUy24flqc5YCV2ONGtJ+1l67RlRQuVmHMm1LFhTacrDCgu1DEV4TRRsKa8g5tURUUK2AdxkGsUSoXUldM9U/1zELyr8CnC4MZy4cqwXR4Vy7YhaU5R0qBmYgXiT/jiUnGGynbVjOGCE4xzATYRuOjevA/tlCmmsXzIIaEgyUZQM4oF1BYfOYWJdIzV9rHxOjEFRLoLClIolKakNybFpnFIKybHSfjxXMUFj6uu4YGIWgctCCGAZYyx4l8HixooHCw9IKXebS/Ek590k+OaAv1/FnLqX2TI6fZIP7EsK2Nf1i7TkkBdUKsQ1iSjbBKijqMJeUn+STg2UN1MEvxmgE5YyDOfMO5bSBC8qpigvKqYoLyqmKC8qpSvOC0j5qYzvWU7B9qR/N+KSKRE6/haH9YiSPDaSDTTzUZNBOYiKcfWgLi50TYbtU1wjHRT8LOWOgDdalNqxrSHba+i3jlxDNUDHhYMkhtkgsXQnHCX/WGJuZzGSb6eCrKRJS4NinD/h6UumbqKByhSJlMYncBWEAOFhhwfahCK+Jog2FNeScWiIqqFbAuwyDmCvUGqSumeqf63QWVG52ygWzU5+UZhHMkqnCcObCsYZaZwyca1c6C6pvOBhYcoLBdtqG5YwREmYfzETYhmPjOrB/tpDm2oXmBUUZwcqBA9oVFDaPiXWJ1Py19jHRSVBjftxZQWFLRRKV1Ibk2LROJ0ENhWWj+xQnZigsfV13DIxCUDloQQwDrGWPEni8WNFA4WFphS5zmTOCQmKBnS1QeFiQaeUDSUqAVr8aJP/00go5GyEFRWMSfAIs8aMOc0n5ST45WNZAHfxijEZQzjiYs488Z3ZwQTlVcUE5VXFBOVVxQTlVaV5Q2kdtbMd6CrYv9aOMA0ptzJx+C0P7xUgeG2h/r8Nvc0o2EhPl7AMXxzYx+7BdqmuE50/oZyFnDLTButSGdQ3JTlu/ZfwSohkKRcOwyMKi2YZoi+SFhUWzzYXH4d+xrQaTmWzD89XmLAWuxho1pP2svXaNqKBys04u1gVxsMKC7UMRXhNFGwpryDm1RFRQrYB3GQbRKlQLqWum+uc6oxBUX5RmEcySqcJw5sKxWhAdzrUrzb+US30kPD6lcbmN/XFM7kO/UnLHQJEhOA7WNdAO6xq5diWYMpT1pVyDFxYW3HwspeCYViZKJsK6RGr+WvuYMAnqTAaFLRVJVFIbkmPTOqMQlGWj+0jnDGYoLH1ddwyMQlA5aEEMA6xljxJ4vFjRQOFhaYUucxnNS7nkkwP6ch1/5lJqz+T4STa4LyFsW9Mv1p5DUlCtENsgpmQTrIKiDnNJ+Uk+OVjWQB38YoxGUM44mDPvUE4buKCcqrignKq4oJyquKCcqjQvKO2jNrZjPQXbl/rRjE+qSOT0WxjaL0by2GC2DzZj9mG7VNcIz5/Qz0LOGGiDdakN6xqSnbZ+y/glRDMUioaxfttAWyQvLCyabS48Dv+ObTWYzGQbnq82ZylwNdaoIe1n7bVrRAWVm3VysS6IgxUWbB+K8Joo2lBYQ86pJaKCagW8yzCIVqFaSF0z1T/XGYWg+qI0i2CWTBWGMxeO1YLocK5daV5QHAwsOcFgO23DcsYICbMPZiJsw7FxHdg/W0hz7YJJUPwSHpYu4GajADBQlg3ga3QF58ljYl0iNX+tfUyYBEXC/++lK10FMxQ4T6lIopLakByb1jELakgsGz3p8bGCGQpLX9cdAyZBdX3EIRbBIFoQwwBr2aMEHi9WNFB4WFqhy1yaPynnPsknB/TlOv7MpdSeyfGTbHBfQti2pl+sPYekoFohtkFMySZYBUUd5pLyk3xysKyBOvjFGI2gnHFgeodyHA0XlFMVF5RTFReUUxUXlFMVF5RTleixQezwMtbnnLmogpJOyLkt1uec2fgjz6mKKijPNo4FVVCIP9KcHLIE5WJyckkKysXklBAVlIvJKUUVlIvJsaAKynEsRA82JThrYb9nM4dignIcC/7Ic6rignKq4oJyquKCcqrignKq4oJyquKCcqrignKq4oJyquKCcqrignKq4oJyqvL/Af19tn1exSZjAAAAAElFTkSuQmCC)"
      ],
      "metadata": {
        "id": "tQ4arnQTrPZK"
      }
    },
    {
      "cell_type": "code",
      "source": [
        "#쓰기모드 - 원래 내용이 지워짐\n",
        "f = open(\"새파일.txt\",'w')\n",
        "for i in range(11, 19):\n",
        "    data = \"%d번째 줄입니다.\\n\" % i\n",
        "    f.write(data)\n",
        "f.close()"
      ],
      "metadata": {
        "id": "bZOKc-kWrLQ8"
      },
      "execution_count": null,
      "outputs": []
    },
    {
      "cell_type": "markdown",
      "source": [
        "![image.png](data:image/png;base64,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)"
      ],
      "metadata": {
        "id": "KkBfrcRprhxi"
      }
    },
    {
      "cell_type": "markdown",
      "source": [
        "## with 문과 함께 사용하기"
      ],
      "metadata": {
        "id": "GxxAjjGLrku6"
      }
    },
    {
      "cell_type": "code",
      "source": [
        "f = open(\"foo.txt\", 'w')\n",
        "f.write(\"Life is too short, you need python\")\n",
        "f.close()\n",
        "\n",
        "with open(\"foo.txt\", \"w\") as f:\n",
        "    f.write(\"Life is too short, you need python\")"
      ],
      "metadata": {
        "id": "H8zLcTd5rfCs"
      },
      "execution_count": null,
      "outputs": []
    },
    {
      "cell_type": "markdown",
      "source": [
        "# 클래스\n",
        "\n",
        "- 관련 있는 변수와 함수를 하나로 묶은 것\n",
        "- 비슷한 데이터 + 기능을 묶어서 프ㅗ그래믈 더 체계적이고 깔끔하게 만드는 도구"
      ],
      "metadata": {
        "id": "0HHt7imz_nbH"
      }
    },
    {
      "cell_type": "markdown",
      "source": [
        "## 클래스와 객체\n",
        "클래스를 사용하면 객체별로 독립적인 값을 유지할 수 있다."
      ],
      "metadata": {
        "id": "w9WdTHx4AqoQ"
      }
    },
    {
      "cell_type": "code",
      "source": [
        "class Calculator:\n",
        "    def __init__(self):\n",
        "        self.result = 0\n",
        "\n",
        "    def add(self, num):\n",
        "        self.result += num\n",
        "        return self.result\n",
        "\n",
        "cal1 = Calculator()\n",
        "cal2 = Calculator()\n",
        "\n",
        "print(cal1.add(3))\n",
        "print(cal1.add(4))\n",
        "print(cal2.add(3))\n",
        "print(cal2.add(7))"
      ],
      "metadata": {
        "colab": {
          "base_uri": "https://localhost:8080/"
        },
        "id": "ht5fqXq-_oqk",
        "outputId": "342ba0c1-f22c-4a78-ec68-ea3f25abb4c7"
      },
      "execution_count": null,
      "outputs": [
        {
          "output_type": "stream",
          "name": "stdout",
          "text": [
            "3\n",
            "7\n",
            "3\n",
            "10\n"
          ]
        }
      ]
    },
    {
      "cell_type": "code",
      "source": [
        "class FourCal:\n",
        "    def setdata(self, first, second):\n",
        "        self.first = first\n",
        "        self.second = second\n",
        "\n",
        "    def add(self):\n",
        "        return self.first + self.second\n",
        "\n",
        "    def mul(self):\n",
        "        return self.first * self.second\n",
        "\n",
        "    def sub(self):\n",
        "        return self.first - self.second\n",
        "\n",
        "    def div(self):\n",
        "        return self.first / self.second\n",
        "\n",
        "a = FourCal()\n",
        "a.setdata(4,2)\n",
        "print(a.add())\n",
        "print(a.mul())\n",
        "print(a.sub())\n",
        "print(a.div())"
      ],
      "metadata": {
        "colab": {
          "base_uri": "https://localhost:8080/"
        },
        "id": "M1dyXSZ5_prx",
        "outputId": "2fb27398-686d-470f-d9a1-6a73e83cc432"
      },
      "execution_count": null,
      "outputs": [
        {
          "output_type": "stream",
          "name": "stdout",
          "text": [
            "6\n",
            "8\n",
            "2\n",
            "2.0\n"
          ]
        }
      ]
    },
    {
      "cell_type": "code",
      "source": [
        "class FourCal1:\n",
        "    def __init__(self, first=4, second=2):\n",
        "        self.first = first\n",
        "        self.second = second\n",
        "\n",
        "    def add(self):\n",
        "        return self.first + self.second\n",
        "\n",
        "    def mul(self):\n",
        "        return self.first * self.second\n",
        "\n",
        "    def sub(self):\n",
        "        return self.first - self.second\n",
        "\n",
        "    def div(self):\n",
        "        return self.first / self.second\n",
        "\n",
        "a = FourCal1(2)\n",
        "#a.setdata(4,2)\n",
        "print(a.add())\n",
        "print(a.mul())\n",
        "print(a.sub())\n",
        "print(a.div())"
      ],
      "metadata": {
        "colab": {
          "base_uri": "https://localhost:8080/"
        },
        "id": "MW5ZhnJJCL1S",
        "outputId": "0a6dbe5c-cb0a-42b6-d581-a8b76f98b26e"
      },
      "execution_count": null,
      "outputs": [
        {
          "output_type": "stream",
          "name": "stdout",
          "text": [
            "4\n",
            "4\n",
            "0\n",
            "1.0\n"
          ]
        }
      ]
    },
    {
      "cell_type": "markdown",
      "source": [
        "## 생성자\n",
        "- __init__ 메서드를 생성자라고 부른다.\n",
        "- 객체가 생성될 떄 자동 호출된다."
      ],
      "metadata": {
        "id": "Nv60aDNEDjza"
      }
    },
    {
      "cell_type": "code",
      "source": [
        "class FourCal1:\n",
        "    def __init__(self, first=4, second=2):\n",
        "        self.first = first\n",
        "        self.second = second\n",
        "        print(\"객체 생성!\")\n",
        "\n",
        "a = FourCal1()"
      ],
      "metadata": {
        "colab": {
          "base_uri": "https://localhost:8080/"
        },
        "id": "KHuNmv7uCSkC",
        "outputId": "a1d22b04-5f2b-4b3b-f8ab-8cab811fe3bd"
      },
      "execution_count": null,
      "outputs": [
        {
          "output_type": "stream",
          "name": "stdout",
          "text": [
            "객체 생성!\n"
          ]
        }
      ]
    },
    {
      "cell_type": "markdown",
      "source": [
        "## 클래스의 상속\n",
        "- 상속받으면 기존 크래스의 기능을 그대로 사용할 수 있다."
      ],
      "metadata": {
        "id": "Z0828JL6EFXZ"
      }
    },
    {
      "cell_type": "code",
      "source": [
        "#위에서 정의한 FourCal 상속\n",
        "class MoreFourCal(FourCal1):\n",
        "    def pow(self):\n",
        "        return self.first ** self.second\n",
        "\n",
        "b = MoreFourCal(4,2)\n",
        "print(b.pow())\n",
        "print(b.add())"
      ],
      "metadata": {
        "colab": {
          "base_uri": "https://localhost:8080/"
        },
        "id": "XEBtA8SMD5Uj",
        "outputId": "59d484ba-9473-4d09-f9d6-43be11c2f7a4"
      },
      "execution_count": null,
      "outputs": [
        {
          "output_type": "stream",
          "name": "stdout",
          "text": [
            "16\n",
            "6\n"
          ]
        }
      ]
    },
    {
      "cell_type": "markdown",
      "source": [
        "## 메서드 오버라이딩\n",
        "- 상속한 후 메서드를 재정의하면 오버라이딩이라고 한다."
      ],
      "metadata": {
        "id": "0GzmRPjNFxHR"
      }
    },
    {
      "cell_type": "code",
      "source": [
        "class SafeFourCal(FourCal1):\n",
        "    def div(self):\n",
        "         if self.second == 0:\n",
        "             return 0\n",
        "         else:\n",
        "             return self.first / self.second\n",
        "\n",
        "a = SafeFourCal(4,2)\n",
        "print(a.div())"
      ],
      "metadata": {
        "colab": {
          "base_uri": "https://localhost:8080/"
        },
        "id": "9rEspF-vEa2z",
        "outputId": "a711eb2b-00f9-43d6-91d2-74b9f54d0b03"
      },
      "execution_count": null,
      "outputs": [
        {
          "output_type": "stream",
          "name": "stdout",
          "text": [
            "2.0\n"
          ]
        }
      ]
    },
    {
      "cell_type": "markdown",
      "source": [
        "# API"
      ],
      "metadata": {
        "id": "fs5CJH92eQsT"
      }
    },
    {
      "cell_type": "markdown",
      "source": [
        "## the cat api"
      ],
      "metadata": {
        "id": "e_57aazghnBN"
      }
    },
    {
      "cell_type": "code",
      "source": [
        "import requests\n",
        "from IPython.display import Image, display\n",
        "\n",
        "url = \"https://api.thecatapi.com/v1/images/search\"\n",
        "response = requests.get(url)\n",
        "data = response.json()\n",
        "cat_url = data[0]['url']\n",
        "\n",
        "print(\"오늘의 고양이 사진:\")\n",
        "display(Image(url=cat_url))"
      ],
      "metadata": {
        "id": "9NUp6spnHSVE",
        "colab": {
          "base_uri": "https://localhost:8080/",
          "height": 264
        },
        "outputId": "47648e83-2616-4b67-a723-a6c9079e9ff0"
      },
      "execution_count": 11,
      "outputs": [
        {
          "output_type": "stream",
          "name": "stdout",
          "text": [
            "오늘의 고양이 사진:\n"
          ]
        },
        {
          "output_type": "display_data",
          "data": {
            "text/html": [
              "<img src=\"https://cdn2.thecatapi.com/images/8u.gif\"/>"
            ],
            "text/plain": [
              "<IPython.core.display.Image object>"
            ]
          },
          "metadata": {}
        }
      ]
    },
    {
      "cell_type": "markdown",
      "source": [
        "## meteo api"
      ],
      "metadata": {
        "id": "AhbF_GY3hrHM"
      }
    },
    {
      "cell_type": "code",
      "source": [
        "import requests\n",
        "from datetime import datetime\n",
        "\n",
        "latitude = 37.5665\n",
        "longitude = 126.9780\n",
        "today = '2025-04-14'\n",
        "url = (\n",
        "    f\"https://api.open-meteo.com/v1/forecast?\"\n",
        "    f\"latitude={latitude}&longitude={longitude}\"\n",
        "    f\"&daily=temperature_2m_max,temperature_2m_min&timezone=Asia%2FSeoul\"\n",
        ")\n",
        "response = requests.get(url)\n",
        "data = response.json()\n",
        "dates = data['daily']['time']\n",
        "max_temps = data['daily']['temperature_2m_max']\n",
        "min_temps = data['daily']['temperature_2m_min']\n",
        "\n",
        "for date in dates:\n",
        "    if date == str(today):\n",
        "        i = dates.index(date)\n",
        "        print(f\"({today}) 서울 날씨\")\n",
        "        print(f\"- 최고기온: {max_temps[i]}°C\")\n",
        "        print(f\"- 최저기온: {min_temps[i]}°C\\n\")"
      ],
      "metadata": {
        "colab": {
          "base_uri": "https://localhost:8080/"
        },
        "id": "2C1ohm10gsVn",
        "outputId": "19f3a635-5d31-4c59-c63f-9656b33715a7"
      },
      "execution_count": 22,
      "outputs": [
        {
          "output_type": "stream",
          "name": "stdout",
          "text": [
            "(2025-04-14) 서울 날씨\n",
            "- 최고기온: 6.2°C\n",
            "- 최저기온: 1.9°C\n",
            "\n"
          ]
        }
      ]
    },
    {
      "cell_type": "markdown",
      "source": [
        "## 명언 api"
      ],
      "metadata": {
        "id": "GK-ZXDGflrBO"
      }
    },
    {
      "cell_type": "code",
      "source": [
        "import requests\n",
        "\n",
        "url = \"https://zenquotes.io/api/random\"\n",
        "response = requests.get(url)\n",
        "data = response.json()\n",
        "data\n",
        "import json\n",
        "print(json.dumps(data,indent=3))\n",
        "\n",
        "quote = data[0]['q']\n",
        "auther = data[0]['a']\n",
        "\n",
        "print(\"\\n오늘의 명언\")\n",
        "print(f'\"{quote}\" - {auther}')"
      ],
      "metadata": {
        "colab": {
          "base_uri": "https://localhost:8080/"
        },
        "id": "gBDiUMWBkCX3",
        "outputId": "6da780d2-5e7f-41a3-8083-2960b1d3966b"
      },
      "execution_count": 24,
      "outputs": [
        {
          "output_type": "stream",
          "name": "stdout",
          "text": [
            "[\n",
            "   {\n",
            "      \"q\": \"Character is destiny.\",\n",
            "      \"a\": \"Heraclitus\",\n",
            "      \"h\": \"<blockquote>&ldquo;Character is destiny.&rdquo; &mdash; <footer>Heraclitus</footer></blockquote>\"\n",
            "   }\n",
            "]\n",
            "\n",
            "오늘의 명언\n",
            "\"Character is destiny.\" - Heraclitus\n"
          ]
        }
      ]
    },
    {
      "cell_type": "code",
      "source": [],
      "metadata": {
        "id": "yT0vWRrxl9in"
      },
      "execution_count": null,
      "outputs": []
    }
  ]
}