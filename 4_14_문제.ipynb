{
  "nbformat": 4,
  "nbformat_minor": 0,
  "metadata": {
    "colab": {
      "provenance": []
    },
    "kernelspec": {
      "name": "python3",
      "display_name": "Python 3"
    },
    "language_info": {
      "name": "python"
    }
  },
  "cells": [
    {
      "cell_type": "markdown",
      "source": [
        "# 4장 연습문제"
      ],
      "metadata": {
        "id": "xO5AG-Drr-dz"
      }
    },
    {
      "cell_type": "code",
      "execution_count": null,
      "metadata": {
        "colab": {
          "base_uri": "https://localhost:8080/"
        },
        "id": "5VsnWeXzn2sW",
        "outputId": "bc7b3de2-3333-4543-ff8c-7fc693a98e95"
      },
      "outputs": [
        {
          "output_type": "stream",
          "name": "stdout",
          "text": [
            "True\n"
          ]
        }
      ],
      "source": [
        "#1\n",
        "def is_odd(number):\n",
        "    if number:\n",
        "        return True\n",
        "    else:\n",
        "        return False\n",
        "\n",
        "print(is_odd(3))"
      ]
    },
    {
      "cell_type": "code",
      "source": [
        "#2\n",
        "def avg_numbers(*args):\n",
        "    result = 0\n",
        "    for i in args:\n",
        "        result += i\n",
        "    return result/len(args)\n",
        "\n",
        "print(avg_numbers(1,2))\n",
        "print(avg_numbers(1,2,3,4,5))"
      ],
      "metadata": {
        "colab": {
          "base_uri": "https://localhost:8080/"
        },
        "id": "tAUFAOpqsCVN",
        "outputId": "8432658c-1298-4731-ee61-fba1a1fd653a"
      },
      "execution_count": null,
      "outputs": [
        {
          "output_type": "stream",
          "name": "stdout",
          "text": [
            "1.5\n",
            "3.0\n"
          ]
        }
      ]
    },
    {
      "cell_type": "code",
      "source": [
        "#3\n",
        "input1 = int(input(\"첫 번째 숫자를 입력하세요: \"))\n",
        "input2 = int(input(\"두 번째 숫자를 입력하세요: \"))\n",
        "\n",
        "total = input1 + input2\n",
        "print(\"두 수의 합은 %d입니다\" % total)"
      ],
      "metadata": {
        "colab": {
          "base_uri": "https://localhost:8080/"
        },
        "id": "LwOPBOYlsCnf",
        "outputId": "717fd02d-fc14-4032-853f-4e9d099fd8bc"
      },
      "execution_count": null,
      "outputs": [
        {
          "output_type": "stream",
          "name": "stdout",
          "text": [
            "첫 번째 숫자를 입력하세요: 1\n",
            "두 번째 숫자를 입력하세요: 2\n",
            "두 수의 합은 3입니다\n"
          ]
        }
      ]
    },
    {
      "cell_type": "code",
      "source": [
        "#4\n",
        "#1)\n",
        "print(\"you\" \"need\" \"python\")\n",
        "#2)\n",
        "print(\"you\" + \"need\" + \"python\")\n",
        "#3)\n",
        "print(\"you\", \"need\",\"python\")\n",
        "#4)\n",
        "print(\"\".join([\"you\",\"need\",\"python\"]))"
      ],
      "metadata": {
        "colab": {
          "base_uri": "https://localhost:8080/"
        },
        "id": "YEZKX-f5sDN7",
        "outputId": "9b0af36d-b3f2-4fed-f450-1ab255e439a8"
      },
      "execution_count": null,
      "outputs": [
        {
          "output_type": "stream",
          "name": "stdout",
          "text": [
            "youneedpython\n",
            "youneedpython\n",
            "you need python\n",
            "youneedpython\n"
          ]
        }
      ]
    },
    {
      "cell_type": "code",
      "source": [
        "#5\n",
        "f1 = open(\"test.txt\",'w')\n",
        "f1.write(\"Life is too short\")\n",
        "f1.close()\n",
        "\n",
        "f2 = open(\"test.txt\",'r')\n",
        "print(f2.read())\n",
        "f2.close()"
      ],
      "metadata": {
        "colab": {
          "base_uri": "https://localhost:8080/"
        },
        "id": "JKoq-icMsDh7",
        "outputId": "94427580-ebb2-4c24-8fbb-39cd57302161"
      },
      "execution_count": null,
      "outputs": [
        {
          "output_type": "stream",
          "name": "stdout",
          "text": [
            "Life is too short\n"
          ]
        }
      ]
    },
    {
      "cell_type": "code",
      "source": [
        "#6\n",
        "user_input = input(\"저장할 내용을 입력하세요:\")\n",
        "f = open(\"test.txt\",'a')\n",
        "f.write(\"user_input\")\n",
        "f.write(\"\\n\")\n",
        "f.close()"
      ],
      "metadata": {
        "colab": {
          "base_uri": "https://localhost:8080/"
        },
        "id": "R_IddshXuH8t",
        "outputId": "005a3fb7-fc22-4ffe-8753-902c77c70a59"
      },
      "execution_count": null,
      "outputs": [
        {
          "name": "stdout",
          "output_type": "stream",
          "text": [
            "저장할 내용을 입력하세요:asdf\n"
          ]
        }
      ]
    },
    {
      "cell_type": "code",
      "source": [
        "f = open(\"test.txt\",\"w\")\n",
        "f.write(\"Life is too short\\nyou need java\")\n",
        "f.close()"
      ],
      "metadata": {
        "id": "ZmFrmJ66w0MF"
      },
      "execution_count": null,
      "outputs": []
    },
    {
      "cell_type": "code",
      "source": [
        "#7\n",
        "f = open(\"test.txt\",\"r\")\n",
        "body = f.read()\n",
        "f.close()\n",
        "body = body.replace(\"java\",\"python\")\n",
        "f = open(\"test.txt\",\"w\")\n",
        "f.write(body)\n",
        "f.close()"
      ],
      "metadata": {
        "id": "E7jKcpLuutgO"
      },
      "execution_count": null,
      "outputs": []
    },
    {
      "cell_type": "code",
      "source": [
        "#8\n",
        "import sys\n",
        "\n",
        "result = 0\n",
        "args = sys.argv[1:]\n",
        "\n",
        "for i in args:\n",
        "    result += int(i)\n",
        "\n",
        "print(result)"
      ],
      "metadata": {
        "id": "Iyojj6BzvdRd"
      },
      "execution_count": null,
      "outputs": []
    },
    {
      "cell_type": "code",
      "source": [
        "f = open(\"myargv.py\",'w')\n",
        "data = \"\"\"import sys\n",
        "\n",
        "result = 0\n",
        "args = sys.argv[1:]\n",
        "\n",
        "for i in args:\n",
        "    result += int(i)\n",
        "\n",
        "print(result)\n",
        "\"\"\"\n",
        "f.write(data)\n",
        "f.close()"
      ],
      "metadata": {
        "id": "vvyhDl-fxva8"
      },
      "execution_count": null,
      "outputs": []
    },
    {
      "cell_type": "code",
      "source": [
        "!python myargv.py 1 2 3 4 5"
      ],
      "metadata": {
        "colab": {
          "base_uri": "https://localhost:8080/"
        },
        "id": "uRSz-5ZjxoLU",
        "outputId": "c3def554-f67a-4904-ceef-2f9b233a8e54"
      },
      "execution_count": null,
      "outputs": [
        {
          "output_type": "stream",
          "name": "stdout",
          "text": [
            "15\n"
          ]
        }
      ]
    },
    {
      "cell_type": "markdown",
      "source": [
        "아침 루틴 만들기"
      ],
      "metadata": {
        "id": "jHBk25dyrgS3"
      }
    },
    {
      "cell_type": "code",
      "source": [
        "import requests\n",
        "from IPython.display import Image, display\n",
        "from datetime import datetime\n",
        "import random\n",
        "\n",
        "class Routine:\n",
        "    def __init__(self,latitude,longitude):\n",
        "        self.latitude = latitude\n",
        "        self.longitude = longitude\n",
        "\n",
        "    def cat(self):\n",
        "        url = \"https://api.thecatapi.com/v1/images/search\"\n",
        "        response = requests.get(url)\n",
        "        data = response.json()\n",
        "        cat_url = data[0]['url']\n",
        "\n",
        "        print(\"오늘의 고양이 사진:\")\n",
        "        display(Image(url=cat_url))\n",
        "\n",
        "    def weather(self):\n",
        "        today = '2025-04-14'\n",
        "        url = (\n",
        "            f\"https://api.open-meteo.com/v1/forecast?\"\n",
        "            f\"latitude={(self.latitude)}&longitude={(self.longitude)}\"\n",
        "            f\"&daily=temperature_2m_max,temperature_2m_min&timezone=Asia%2FSeoul\"\n",
        "        )\n",
        "        response = requests.get(url)\n",
        "        data = response.json()\n",
        "        dates = data['daily']['time']\n",
        "        max_temps = data['daily']['temperature_2m_max']\n",
        "        min_temps = data['daily']['temperature_2m_min']\n",
        "\n",
        "        for date in dates:\n",
        "            if date == str(today):\n",
        "                i = dates.index(date)\n",
        "                print(f\"({today}) 서울 날씨\")\n",
        "                print(f\"- 최고기온: {max_temps[i]}°C\")\n",
        "                print(f\"- 최저기온: {min_temps[i]}°C\\n\")\n",
        "\n",
        "    def quo(self):\n",
        "        url = \"https://zenquotes.io/api/random\"\n",
        "        response = requests.get(url)\n",
        "        data = response.json()\n",
        "        quote = data[0]['q']\n",
        "        auther = data[0]['a']\n",
        "\n",
        "        print(\"\\n오늘의 명언\")\n",
        "        print(f'\"{quote}\" - {auther}')\n",
        "\n",
        "    def diet(self):\n",
        "        url = \"http://openapi.foodsafetykorea.go.kr/api/sample/COOKRCP01/json/1/5\"\n",
        "        response = requests.get(url)\n",
        "        data = response.json()\n",
        "        num = random.randint(1,len(data['COOKRCP01']['row'])-1)\n",
        "        text = \" \".join(data['COOKRCP01']['row'][0]['RCP_PARTS_DTLS'].split('\\n')[1:])\n",
        "        arr = [\"01\",\"02\",\"03\",\"04\",\"05\",\"06\",\"07\",\"08\",\"09\",\"10\",\"11\",\"12\",\"13\",\"14\",\"15\",\"16\",\"17\",\"18\",\"19\",\"20\"]\n",
        "\n",
        "        print(f\"오늘의 추천 메뉴 : {data['COOKRCP01']['row'][num]['RCP_NM']}\\n\")\n",
        "        print(\"만드는 방법\\n\")\n",
        "        print(f\"재료 : {text}\")\n",
        "        for i in arr:\n",
        "            temp = \"MANUAL\" + i\n",
        "            img = \"MANUAL_IMG\" + i\n",
        "            if(data['COOKRCP01']['row'][num][temp] == \"\"):\n",
        "                break\n",
        "            print(data['COOKRCP01']['row'][num][temp])\n",
        "            display(Image(url=(data['COOKRCP01']['row'][num][img])))\n",
        "            print()\n",
        "\n",
        "    def routine(self):\n",
        "        self.cat()\n",
        "        print()\n",
        "        self.weather()\n",
        "        self.quo()\n",
        "        print()\n",
        "        self.diet()\n",
        "\n",
        "a = Routine(37.5665, 126.9780)\n",
        "a.routine()"
      ],
      "metadata": {
        "id": "OQnzzse1yj1u",
        "colab": {
          "base_uri": "https://localhost:8080/",
          "height": 1000
        },
        "outputId": "1e9c6e73-9904-44fa-81df-394e34f1903e"
      },
      "execution_count": 115,
      "outputs": [
        {
          "output_type": "stream",
          "name": "stdout",
          "text": [
            "오늘의 고양이 사진:\n"
          ]
        },
        {
          "output_type": "display_data",
          "data": {
            "text/html": [
              "<img src=\"https://cdn2.thecatapi.com/images/e91.jpg\"/>"
            ],
            "text/plain": [
              "<IPython.core.display.Image object>"
            ]
          },
          "metadata": {}
        },
        {
          "output_type": "stream",
          "name": "stdout",
          "text": [
            "\n",
            "(2025-04-14) 서울 날씨\n",
            "- 최고기온: 6.2°C\n",
            "- 최저기온: 1.9°C\n",
            "\n",
            "\n",
            "오늘의 명언\n",
            "\"Memory is the scribe of the soul.\" - Aristotle\n",
            "\n",
            "오늘의 추천 메뉴 : 방울토마토 소박이\n",
            "\n",
            "만드는 방법\n",
            "\n",
            "재료 : 연두부 75g(3/4모), 칵테일새우 20g(5마리), 달걀 30g(1/2개), 생크림 13g(1큰술), 설탕 5g(1작은술), 무염버터 5g(1작은술) 고명 시금치 10g(3줄기)\n",
            "1. 물기를 빼고 2cm 정도의 크기로 썰은 부추와 양파를 양념장에 섞어 양념속을 만든다.\n"
          ]
        },
        {
          "output_type": "display_data",
          "data": {
            "text/html": [
              "<img src=\"http://www.foodsafetykorea.go.kr/uploadimg/cook/20_00031_1.png\"/>"
            ],
            "text/plain": [
              "<IPython.core.display.Image object>"
            ]
          },
          "metadata": {}
        },
        {
          "output_type": "stream",
          "name": "stdout",
          "text": [
            "\n",
            "2. 깨끗이 씻은 방울토마토는 꼭지를 떼고 윗부분에 칼로 십자모양으로 칼집을 낸다.\n"
          ]
        },
        {
          "output_type": "display_data",
          "data": {
            "text/html": [
              "<img src=\"http://www.foodsafetykorea.go.kr/uploadimg/cook/20_00031_4.png\"/>"
            ],
            "text/plain": [
              "<IPython.core.display.Image object>"
            ]
          },
          "metadata": {}
        },
        {
          "output_type": "stream",
          "name": "stdout",
          "text": [
            "\n",
            "3. 칼집을 낸 방울토마토에 양념속을 사이사이에 넣어 버무린다.\n"
          ]
        },
        {
          "output_type": "display_data",
          "data": {
            "text/html": [
              "<img src=\"http://www.foodsafetykorea.go.kr/uploadimg/cook/20_00031_5.png\"/>"
            ],
            "text/plain": [
              "<IPython.core.display.Image object>"
            ]
          },
          "metadata": {}
        },
        {
          "output_type": "stream",
          "name": "stdout",
          "text": [
            "\n"
          ]
        }
      ]
    },
    {
      "cell_type": "code",
      "source": [],
      "metadata": {
        "id": "YidNC17E71SN"
      },
      "execution_count": null,
      "outputs": []
    }
  ]
}