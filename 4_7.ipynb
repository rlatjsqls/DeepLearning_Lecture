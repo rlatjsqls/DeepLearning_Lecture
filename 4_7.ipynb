{
  "nbformat": 4,
  "nbformat_minor": 0,
  "metadata": {
    "colab": {
      "provenance": [],
      "collapsed_sections": [
        "v4LLqdl9kt5-",
        "8kGO2jd8l3TW"
      ]
    },
    "kernelspec": {
      "name": "python3",
      "display_name": "Python 3"
    },
    "language_info": {
      "name": "python"
    }
  },
  "cells": [
    {
      "cell_type": "markdown",
      "source": [
        "#함수\n",
        "독립적으로 정의되어 호출될 수 있는 코드 블록\n",
        "- 이미 정의된 내장함수 사용가능(print())\n",
        "- def 키워드를 사용하여 정의\n",
        "- 함수를 호출하면 함수 내부의 코드가 실행됨\n",
        "\n",
        "```\n",
        "def 함수이름(매개변수):\n",
        "    실행할 코드\n",
        "    return 반환값\n",
        "```\n",
        "\n",
        "\n",
        "```\n",
        "def 함수이름(매개변수1, 매개변수2, ...):\n",
        "    실행할 코드\n",
        "    return 반환값\n",
        "```\n",
        "\n",
        "선언 -> 호출 -> 결과"
      ],
      "metadata": {
        "id": "v4LLqdl9kt5-"
      }
    },
    {
      "cell_type": "code",
      "execution_count": null,
      "metadata": {
        "colab": {
          "base_uri": "https://localhost:8080/"
        },
        "id": "inKZDE2XkiQ6",
        "outputId": "8def54a2-f81f-4850-b6a5-66dc00b164ab"
      },
      "outputs": [
        {
          "output_type": "stream",
          "name": "stdout",
          "text": [
            "Hello! \n"
          ]
        }
      ],
      "source": [
        "#함수의 기본 구조\n",
        "\n",
        "def say_hello():\n",
        "    print(\"Hello! \")\n",
        "\n",
        "say_hello()"
      ]
    },
    {
      "cell_type": "markdown",
      "source": [
        "##매개변수와 인자\n",
        "- 매개변수 : 함수 정의 시 괄호 안에 적는 변수\n",
        "- 인자 : 함수를 호출할 때 괄호안에 넣어주는 실제 값\n"
      ],
      "metadata": {
        "id": "qoso6tHsoY4V"
      }
    },
    {
      "cell_type": "code",
      "source": [
        "def greet(name):\n",
        "    print(f\"Hello, {name}!\")\n",
        "\n",
        "greet('kim')\n",
        "text = input('이름 : ')\n",
        "greet(text)"
      ],
      "metadata": {
        "colab": {
          "base_uri": "https://localhost:8080/"
        },
        "id": "brjDMLQ0oSze",
        "outputId": "0f463b34-7af5-42a5-e5b2-8df283c6ef76"
      },
      "execution_count": null,
      "outputs": [
        {
          "output_type": "stream",
          "name": "stdout",
          "text": [
            "Hello, kim!\n",
            "이름 : 김선빈\n",
            "Hello, 김선빈!\n"
          ]
        }
      ]
    },
    {
      "cell_type": "code",
      "source": [
        "def cal_sum():\n",
        "    n1, n2 = map(int,input(\"두 수 입력 : \").split())\n",
        "    print(n1 + n2)\n",
        "\n",
        "cal_sum()"
      ],
      "metadata": {
        "colab": {
          "base_uri": "https://localhost:8080/"
        },
        "collapsed": true,
        "id": "6657WNG9pQse",
        "outputId": "50fdc447-47f5-484c-f07b-d8e67cbbea89"
      },
      "execution_count": null,
      "outputs": [
        {
          "output_type": "stream",
          "name": "stdout",
          "text": [
            "두 수 입력 : 3 4\n",
            "7\n"
          ]
        }
      ]
    },
    {
      "cell_type": "markdown",
      "source": [
        "## 함수의 반환값(return)\n",
        "- 함수가 결과를 돌려주도록 만들 수 있음\n",
        "- return을 쓰지 않으면 결과를 저장하거나 본문에서 활용할 수 없음"
      ],
      "metadata": {
        "id": "WBPIDaopqRD-"
      }
    },
    {
      "cell_type": "code",
      "source": [
        "def add(n1,n2):\n",
        "    return n1 + n2\n",
        "\n",
        "result = add(3,4)\n",
        "print(result)"
      ],
      "metadata": {
        "colab": {
          "base_uri": "https://localhost:8080/"
        },
        "id": "keoBhJjQp94I",
        "outputId": "4d2bd9b7-1701-4757-a137-14b45d1ff6cd"
      },
      "execution_count": null,
      "outputs": [
        {
          "output_type": "stream",
          "name": "stdout",
          "text": [
            "7\n"
          ]
        }
      ]
    },
    {
      "cell_type": "markdown",
      "source": [
        "##매개변수를 지정하여 호출\n",
        "매개변수를 지정하면 다음과 같이 순서에 상관없이 사용할 수 있다는 장점이 있음"
      ],
      "metadata": {
        "id": "ahAxfjtRs6C2"
      }
    },
    {
      "cell_type": "code",
      "source": [
        "def sub(a,b):\n",
        "    return a - b\n",
        "\n",
        "result = sub(a=7,b=3)\n",
        "print(result)\n",
        "\n",
        "result = sub(b=5, a=3)\n",
        "print(result)"
      ],
      "metadata": {
        "colab": {
          "base_uri": "https://localhost:8080/"
        },
        "id": "D5Y-6WIUs7lI",
        "outputId": "23a960ed-8ca0-4ffc-f959-648561f0ac78"
      },
      "execution_count": null,
      "outputs": [
        {
          "output_type": "stream",
          "name": "stdout",
          "text": [
            "4\n",
            "-2\n"
          ]
        }
      ]
    },
    {
      "cell_type": "markdown",
      "source": [
        "## 키워드 인자\n",
        "키워드 매개변수를 사용할 때는 매개변수 앞에 별 2개를 붙임"
      ],
      "metadata": {
        "id": "wUB2BZeKs9i2"
      }
    },
    {
      "cell_type": "code",
      "source": [
        "def print_kwargs(**kwargs):\n",
        "    print(kwargs)\n",
        "\n",
        "print_kwargs(a=1)\n",
        "print_kwargs(name='foo',age=3)"
      ],
      "metadata": {
        "colab": {
          "base_uri": "https://localhost:8080/"
        },
        "id": "pxu4LnS0tBwG",
        "outputId": "84024e9f-9ad1-433e-ff93-bedae807753b"
      },
      "execution_count": null,
      "outputs": [
        {
          "output_type": "stream",
          "name": "stdout",
          "text": [
            "{'a': 1}\n",
            "{'name': 'foo', 'age': 3}\n"
          ]
        }
      ]
    },
    {
      "cell_type": "markdown",
      "source": [
        "## 가변 인자\n",
        "입력값 개수가 정해져 있지 않을 때 사용"
      ],
      "metadata": {
        "id": "gsp_r0-9tCBe"
      }
    },
    {
      "cell_type": "code",
      "source": [
        "def show_args(*args):\n",
        "    for arg in args:\n",
        "        print(arg)\n",
        "\n",
        "show_args([1,2,3])\n",
        "\n",
        "def show_kwargs(**kwargs):\n",
        "    for key, value in kwargs.items():\n",
        "        print(f\"{key} : {value}\")\n",
        "\n",
        "show_kwargs(name='kkk',age = 29)"
      ],
      "metadata": {
        "colab": {
          "base_uri": "https://localhost:8080/"
        },
        "id": "I84AFywKtEEq",
        "outputId": "48da4523-d8f1-4e9d-a117-4ae7aecc3300"
      },
      "execution_count": null,
      "outputs": [
        {
          "output_type": "stream",
          "name": "stdout",
          "text": [
            "[1, 2, 3]\n",
            "name : kkk\n",
            "age : 29\n"
          ]
        }
      ]
    },
    {
      "cell_type": "markdown",
      "source": [
        "#메서드(method)\n",
        "특정 객체에서 호출되며, 그 객체의 상태를 변경하거나 동작을 수행\n",
        "- 특정 객체(클래스의 인스턴스)에 종속되어 사용됨\n",
        "- 객체이름 뒤에 .을 붙이고 메서드의 이름을 써서 호출\n",
        "\n",
        "\n",
        "```\n",
        "list.append('a')\n",
        "```\n",
        "\n",
        "## 장점\n",
        "\n",
        "- 코드 재사용성을 높여 개발 시간을 단축시킴\n",
        "- 가독성과 유지보수성을 향상시킴\n",
        "- 복잡성을 줄이고 관리를 용이하게 함\n",
        "\n",
        "## 단점\n",
        "\n",
        "- 함수와 메서드가 너무 많아지면 코드 관리가 어려워질 수 있음\n",
        "- 함수와 메서드의 오류는 전체 프로그램에 영향을 미침\n",
        "- 복잡한 함수는 이해하기 어려워지고 디버깅이 어려울 수 있음"
      ],
      "metadata": {
        "id": "8kGO2jd8l3TW"
      }
    },
    {
      "cell_type": "code",
      "source": [
        "arr = []\n",
        "arr.append('a')\n",
        "print(arr)"
      ],
      "metadata": {
        "colab": {
          "base_uri": "https://localhost:8080/"
        },
        "id": "7UozTFITB78k",
        "outputId": "be4ff474-7132-4b2d-b15b-3e23ebe1e2a9"
      },
      "execution_count": null,
      "outputs": [
        {
          "output_type": "stream",
          "name": "stdout",
          "text": [
            "['a']\n"
          ]
        }
      ]
    },
    {
      "cell_type": "markdown",
      "source": [
        "#모듈\n",
        "관련된 함수, 클래스, 변수 등을 하나의 파일로 모아 놓은 것\n",
        "- 모듈은 일반적인 파이썬 파일\n",
        "- 독립적인 모듈은 다른 모듈에 영향을 미치지 않고 개발 및 수정이 가능\n",
        "- 파이썬 파일에서 import 키워드를 사용하여 모듈 불러올 수 있음\n",
        "\n",
        "\n",
        "\n",
        "```\n",
        "import 모듈_이름\n",
        "```\n",
        "\n",
        "\n",
        "```\n",
        "from 모듈_이름 import 모듈_함수\n",
        "```\n",
        "\n",
        "\n",
        "```\n",
        "# mod1.py 예시\n",
        "def add(a, b):\n",
        "    return a + b\n",
        "\n",
        "def sub(a, b):\n",
        "    return a-b\n",
        "```\n",
        "\n",
        "\n",
        "```\n",
        "#main.py\n",
        "import mod1\n",
        "print(mod.add(3,4))\n",
        "print(mod.sub(4,2))\n",
        "```\n",
        "\n",
        "\n"
      ],
      "metadata": {
        "id": "aIdRvd6ExUqw"
      }
    },
    {
      "cell_type": "markdown",
      "source": [
        "###if __name__ == \"__main__\":의 의미\n",
        "\n",
        "\n",
        "```\n",
        "# mod1.py\n",
        "def add(a, b):\n",
        "    return a+b\n",
        "\n",
        "def sub(a, b):\n",
        "    return a-b\n",
        "\n",
        "print(add(1, 4))\n",
        "print(sub(4, 2))\n",
        "```\n",
        "위와 같이 함수가 있는 파일이 선언되어 있을때 함수를 불러서 쓰게되면 위의 파일이 실행되면서 필요없는 print가 실행된다.\n",
        "\n",
        "이런 경우를 막기 위해\n",
        "\n",
        "\n",
        "\n",
        "```\n",
        "# mod1.py\n",
        "def add(a, b):\n",
        "    return a+b\n",
        "\n",
        "def sub(a, b):\n",
        "    return a-b\n",
        "\n",
        "if __name__ == \"__main__\":\n",
        "    print(add(1, 4))\n",
        "    print(sub(4, 2))\n",
        "```\n",
        "\n",
        "함수가 있는 파일의 코드를 이런식으로 수정해서 사용해야 필요한 함수만 사용할 수 있다.\n",
        "\n",
        "\n",
        "\n",
        "\n",
        "\n"
      ],
      "metadata": {
        "id": "SsDVhyjiC7a8"
      }
    },
    {
      "cell_type": "markdown",
      "source": [
        "#패키지\n",
        "관련된 모듈을 하나의 디렉터리로 모아 놓은 것\n",
        "- 패키지 디렉터리에는 __init__.py 파일이 포함되어 있어야 하며, 이 파일은 해당 디렉터리가 패키지임을 알려줌\n",
        "- 패키지를 사용하면 코드의 구조화와 조직화가 용이\n",
        "- 모듈 간의 이름 충돌을 방지\n",
        "\n",
        "패키지의 예시\n",
        "\n",
        "```\n",
        "game/\n",
        "    __init__.py\n",
        "    sound/\n",
        "        __init__.py\n",
        "        echo.py\n",
        "        wav.py\n",
        "    graphic/\n",
        "        __init__.py\n",
        "        screen.py\n",
        "        render.py\n",
        "    play/\n",
        "        __init__.py\n",
        "        run.py\n",
        "        test.py\n",
        "```\n",
        "\n"
      ],
      "metadata": {
        "id": "Uo3u5FtRyvsx"
      }
    },
    {
      "cell_type": "markdown",
      "source": [
        "#Random 모듈\n",
        "- 무작위 값을 생성할 때 사용하는 파이썬 표준 라이브러리\n",
        "- 주로 난수 생성, 무작위 선택, 섞기 등에 사용\n",
        "- import random 명령어를 통해 사용할 수 있음\n",
        "\n",
        "## 관련함수\n",
        "- random.random() : 0~1 사이 실수 반환\n",
        "- random.randint(a,b) : a~b 사이 정수 반환\n",
        "- random.choice(seq) : 시퀀스에서 하나 선택\n",
        "- random.sample(seq,k) : 시퀀스에서 k개 샘플 추출(중복없음)\n",
        "- random.shuffle(list) : 리스트 섞기\n",
        "- random.seed(value) : 난수 고정"
      ],
      "metadata": {
        "id": "YEeGK49Tfwta"
      }
    },
    {
      "cell_type": "code",
      "source": [
        "#무작위에도 규칙이 있음\n",
        "#seed -> 무작위를 위한 규칙. 동일한 규칙을 가지고 무작위 수 생성\n",
        "#무작위지만, 다른사람들과 공통된 값을 확인할 수 있다.\n",
        "\n",
        "import random\n",
        "\n",
        "print(random.random())\n",
        "print(random.random()*1000)\n",
        "print(random.randint(1,5))\n",
        "\n",
        "list_a = [1,2,3,4,5,6,7,8,9,0]\n",
        "print(random.choice(list_a))\n",
        "\n",
        "text = \"rkskekfkakqktkdkwkzkxkvkxkgk\"\n",
        "print(random.choice(text))\n",
        "\n",
        "print(random.sample(list_a,3))\n",
        "print(random.sample(text,3))\n",
        "\n",
        "print(list_a)\n",
        "random.shuffle(list_a)\n",
        "print(list_a)\n",
        "\n",
        "random.seed(42)\n",
        "print(random.randint(1,100))"
      ],
      "metadata": {
        "colab": {
          "base_uri": "https://localhost:8080/"
        },
        "id": "IRH2I65gfyfx",
        "outputId": "e46d6d4d-9f1d-45a8-fac3-700d8e729f87"
      },
      "execution_count": 1,
      "outputs": [
        {
          "output_type": "stream",
          "name": "stdout",
          "text": [
            "0.2553960423593953\n",
            "415.2747919457557\n",
            "5\n",
            "5\n",
            "k\n",
            "[9, 1, 5]\n",
            "['k', 'k', 't']\n",
            "[1, 2, 3, 4, 5, 6, 7, 8, 9, 0]\n",
            "[7, 5, 0, 9, 8, 1, 4, 3, 6, 2]\n",
            "82\n"
          ]
        }
      ]
    },
    {
      "cell_type": "code",
      "source": [
        "#가위바위보 문제\n",
        "import random\n",
        "\n",
        "list_t = ['가위','바위','보']\n",
        "cnt = 0\n",
        "win = 0\n",
        "lose = 0\n",
        "\n",
        "while(1):\n",
        "    user_t = input('가위 바위 보 중 선택하세요(종료 : 0) : ')\n",
        "    if user_t == \"0\":\n",
        "        if cnt != 0:\n",
        "            print(f\"승리 : {win} 패배 : {lose} 승률 : {win/cnt*100}\")\n",
        "        break\n",
        "    if user_t not in list_t:\n",
        "        print(\"올바른 문자를 입력해주세요\")\n",
        "\n",
        "    else:\n",
        "        com_t = random.choice(list_t)\n",
        "        print(\"==================\")\n",
        "        print(\"컴퓨터 :\",com_t)\n",
        "        if user_t == com_t:\n",
        "            print(\"무승부\")\n",
        "        elif user_t == '가위':\n",
        "            if com_t == '바위':\n",
        "                print(\"패배\")\n",
        "                cnt +=1\n",
        "                lose +=1\n",
        "            else:\n",
        "                print(\"승리\")\n",
        "                cnt +=1\n",
        "                win +=1\n",
        "        elif user_t == '바위':\n",
        "            if com_t == \"보\":\n",
        "                print(\"패배\")\n",
        "                cnt +=1\n",
        "                lose +=1\n",
        "            else:\n",
        "                print(\"승리\")\n",
        "                cnt +=1\n",
        "                win +=1\n",
        "        elif user_t == '보':\n",
        "            if com_t == \"가위\":\n",
        "                print(\"패배\")\n",
        "                cnt +=1\n",
        "                lose +=1\n",
        "            else:\n",
        "                print(\"승리\")\n",
        "                cnt +=1\n",
        "                win +=1\n",
        "        print(\"==================\")"
      ],
      "metadata": {
        "colab": {
          "base_uri": "https://localhost:8080/"
        },
        "collapsed": true,
        "id": "pZdw1CiEf2dz",
        "outputId": "6bfb3575-a3f7-4df4-f9a9-a7df99caeb9f"
      },
      "execution_count": 11,
      "outputs": [
        {
          "output_type": "stream",
          "name": "stdout",
          "text": [
            "가위 바위 보 중 선택하세요(종료 : 0) : 가위\n",
            "==================\n",
            "컴퓨터 : 가위\n",
            "무승부\n",
            "==================\n",
            "가위 바위 보 중 선택하세요(종료 : 0) : 가위\n",
            "==================\n",
            "컴퓨터 : 보\n",
            "승리\n",
            "==================\n",
            "가위 바위 보 중 선택하세요(종료 : 0) : 가위\n",
            "==================\n",
            "컴퓨터 : 가위\n",
            "무승부\n",
            "==================\n",
            "가위 바위 보 중 선택하세요(종료 : 0) : 가위\n",
            "==================\n",
            "컴퓨터 : 가위\n",
            "무승부\n",
            "==================\n",
            "가위 바위 보 중 선택하세요(종료 : 0) : 가위\n",
            "==================\n",
            "컴퓨터 : 보\n",
            "승리\n",
            "==================\n",
            "가위 바위 보 중 선택하세요(종료 : 0) : 가위\n",
            "==================\n",
            "컴퓨터 : 바위\n",
            "패배\n",
            "==================\n",
            "가위 바위 보 중 선택하세요(종료 : 0) : 가위\n",
            "==================\n",
            "컴퓨터 : 가위\n",
            "무승부\n",
            "==================\n",
            "가위 바위 보 중 선택하세요(종료 : 0) : 가위\n",
            "==================\n",
            "컴퓨터 : 가위\n",
            "무승부\n",
            "==================\n",
            "가위 바위 보 중 선택하세요(종료 : 0) : 가위\n",
            "==================\n",
            "컴퓨터 : 보\n",
            "승리\n",
            "==================\n",
            "가위 바위 보 중 선택하세요(종료 : 0) : 가위\n",
            "==================\n",
            "컴퓨터 : 바위\n",
            "패배\n",
            "==================\n",
            "가위 바위 보 중 선택하세요(종료 : 0) : 가위\n",
            "==================\n",
            "컴퓨터 : 바위\n",
            "패배\n",
            "==================\n",
            "가위 바위 보 중 선택하세요(종료 : 0) : 가위\n",
            "==================\n",
            "컴퓨터 : 바위\n",
            "패배\n",
            "==================\n",
            "가위 바위 보 중 선택하세요(종료 : 0) : 0\n",
            "승리 : 3 패배 : 4 승률 : 42.857142857142854\n"
          ]
        }
      ]
    }
  ]
}