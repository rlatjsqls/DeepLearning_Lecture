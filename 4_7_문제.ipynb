{
  "nbformat": 4,
  "nbformat_minor": 0,
  "metadata": {
    "colab": {
      "provenance": []
    },
    "kernelspec": {
      "name": "python3",
      "display_name": "Python 3"
    },
    "language_info": {
      "name": "python"
    }
  },
  "cells": [
    {
      "cell_type": "markdown",
      "source": [
        "## 문제 1\n",
        "\n",
        "두 숫자를 입력받아 더한 결과를 반환하는 함수를 작성한다.\n",
        "\n",
        "- 함수 이름: `add_numbers`\n",
        "- 매개변수: 두 개의 숫자\n",
        "- 반환값: 두 숫자의 합\n",
        "\n",
        "### 예시\n",
        "입력: 3, 5  \n",
        "출력: 8\n",
        "\n",
        "### 추가 : 사칙연산 모두 구현\n"
      ],
      "metadata": {
        "id": "lnORuSpZz6pY"
      }
    },
    {
      "cell_type": "code",
      "execution_count": null,
      "metadata": {
        "id": "ZfMOjOfbzMwx",
        "colab": {
          "base_uri": "https://localhost:8080/"
        },
        "outputId": "4c5a0285-3e18-46e7-c69a-cb397daedc52"
      },
      "outputs": [
        {
          "output_type": "stream",
          "name": "stdout",
          "text": [
            "입력 : 1 3\n",
            "더하기 결과 : 4\n",
            "빼기 결과 : -2\n",
            "곱하기 결과 : 3\n",
            "나누기 결과 : 0.3333333333333333\n"
          ]
        }
      ],
      "source": [
        "def add_numbers(n1,n2):\n",
        "    return (n1 + n2)\n",
        "\n",
        "def subtract_numbers(n1,n2):\n",
        "    return (n1 - n2)\n",
        "\n",
        "def multiply_numbers(n1,n2):\n",
        "    return (n1 * n2)\n",
        "\n",
        "def divide_numbers(n1,n2):\n",
        "    return (n1 / n2)\n",
        "\n",
        "n1, n2 = map(int,(input(\"입력 : \").split()))\n",
        "\n",
        "print(f\"더하기 결과 : {add_numbers(n1,n2)}\")\n",
        "print(f\"빼기 결과 : {subtract_numbers(n1,n2)}\")\n",
        "print(f\"곱하기 결과 : {multiply_numbers(n1,n2)}\")\n",
        "print(f\"나누기 결과 : {divide_numbers(n1,n2)}\")"
      ]
    },
    {
      "cell_type": "markdown",
      "source": [
        "## 문제 2\n",
        "\n",
        "정수를 입력받아 짝수인지 홀수인지 판별하는 함수를 작성한다.\n",
        "\n",
        "- 함수 이름: `check_even_odd`\n",
        "- 매개변수: 정수 하나\n",
        "- 반환값: 문자열 \"짝수입니다.\" 또는 \"홀수입니다.\"\n",
        "\n",
        "### 예시\n",
        "입력: 4  \n",
        "출력: 짝수입니다.\n",
        "\n",
        "입력: 7  \n",
        "출력: 홀수입니다.\n",
        "\n",
        "### 추가 : 짝수 / 홀수 구분하여 리스트에 저장\n"
      ],
      "metadata": {
        "id": "cGx4tXCQz8g4"
      }
    },
    {
      "cell_type": "code",
      "source": [
        "def check_even_odd(n):\n",
        "    if n % 2 == 0:\n",
        "        print(\"짝수입니다.\")\n",
        "    else:\n",
        "        print(\"홀수입니다\")\n",
        "\n",
        "def check_even_odd_test(args):\n",
        "    even_list = []\n",
        "    odd_list = []\n",
        "    for arg in args:\n",
        "        if arg % 2 == 0:\n",
        "            even_list.append(arg)\n",
        "        else:\n",
        "            odd_list.append(arg)\n",
        "    return even_list, odd_list\n",
        "\n",
        "n = int(input(\"입력 : \"))\n",
        "check_even_odd(n)\n",
        "\n",
        "e, o = check_even_odd_test([1,2,3,4,5])\n",
        "print(e)\n",
        "print(o)"
      ],
      "metadata": {
        "colab": {
          "base_uri": "https://localhost:8080/"
        },
        "id": "vQpvZ-rYz9oa",
        "outputId": "75666803-241a-42e3-c68d-6edee9e3d514"
      },
      "execution_count": null,
      "outputs": [
        {
          "output_type": "stream",
          "name": "stdout",
          "text": [
            "[2, 4]\n",
            "[1, 3, 5]\n"
          ]
        }
      ]
    },
    {
      "cell_type": "markdown",
      "source": [
        "## 문제 3\n",
        "\n",
        "주어진 세 숫자 중 가장 큰 수를 반환하는 함수를 작성한다.\n",
        "\n",
        "- 함수 이름: `max_of_three`\n",
        "- 매개변수: 세 개의 숫자\n",
        "- 반환값: 가장 큰 숫자\n",
        "\n",
        "### 예시\n",
        "입력: 5, 8, 2  \n",
        "출력: 8\n",
        "\n",
        "### 추가 : 별도의 내장함수 사용하지 않고 구현"
      ],
      "metadata": {
        "id": "qkNCNOWwz98A"
      }
    },
    {
      "cell_type": "code",
      "source": [
        "def max_of_three(n1,n2,n3):\n",
        "    max_val = n1\n",
        "    if n2 > max_val:\n",
        "        max_val = n2\n",
        "    if n3 > max_val:\n",
        "        max_val = n3\n",
        "\n",
        "    return max_val\n",
        "\n",
        "a,b,c = map(int,input(\"입력 : \").split())\n",
        "print(f\"출력 : {max_of_three(a,b,c)}\")"
      ],
      "metadata": {
        "colab": {
          "base_uri": "https://localhost:8080/"
        },
        "id": "EecXOp8Uz_op",
        "outputId": "298dc583-aeb8-4327-debc-627388989e79"
      },
      "execution_count": null,
      "outputs": [
        {
          "output_type": "stream",
          "name": "stdout",
          "text": [
            "입력 : 5, 8, 2\n",
            "출력 : 8\n"
          ]
        }
      ]
    },
    {
      "cell_type": "markdown",
      "source": [
        "## 문제 4\n",
        "\n",
        "문자열을 입력받아 그 문자열의 길이를 반환하는 함수를 작성한다.\n",
        "\n",
        "- 함수 이름: `string_length`\n",
        "- 매개변수: 문자열 하나\n",
        "- 반환값: 문자열의 길이 (정수형)\n",
        "\n",
        "### 예시\n",
        "입력: \"hello\"  \n",
        "출력: 5\n",
        "\n",
        "### 추가 : 별도의 내장함수 사용하지 않고 구현"
      ],
      "metadata": {
        "id": "gFgqkD0x0AB4"
      }
    },
    {
      "cell_type": "code",
      "source": [
        "def string_length(text):\n",
        "    cnt = 0\n",
        "    for i in text:\n",
        "        cnt += 1\n",
        "    return cnt\n",
        "\n",
        "t = input(\"입력 : \")\n",
        "print(\"출력 :\",string_length(t))"
      ],
      "metadata": {
        "colab": {
          "base_uri": "https://localhost:8080/"
        },
        "id": "I1HQDSqN0Bu5",
        "outputId": "ee436f96-aa9b-40a9-b5b2-6b63cf981020"
      },
      "execution_count": null,
      "outputs": [
        {
          "output_type": "stream",
          "name": "stdout",
          "text": [
            "입력 : hello\n",
            "출력 :  5\n"
          ]
        }
      ]
    },
    {
      "cell_type": "markdown",
      "source": [
        "## 문제 5\n",
        "\n",
        "여러 개의 과목 점수를 입력받아 평균을 반환하는 함수를 작성한다.\n",
        "\n",
        "- 함수 이름: `average_score`\n",
        "- 매개변수: 여러 개의 점수(*args 사용)\n",
        "- 반환값: 평균 점수\n",
        "\n",
        "### 예시\n",
        "입력: 80, 90, 100  \n",
        "출력: 90.0\n"
      ],
      "metadata": {
        "id": "kLkukXxS0DJn"
      }
    },
    {
      "cell_type": "code",
      "source": [
        "def average_score(*args):\n",
        "    cnt = 0\n",
        "    result = 0\n",
        "    for arg in args:\n",
        "        cnt += 1\n",
        "        result += arg\n",
        "    return result/cnt\n",
        "\n",
        "a,b,c = map(int,input().split())\n",
        "print(\"출력 :\",average_score(a,b,c))"
      ],
      "metadata": {
        "colab": {
          "base_uri": "https://localhost:8080/"
        },
        "id": "3kk0dpmZ0DcZ",
        "outputId": "c9fb70b5-159e-40f2-c7f2-ea8265d8116f"
      },
      "execution_count": null,
      "outputs": [
        {
          "output_type": "stream",
          "name": "stdout",
          "text": [
            "10 20 30\n",
            "출력 : 20.0\n"
          ]
        }
      ]
    },
    {
      "cell_type": "markdown",
      "source": [
        "## 문제 6\n",
        "\n",
        "문자열 리스트를 입력받아, 각 문자열의 길이를 담은 리스트를 반환하는 함수를 작성한다.\n",
        "\n",
        "- 함수 이름: `lengths_of_strings`\n",
        "- 매개변수: 문자열 리스트 하나\n",
        "- 반환값: 정수 리스트\n",
        "\n",
        "### 예시\n",
        "입력: [\"apple\", \"banana\", \"kiwi\"]  \n",
        "출력: [5, 6, 4]\n",
        "\n",
        "### 추가 : 별도의 내장함수 사용하지 않고 구현"
      ],
      "metadata": {
        "id": "TVNO2CJs0FUf"
      }
    },
    {
      "cell_type": "code",
      "source": [
        "def lengths_of_strings(*arr):\n",
        "    result = []\n",
        "    for i in arr:\n",
        "        cnt = 0\n",
        "        for j in i:\n",
        "            cnt += 1\n",
        "        result.append(cnt)\n",
        "    return result\n",
        "\n",
        "a, b, c = input(\"입력 : \").split()\n",
        "print(lengths_of_strings(a,b,c))"
      ],
      "metadata": {
        "colab": {
          "base_uri": "https://localhost:8080/"
        },
        "id": "tdwVWDId0Fo5",
        "outputId": "1f9be4be-6112-488f-9fb4-4934ee767eae"
      },
      "execution_count": null,
      "outputs": [
        {
          "output_type": "stream",
          "name": "stdout",
          "text": [
            "입력 : asdf a s\n",
            "[4, 1, 1]\n"
          ]
        }
      ]
    },
    {
      "cell_type": "markdown",
      "source": [
        "## 문제 7\n",
        "\n",
        "문자열을 입력받아, 대문자는 소문자로, 소문자는 대문자로 변환하여 반환하는 함수를 작성한다.\n",
        "\n",
        "- 함수 이름: `swap_case`\n",
        "- 매개변수: 문자열 하나\n",
        "- 반환값: 변환된 문자열\n",
        "\n",
        "### 예시\n",
        "입력: \"HeLLo\"  \n",
        "출력: \"hEllO\"\n"
      ],
      "metadata": {
        "id": "74j-wcCE0H2I"
      }
    },
    {
      "cell_type": "code",
      "source": [
        "def swap_case(text):\n",
        "    result = \"\"\n",
        "    for t in text:\n",
        "        if t.isupper():\n",
        "            result += t.lower()\n",
        "        else:\n",
        "            result += t.upper()\n",
        "    return result\n",
        "\n",
        "text = input(\"입력 : \")\n",
        "print(\"결과 :\",swap_case(text))"
      ],
      "metadata": {
        "colab": {
          "base_uri": "https://localhost:8080/"
        },
        "id": "b4WHhJk50JoY",
        "outputId": "68d1de9d-88fa-46fd-c545-73731d659956"
      },
      "execution_count": null,
      "outputs": [
        {
          "output_type": "stream",
          "name": "stdout",
          "text": [
            "입력 : HeLLo\n",
            "결과 : hEllO\n"
          ]
        }
      ]
    },
    {
      "cell_type": "markdown",
      "source": [
        "## 문제 8\n",
        "\n",
        "숫자 리스트를 입력받아, 0보다 큰 숫자만 골라서 새로운 리스트로 반환하는 함수를 작성한다.\n",
        "\n",
        "- 함수 이름: `filter_positive_numbers`\n",
        "- 매개변수: 숫자 리스트 하나\n",
        "- 반환값: 양수만 담긴 리스트\n",
        "\n",
        "### 예시\n",
        "입력: [-2, 0, 5, 9, -1]  \n",
        "출력: [5, 9]\n"
      ],
      "metadata": {
        "id": "dAmtUmbN0KHQ"
      }
    },
    {
      "cell_type": "code",
      "source": [
        "def filter_positive_numbers(arr):\n",
        "    result = []\n",
        "    for i in arr:\n",
        "        if i > 0:\n",
        "            result.append(i)\n",
        "    return result\n",
        "\n",
        "arr = list(map(int,input().split()))\n",
        "print(\"출력 :\",filter_positive_numbers(arr))"
      ],
      "metadata": {
        "colab": {
          "base_uri": "https://localhost:8080/"
        },
        "id": "cDxkUtww0LrJ",
        "outputId": "ac1b3529-ed57-4a07-f5e6-0e69e92631d2"
      },
      "execution_count": null,
      "outputs": [
        {
          "output_type": "stream",
          "name": "stdout",
          "text": [
            "1 3 5\n",
            "출력 : [1, 3, 5]\n"
          ]
        }
      ]
    },
    {
      "cell_type": "markdown",
      "source": [
        "## 문제 9\n",
        "\n",
        "문자열을 입력받아, 단어별로 분리한 리스트를 반환하는 함수를 작성한다.\n",
        "\n",
        "- 함수 이름: `split_into_words`\n",
        "- 매개변수: 문자열 하나\n",
        "- 반환값: 단어 리스트\n",
        "\n",
        "### 예시\n",
        "입력: \"Python is fun\"  \n",
        "출력: [\"Python\", \"is\", \"fun\"]\n",
        "\n",
        "### 추가 : 별도의 내장함수 사용하지 않고 구현"
      ],
      "metadata": {
        "id": "Aw9jVjBZ0M4v"
      }
    },
    {
      "cell_type": "code",
      "source": [
        "def split_into_words(text):\n",
        "    arr = []\n",
        "    temp = \"\"\n",
        "\n",
        "    for i in text:\n",
        "        if i == \" \":\n",
        "            arr.append(temp)\n",
        "            temp = \"\"\n",
        "        else:\n",
        "            temp += i\n",
        "    arr.append(temp)\n",
        "\n",
        "    return arr\n",
        "\n",
        "text = input(\"입력 : \")\n",
        "print(\"출력 : \",split_into_words(text))"
      ],
      "metadata": {
        "colab": {
          "base_uri": "https://localhost:8080/"
        },
        "id": "cqv9YdZc0NJp",
        "outputId": "56c8d1a4-a60a-4ecc-a3ab-039933feed22"
      },
      "execution_count": null,
      "outputs": [
        {
          "output_type": "stream",
          "name": "stdout",
          "text": [
            "입력 : python is fun\n",
            "출력 :  ['python', 'is', 'fun']\n"
          ]
        }
      ]
    },
    {
      "cell_type": "markdown",
      "source": [
        "## 문제 10\n",
        "\n",
        "문자열과 부분 문자열을 입력받아, 부분 문자열이 몇 번 등장하는지 세는 함수를 작성한다.\n",
        "\n",
        "- 함수 이름: `count_substring`\n",
        "- 매개변수: 문자열 하나, 부분 문자열 하나\n",
        "- 반환값: 등장 횟수 (정수형)\n",
        "\n",
        "### 예시\n",
        "입력: (\"banana\", \"na\")  \n",
        "출력: 2\n"
      ],
      "metadata": {
        "id": "6trq5SPB0Njo"
      }
    },
    {
      "cell_type": "code",
      "source": [
        "def count_substring(text, part):\n",
        "    cnt = 0\n",
        "\n",
        "    for i in range(0,len(text) - len(part)+1):\n",
        "        if text[i:i+len(part)] == part:\n",
        "            cnt += 1\n",
        "\n",
        "    return cnt\n",
        "\n",
        "text, t = input(\"입력 : \").split()\n",
        "print(\"출력 :\",count_substring(text,t))"
      ],
      "metadata": {
        "colab": {
          "base_uri": "https://localhost:8080/"
        },
        "id": "w6HyACIl0PRp",
        "outputId": "36344507-2cc2-4e7d-e7c0-fc01b119df11"
      },
      "execution_count": null,
      "outputs": [
        {
          "output_type": "stream",
          "name": "stdout",
          "text": [
            "입력 : oopeeer e\n",
            "출력 : 3\n"
          ]
        }
      ]
    },
    {
      "cell_type": "markdown",
      "source": [
        "## 문제 11\n",
        "\n",
        "정수 리스트를 입력받아, 리스트 안에서 중복된 숫자만 모아 리스트로 반환하는 함수를 작성한다.\n",
        "\n",
        "- 함수 이름: `find_duplicates`\n",
        "- 매개변수: 숫자 리스트 하나\n",
        "- 반환값: 중복 숫자 리스트\n",
        "\n",
        "### 예시\n",
        "입력: [1, 2, 3, 2, 4, 1]  \n",
        "출력: [1, 2]\n"
      ],
      "metadata": {
        "id": "i_AH0_rQ0P4o"
      }
    },
    {
      "cell_type": "code",
      "source": [
        "def find_duplicates(arr):\n",
        "    dict = {}\n",
        "    result = []\n",
        "    for i in arr:\n",
        "        if i not in dict:\n",
        "            dict[i] = 1\n",
        "        else:\n",
        "            result.append(i)\n",
        "\n",
        "    result.sort()\n",
        "\n",
        "    return result\n",
        "\n",
        "arr = list(map(int,input(\"입력 : \").split()))\n",
        "print(\"출력 :\",find_duplicates(arr))"
      ],
      "metadata": {
        "colab": {
          "base_uri": "https://localhost:8080/"
        },
        "id": "X42_NbwE0Q75",
        "outputId": "738baf56-f2bf-46c0-d838-dd0570b8d4a0"
      },
      "execution_count": null,
      "outputs": [
        {
          "output_type": "stream",
          "name": "stdout",
          "text": [
            "입력 : 1 2 3 2 4 1\n",
            "출력 : [1, 2]\n"
          ]
        }
      ]
    },
    {
      "cell_type": "markdown",
      "source": [
        "## 문제 12\n",
        "\n",
        "두 개의 문자열을 입력받아, 두 문자열이 아나그램인지 판별하는 함수를 작성한다.\n",
        "\n",
        "아나그램: 같은 알파벳을 사용해서 순서만 바꾼 단어\n",
        "- 함수 이름: `is_anagram`\n",
        "- 매개변수: 문자열 두 개\n",
        "- 반환값: True 또는 False\n",
        "\n",
        "### 예시\n",
        "입력: (\"listen\", \"silent\")  \n",
        "출력: True\n",
        "\n",
        "입력: (\"hello\", \"world\")  \n",
        "출력: False\n"
      ],
      "metadata": {
        "id": "4CvgMKVy0STP"
      }
    },
    {
      "cell_type": "code",
      "source": [
        "def is_anagram(t1,t2):\n",
        "    t1_dict = {}\n",
        "    t2_dict = {}\n",
        "\n",
        "    for i in t1:\n",
        "        if i not in t1_dict:\n",
        "            t1_dict[i] = 1\n",
        "        else:\n",
        "            t1_dict[i] += 1\n",
        "\n",
        "    for i in t2:\n",
        "        if i not in t2_dict:\n",
        "            t2_dict[i] = 1\n",
        "        else:\n",
        "            t2_dict[i] += 1\n",
        "\n",
        "    if t1_dict == t2_dict:\n",
        "        return True\n",
        "    return False\n",
        "\n",
        "text1, text2 = input(\"입력 : \").split()\n",
        "print(\"출력 :\",is_anagram(text1,text2))"
      ],
      "metadata": {
        "colab": {
          "base_uri": "https://localhost:8080/"
        },
        "id": "LlywuaLF0Sl5",
        "outputId": "c98280df-6823-471f-beb4-75ac1395be19"
      },
      "execution_count": null,
      "outputs": [
        {
          "output_type": "stream",
          "name": "stdout",
          "text": [
            "입력 : aaeds aaeda\n",
            "출력 : False\n"
          ]
        }
      ]
    },
    {
      "cell_type": "code",
      "source": [
        "#로또 문제\n",
        "import random as r\n",
        "\n",
        "n = int(input(\"몇 세트 생성할까요? \"))\n",
        "\n",
        "for i in range(1,n+1):\n",
        "    print(f\"==========================={i}세트========================\\n\")\n",
        "    number_box = [x for x in range(1,46)]\n",
        "    result_box = []\n",
        "    for _ in range(6):\n",
        "        now_number = r.choice(number_box)\n",
        "        result_box.append(now_number)\n",
        "        number_box.remove(now_number)\n",
        "        result_box.sort()\n",
        "        print(\"현재 뽑힌 번호 :\",result_box)\n",
        "    bonus_number = r.choice(number_box)\n",
        "    print(f\"현재 뽑힌 번호 : {result_box} 보너스 번호 : {bonus_number}\\n\")\n",
        "    result_box.append(bonus_number)\n",
        "    print('=======================================================')\n",
        "    print(\"최종 번호 :\",result_box)\n",
        "    print('=======================================================\\n')"
      ],
      "metadata": {
        "colab": {
          "base_uri": "https://localhost:8080/"
        },
        "id": "l-YcxBUaeVNT",
        "outputId": "51a7f43c-bf6f-4ff9-945a-d04f50edacb6"
      },
      "execution_count": 24,
      "outputs": [
        {
          "output_type": "stream",
          "name": "stdout",
          "text": [
            "몇 세트 생성할까요? 3\n",
            "===========================1세트========================\n",
            "\n",
            "현재 뽑힌 번호 : [6]\n",
            "현재 뽑힌 번호 : [4, 6]\n",
            "현재 뽑힌 번호 : [4, 6, 10]\n",
            "현재 뽑힌 번호 : [4, 6, 10, 13]\n",
            "현재 뽑힌 번호 : [4, 6, 10, 13, 45]\n",
            "현재 뽑힌 번호 : [4, 6, 10, 13, 15, 45]\n",
            "현재 뽑힌 번호 : [4, 6, 10, 13, 15, 45] 보너스 번호 : 33\n",
            "\n",
            "=======================================================\n",
            "최종 번호 : [4, 6, 10, 13, 15, 45, 33]\n",
            "=======================================================\n",
            "\n",
            "===========================2세트========================\n",
            "\n",
            "현재 뽑힌 번호 : [39]\n",
            "현재 뽑힌 번호 : [5, 39]\n",
            "현재 뽑힌 번호 : [5, 26, 39]\n",
            "현재 뽑힌 번호 : [5, 26, 27, 39]\n",
            "현재 뽑힌 번호 : [5, 26, 27, 39, 43]\n",
            "현재 뽑힌 번호 : [5, 26, 27, 33, 39, 43]\n",
            "현재 뽑힌 번호 : [5, 26, 27, 33, 39, 43] 보너스 번호 : 38\n",
            "\n",
            "=======================================================\n",
            "최종 번호 : [5, 26, 27, 33, 39, 43, 38]\n",
            "=======================================================\n",
            "\n",
            "===========================3세트========================\n",
            "\n",
            "현재 뽑힌 번호 : [17]\n",
            "현재 뽑힌 번호 : [17, 37]\n",
            "현재 뽑힌 번호 : [1, 17, 37]\n",
            "현재 뽑힌 번호 : [1, 9, 17, 37]\n",
            "현재 뽑힌 번호 : [1, 9, 17, 37, 39]\n",
            "현재 뽑힌 번호 : [1, 9, 17, 21, 37, 39]\n",
            "현재 뽑힌 번호 : [1, 9, 17, 21, 37, 39] 보너스 번호 : 26\n",
            "\n",
            "=======================================================\n",
            "최종 번호 : [1, 9, 17, 21, 37, 39, 26]\n",
            "=======================================================\n",
            "\n"
          ]
        }
      ]
    },
    {
      "cell_type": "code",
      "source": [],
      "metadata": {
        "id": "l0tSjPJvke-D"
      },
      "execution_count": null,
      "outputs": []
    }
  ]
}